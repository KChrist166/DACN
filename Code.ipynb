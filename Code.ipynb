{
 "cells": [
  {
   "cell_type": "code",
   "execution_count": 2,
   "id": "e76e6c86-455d-47e3-b21d-caf8a3d74c28",
   "metadata": {},
   "outputs": [],
   "source": [
    "import os\n",
    "import io\n",
    "import numpy as np\n",
    "import pandas as pd\n",
    "from PIL import Image\n",
    "from sklearn.model_selection import train_test_split\n",
    "import tensorflow as tf\n",
    "from sklearn.preprocessing import StandardScaler\n",
    "from keras.utils import to_categorical\n",
    "from keras.applications.resnet50 import ResNet50\n",
    "from keras import Sequential, layers, optimizers, Model\n",
    "from keras.layers import Conv2D, MaxPooling2D, Dense, Flatten, Dropout\n",
    "from keras.preprocessing.image import ImageDataGenerator\n",
    "from sklearn.metrics import classification_report\n",
    "import base64\n",
    "import csv"
   ]
  },
  {
   "cell_type": "code",
   "execution_count": 50,
   "id": "64f45e3d-ab4c-4706-8055-f13e76ccf159",
   "metadata": {},
   "outputs": [],
   "source": [
    "# Path:\n",
    "\n",
    "base_path = \"D:/UIT/DACN/\"\n",
    "csv_folder_path = os.path.join(base_path, \"train_csv/\")\n",
    "img_folder_path = os.path.join(base_path, \"train_img/\")\n",
    "img_path_test = \"D:/UIT/DACN/test_img/2024-01-15-11-02-05\"\n",
    "img_path = \"\"\n"
   ]
  },
  {
   "cell_type": "code",
   "execution_count": 51,
   "id": "d7100c69-eda3-493a-85b8-9a85096f3b03",
   "metadata": {},
   "outputs": [],
   "source": [
    "# Build model\n",
    "\n",
    "def prepare_model():\n",
    "    model = Sequential()\n",
    "    model.add(Conv2D(32,kernel_size=(3,3),activation='relu',input_shape=(224, 224, 3)))\n",
    "    model.add(MaxPooling2D(pool_size=(2, 2)))\n",
    "    model.add(Flatten())\n",
    "    model.add(Dense(16, activation='relu'))\n",
    "    model.add(Dense(2, activation='sigmoid'))\n",
    "    model.compile(loss=\"binary_crossentropy\",optimizer=\"adam\",metrics=['accuracy'])\n",
    "    return model\n",
    "\n",
    "model = prepare_model()\n"
   ]
  },
  {
   "cell_type": "code",
   "execution_count": 52,
   "id": "14f3a62a-a3f8-4983-93b0-080c5fc01fcd",
   "metadata": {},
   "outputs": [],
   "source": [
    "# Function:\n",
    "\n",
    "def map_rain_value(rain_value):\n",
    "    if rain_value != 0:\n",
    "        return 1\n",
    "    else:\n",
    "        return 0\n",
    "\n",
    "\n",
    "def get_csv_file_name(file_path):\n",
    "    csv_file = os.path.basename(file_path)\n",
    "    csv_name = csv_file[:-4]\n",
    "    return csv_name\n",
    "\n",
    "\n",
    "def find_img_folder_matched(csv_name):\n",
    "    for img_folder in os.listdir(img_folder_path):\n",
    "        full_img_folder_path = os.path.join(img_folder_path, img_folder)   \n",
    "        if os.path.isdir(full_img_folder_path) and img_folder == csv_name:\n",
    "            matching_img_folder = full_img_folder_path\n",
    "            break\n",
    "    return matching_img_folder\n",
    "\n",
    "\n",
    "def train_data(df, path):\n",
    "    batch_size = 8\n",
    "    train_datagen = ImageDataGenerator(\n",
    "        rescale=1 / 255.0,\n",
    "        rotation_range=20,\n",
    "        zoom_range=0.05,\n",
    "        width_shift_range=0.05,\n",
    "        height_shift_range=0.05,\n",
    "        shear_range=0.05,\n",
    "        horizontal_flip=True,\n",
    "        fill_mode=\"nearest\",\n",
    "        validation_split=0.20)\n",
    "\n",
    "    train_generator = train_datagen.flow_from_dataframe(\n",
    "        dataframe=df,\n",
    "        directory=path,\n",
    "        x_col=\"City\",\n",
    "        y_col=\"Rain (mm)\",\n",
    "        target_size=(224, 224),\n",
    "        batch_size=batch_size,\n",
    "        class_mode=\"categorical\",\n",
    "        subset='training',\n",
    "        shuffle=True,\n",
    "        seed=42)\n",
    "\n",
    "    valid_generator = train_datagen.flow_from_dataframe(\n",
    "        dataframe=df,\n",
    "        directory=path,\n",
    "        x_col=\"City\",\n",
    "        y_col=\"Rain (mm)\",\n",
    "        target_size=(224, 224),\n",
    "        batch_size=batch_size,\n",
    "        class_mode=\"categorical\",\n",
    "        subset='validation',\n",
    "        shuffle=True,\n",
    "        seed=42)\n",
    "        \n",
    "    model.fit(train_generator,\n",
    "              validation_data = train_generator,\n",
    "              steps_per_epoch = train_generator.n//train_generator.batch_size,\n",
    "              validation_steps = valid_generator.n//valid_generator.batch_size,\n",
    "              epochs=5)\n",
    "\n",
    "\n",
    "def prepare_data_to_train(file, path):\n",
    "    file_path = os.path.join(path, file)\n",
    "    column_names = [\"City\", \"Rain (mm)\"]\n",
    "    df = pd.read_csv(file_path, usecols=column_names)\n",
    "    df[\"Rain (mm)\"] = df[\"Rain (mm)\"].apply(map_rain_value)\n",
    "    df['City'] = df['City'].apply(lambda x: x + '.png')\n",
    "    df['Rain (mm)'] = df['Rain (mm)'].astype(str)\n",
    "    \n",
    "    csv_name = get_csv_file_name(file_path)\n",
    "    img_folder = find_img_folder_matched(csv_name)\n",
    "    global img_path\n",
    "    img_path = img_folder\n",
    "    return df\n",
    "         "
   ]
  },
  {
   "cell_type": "code",
   "execution_count": 54,
   "id": "0779aaca-94c7-4ef3-97b5-8540c8dd193d",
   "metadata": {
    "scrolled": true
   },
   "outputs": [
    {
     "name": "stdout",
     "output_type": "stream",
     "text": [
      "Found 61 validated image filenames belonging to 1 classes.\n",
      "Found 15 validated image filenames belonging to 1 classes.\n"
     ]
    },
    {
     "name": "stderr",
     "output_type": "stream",
     "text": [
      "C:\\Users\\ASUS\\AppData\\Local\\Temp\\ipykernel_16956\\3368467860.py:59: UserWarning: `Model.fit_generator` is deprecated and will be removed in a future version. Please use `Model.fit`, which supports generators.\n",
      "  model.fit_generator(train_generator,\n"
     ]
    },
    {
     "name": "stdout",
     "output_type": "stream",
     "text": [
      "Epoch 1/5\n",
      "WARNING:tensorflow:From C:\\Users\\ASUS\\AppData\\Local\\Packages\\PythonSoftwareFoundation.Python.3.11_qbz5n2kfra8p0\\LocalCache\\local-packages\\Python311\\site-packages\\keras\\src\\utils\\tf_utils.py:492: The name tf.ragged.RaggedTensorValue is deprecated. Please use tf.compat.v1.ragged.RaggedTensorValue instead.\n",
      "\n",
      "WARNING:tensorflow:From C:\\Users\\ASUS\\AppData\\Local\\Packages\\PythonSoftwareFoundation.Python.3.11_qbz5n2kfra8p0\\LocalCache\\local-packages\\Python311\\site-packages\\keras\\src\\engine\\base_layer_utils.py:384: The name tf.executing_eagerly_outside_functions is deprecated. Please use tf.compat.v1.executing_eagerly_outside_functions instead.\n",
      "\n",
      "7/7 [==============================] - 3s 225ms/step - loss: 0.1335 - accuracy: 1.0000 - val_loss: 0.0000e+00 - val_accuracy: 1.0000\n",
      "Epoch 2/5\n",
      "7/7 [==============================] - 1s 208ms/step - loss: 1.0524e-34 - accuracy: 1.0000 - val_loss: 0.0000e+00 - val_accuracy: 1.0000\n",
      "Epoch 3/5\n",
      "7/7 [==============================] - 1s 194ms/step - loss: 1.9717e-36 - accuracy: 1.0000 - val_loss: 0.0000e+00 - val_accuracy: 1.0000\n",
      "Epoch 4/5\n",
      "7/7 [==============================] - 1s 196ms/step - loss: 0.0000e+00 - accuracy: 1.0000 - val_loss: 0.0000e+00 - val_accuracy: 1.0000\n",
      "Epoch 5/5\n",
      "7/7 [==============================] - 1s 190ms/step - loss: 0.0000e+00 - accuracy: 1.0000 - val_loss: 0.0000e+00 - val_accuracy: 1.0000\n",
      "Found 61 validated image filenames belonging to 1 classes.\n",
      "Found 15 validated image filenames belonging to 1 classes.\n",
      "Epoch 1/5\n"
     ]
    },
    {
     "name": "stderr",
     "output_type": "stream",
     "text": [
      "C:\\Users\\ASUS\\AppData\\Local\\Temp\\ipykernel_16956\\3368467860.py:59: UserWarning: `Model.fit_generator` is deprecated and will be removed in a future version. Please use `Model.fit`, which supports generators.\n",
      "  model.fit_generator(train_generator,\n"
     ]
    },
    {
     "name": "stdout",
     "output_type": "stream",
     "text": [
      "7/7 [==============================] - 2s 217ms/step - loss: 0.0000e+00 - accuracy: 1.0000 - val_loss: 0.0000e+00 - val_accuracy: 1.0000\n",
      "Epoch 2/5\n",
      "7/7 [==============================] - 1s 192ms/step - loss: 0.0000e+00 - accuracy: 1.0000 - val_loss: 0.0000e+00 - val_accuracy: 1.0000\n",
      "Epoch 3/5\n",
      "7/7 [==============================] - 1s 193ms/step - loss: 0.0000e+00 - accuracy: 1.0000 - val_loss: 0.0000e+00 - val_accuracy: 1.0000\n",
      "Epoch 4/5\n",
      "7/7 [==============================] - 1s 193ms/step - loss: 0.0000e+00 - accuracy: 1.0000 - val_loss: 0.0000e+00 - val_accuracy: 1.0000\n",
      "Epoch 5/5\n",
      "7/7 [==============================] - 1s 200ms/step - loss: 0.0000e+00 - accuracy: 1.0000 - val_loss: 0.0000e+00 - val_accuracy: 1.0000\n",
      "Found 61 validated image filenames belonging to 1 classes.\n",
      "Found 15 validated image filenames belonging to 1 classes.\n",
      "Epoch 1/5\n"
     ]
    },
    {
     "name": "stderr",
     "output_type": "stream",
     "text": [
      "C:\\Users\\ASUS\\AppData\\Local\\Temp\\ipykernel_16956\\3368467860.py:59: UserWarning: `Model.fit_generator` is deprecated and will be removed in a future version. Please use `Model.fit`, which supports generators.\n",
      "  model.fit_generator(train_generator,\n"
     ]
    },
    {
     "name": "stdout",
     "output_type": "stream",
     "text": [
      "7/7 [==============================] - 1s 211ms/step - loss: 0.0000e+00 - accuracy: 1.0000 - val_loss: 0.0000e+00 - val_accuracy: 1.0000\n",
      "Epoch 2/5\n",
      "7/7 [==============================] - 1s 190ms/step - loss: 0.0000e+00 - accuracy: 1.0000 - val_loss: 0.0000e+00 - val_accuracy: 1.0000\n",
      "Epoch 3/5\n",
      "7/7 [==============================] - 1s 197ms/step - loss: 0.0000e+00 - accuracy: 1.0000 - val_loss: 0.0000e+00 - val_accuracy: 1.0000\n",
      "Epoch 4/5\n",
      "7/7 [==============================] - 1s 201ms/step - loss: 0.0000e+00 - accuracy: 1.0000 - val_loss: 0.0000e+00 - val_accuracy: 1.0000\n",
      "Epoch 5/5\n",
      "7/7 [==============================] - 1s 192ms/step - loss: 0.0000e+00 - accuracy: 1.0000 - val_loss: 0.0000e+00 - val_accuracy: 1.0000\n",
      "Found 61 validated image filenames belonging to 1 classes.\n",
      "Found 15 validated image filenames belonging to 1 classes.\n",
      "Epoch 1/5\n"
     ]
    },
    {
     "name": "stderr",
     "output_type": "stream",
     "text": [
      "C:\\Users\\ASUS\\AppData\\Local\\Temp\\ipykernel_16956\\3368467860.py:59: UserWarning: `Model.fit_generator` is deprecated and will be removed in a future version. Please use `Model.fit`, which supports generators.\n",
      "  model.fit_generator(train_generator,\n"
     ]
    },
    {
     "name": "stdout",
     "output_type": "stream",
     "text": [
      "7/7 [==============================] - 2s 217ms/step - loss: 0.0000e+00 - accuracy: 1.0000 - val_loss: 0.0000e+00 - val_accuracy: 1.0000\n",
      "Epoch 2/5\n",
      "7/7 [==============================] - 1s 193ms/step - loss: 0.0000e+00 - accuracy: 1.0000 - val_loss: 0.0000e+00 - val_accuracy: 1.0000\n",
      "Epoch 3/5\n",
      "7/7 [==============================] - 1s 197ms/step - loss: 0.0000e+00 - accuracy: 1.0000 - val_loss: 0.0000e+00 - val_accuracy: 1.0000\n",
      "Epoch 4/5\n",
      "7/7 [==============================] - 1s 207ms/step - loss: 0.0000e+00 - accuracy: 1.0000 - val_loss: 0.0000e+00 - val_accuracy: 1.0000\n",
      "Epoch 5/5\n",
      "7/7 [==============================] - 1s 209ms/step - loss: 0.0000e+00 - accuracy: 1.0000 - val_loss: 0.0000e+00 - val_accuracy: 1.0000\n",
      "Found 61 validated image filenames belonging to 1 classes.\n",
      "Found 15 validated image filenames belonging to 1 classes.\n",
      "Epoch 1/5\n"
     ]
    },
    {
     "name": "stderr",
     "output_type": "stream",
     "text": [
      "C:\\Users\\ASUS\\AppData\\Local\\Temp\\ipykernel_16956\\3368467860.py:59: UserWarning: `Model.fit_generator` is deprecated and will be removed in a future version. Please use `Model.fit`, which supports generators.\n",
      "  model.fit_generator(train_generator,\n"
     ]
    },
    {
     "name": "stdout",
     "output_type": "stream",
     "text": [
      "7/7 [==============================] - 2s 222ms/step - loss: 0.0000e+00 - accuracy: 1.0000 - val_loss: 0.0000e+00 - val_accuracy: 1.0000\n",
      "Epoch 2/5\n",
      "7/7 [==============================] - 1s 198ms/step - loss: 0.0000e+00 - accuracy: 1.0000 - val_loss: 0.0000e+00 - val_accuracy: 1.0000\n",
      "Epoch 3/5\n",
      "7/7 [==============================] - 1s 197ms/step - loss: 0.0000e+00 - accuracy: 1.0000 - val_loss: 0.0000e+00 - val_accuracy: 1.0000\n",
      "Epoch 4/5\n",
      "7/7 [==============================] - 1s 190ms/step - loss: 0.0000e+00 - accuracy: 1.0000 - val_loss: 0.0000e+00 - val_accuracy: 1.0000\n",
      "Epoch 5/5\n",
      "7/7 [==============================] - 1s 192ms/step - loss: 0.0000e+00 - accuracy: 1.0000 - val_loss: 0.0000e+00 - val_accuracy: 1.0000\n",
      "Found 61 validated image filenames belonging to 1 classes.\n",
      "Found 15 validated image filenames belonging to 1 classes.\n",
      "Epoch 1/5\n"
     ]
    },
    {
     "name": "stderr",
     "output_type": "stream",
     "text": [
      "C:\\Users\\ASUS\\AppData\\Local\\Temp\\ipykernel_16956\\3368467860.py:59: UserWarning: `Model.fit_generator` is deprecated and will be removed in a future version. Please use `Model.fit`, which supports generators.\n",
      "  model.fit_generator(train_generator,\n"
     ]
    },
    {
     "name": "stdout",
     "output_type": "stream",
     "text": [
      "7/7 [==============================] - 2s 221ms/step - loss: 0.0000e+00 - accuracy: 1.0000 - val_loss: 0.0000e+00 - val_accuracy: 1.0000\n",
      "Epoch 2/5\n",
      "7/7 [==============================] - 1s 191ms/step - loss: 0.0000e+00 - accuracy: 1.0000 - val_loss: 0.0000e+00 - val_accuracy: 1.0000\n",
      "Epoch 3/5\n",
      "7/7 [==============================] - 1s 191ms/step - loss: 0.0000e+00 - accuracy: 1.0000 - val_loss: 0.0000e+00 - val_accuracy: 1.0000\n",
      "Epoch 4/5\n",
      "7/7 [==============================] - 1s 191ms/step - loss: 0.0000e+00 - accuracy: 1.0000 - val_loss: 0.0000e+00 - val_accuracy: 1.0000\n",
      "Epoch 5/5\n",
      "7/7 [==============================] - 1s 205ms/step - loss: 0.0000e+00 - accuracy: 1.0000 - val_loss: 0.0000e+00 - val_accuracy: 1.0000\n",
      "Found 61 validated image filenames belonging to 1 classes.\n",
      "Found 15 validated image filenames belonging to 1 classes.\n",
      "Epoch 1/5\n"
     ]
    },
    {
     "name": "stderr",
     "output_type": "stream",
     "text": [
      "C:\\Users\\ASUS\\AppData\\Local\\Temp\\ipykernel_16956\\3368467860.py:59: UserWarning: `Model.fit_generator` is deprecated and will be removed in a future version. Please use `Model.fit`, which supports generators.\n",
      "  model.fit_generator(train_generator,\n"
     ]
    },
    {
     "name": "stdout",
     "output_type": "stream",
     "text": [
      "7/7 [==============================] - 2s 242ms/step - loss: 0.0000e+00 - accuracy: 1.0000 - val_loss: 0.0000e+00 - val_accuracy: 1.0000\n",
      "Epoch 2/5\n",
      "7/7 [==============================] - 1s 206ms/step - loss: 0.0000e+00 - accuracy: 1.0000 - val_loss: 0.0000e+00 - val_accuracy: 1.0000\n",
      "Epoch 3/5\n",
      "7/7 [==============================] - 1s 196ms/step - loss: 0.0000e+00 - accuracy: 1.0000 - val_loss: 0.0000e+00 - val_accuracy: 1.0000\n",
      "Epoch 4/5\n",
      "7/7 [==============================] - 1s 204ms/step - loss: 0.0000e+00 - accuracy: 1.0000 - val_loss: 0.0000e+00 - val_accuracy: 1.0000\n",
      "Epoch 5/5\n",
      "7/7 [==============================] - 1s 196ms/step - loss: 0.0000e+00 - accuracy: 1.0000 - val_loss: 0.0000e+00 - val_accuracy: 1.0000\n",
      "Found 61 validated image filenames belonging to 1 classes.\n",
      "Found 15 validated image filenames belonging to 1 classes.\n",
      "Epoch 1/5\n"
     ]
    },
    {
     "name": "stderr",
     "output_type": "stream",
     "text": [
      "C:\\Users\\ASUS\\AppData\\Local\\Temp\\ipykernel_16956\\3368467860.py:59: UserWarning: `Model.fit_generator` is deprecated and will be removed in a future version. Please use `Model.fit`, which supports generators.\n",
      "  model.fit_generator(train_generator,\n"
     ]
    },
    {
     "name": "stdout",
     "output_type": "stream",
     "text": [
      "7/7 [==============================] - 2s 255ms/step - loss: 0.0000e+00 - accuracy: 1.0000 - val_loss: 0.0000e+00 - val_accuracy: 1.0000\n",
      "Epoch 2/5\n",
      "7/7 [==============================] - 2s 229ms/step - loss: 0.0000e+00 - accuracy: 1.0000 - val_loss: 0.0000e+00 - val_accuracy: 1.0000\n",
      "Epoch 3/5\n",
      "7/7 [==============================] - 2s 215ms/step - loss: 0.0000e+00 - accuracy: 1.0000 - val_loss: 0.0000e+00 - val_accuracy: 1.0000\n",
      "Epoch 4/5\n",
      "7/7 [==============================] - 1s 203ms/step - loss: 0.0000e+00 - accuracy: 1.0000 - val_loss: 0.0000e+00 - val_accuracy: 1.0000\n",
      "Epoch 5/5\n",
      "7/7 [==============================] - 1s 202ms/step - loss: 0.0000e+00 - accuracy: 1.0000 - val_loss: 0.0000e+00 - val_accuracy: 1.0000\n",
      "Found 61 validated image filenames belonging to 1 classes.\n",
      "Found 15 validated image filenames belonging to 1 classes.\n",
      "Epoch 1/5\n"
     ]
    },
    {
     "name": "stderr",
     "output_type": "stream",
     "text": [
      "C:\\Users\\ASUS\\AppData\\Local\\Temp\\ipykernel_16956\\3368467860.py:59: UserWarning: `Model.fit_generator` is deprecated and will be removed in a future version. Please use `Model.fit`, which supports generators.\n",
      "  model.fit_generator(train_generator,\n"
     ]
    },
    {
     "name": "stdout",
     "output_type": "stream",
     "text": [
      "7/7 [==============================] - 2s 230ms/step - loss: 0.0000e+00 - accuracy: 1.0000 - val_loss: 0.0000e+00 - val_accuracy: 1.0000\n",
      "Epoch 2/5\n",
      "7/7 [==============================] - 1s 200ms/step - loss: 0.0000e+00 - accuracy: 1.0000 - val_loss: 0.0000e+00 - val_accuracy: 1.0000\n",
      "Epoch 3/5\n",
      "7/7 [==============================] - 1s 198ms/step - loss: 0.0000e+00 - accuracy: 1.0000 - val_loss: 0.0000e+00 - val_accuracy: 1.0000\n",
      "Epoch 4/5\n",
      "7/7 [==============================] - 1s 207ms/step - loss: 0.0000e+00 - accuracy: 1.0000 - val_loss: 0.0000e+00 - val_accuracy: 1.0000\n",
      "Epoch 5/5\n",
      "7/7 [==============================] - 1s 201ms/step - loss: 0.0000e+00 - accuracy: 1.0000 - val_loss: 0.0000e+00 - val_accuracy: 1.0000\n",
      "Found 61 validated image filenames belonging to 1 classes.\n",
      "Found 15 validated image filenames belonging to 1 classes.\n",
      "Epoch 1/5\n"
     ]
    },
    {
     "name": "stderr",
     "output_type": "stream",
     "text": [
      "C:\\Users\\ASUS\\AppData\\Local\\Temp\\ipykernel_16956\\3368467860.py:59: UserWarning: `Model.fit_generator` is deprecated and will be removed in a future version. Please use `Model.fit`, which supports generators.\n",
      "  model.fit_generator(train_generator,\n"
     ]
    },
    {
     "name": "stdout",
     "output_type": "stream",
     "text": [
      "7/7 [==============================] - 2s 219ms/step - loss: 0.0000e+00 - accuracy: 1.0000 - val_loss: 0.0000e+00 - val_accuracy: 1.0000\n",
      "Epoch 2/5\n",
      "7/7 [==============================] - 1s 206ms/step - loss: 0.0000e+00 - accuracy: 1.0000 - val_loss: 0.0000e+00 - val_accuracy: 1.0000\n",
      "Epoch 3/5\n",
      "7/7 [==============================] - 1s 209ms/step - loss: 0.0000e+00 - accuracy: 1.0000 - val_loss: 0.0000e+00 - val_accuracy: 1.0000\n",
      "Epoch 4/5\n",
      "7/7 [==============================] - 1s 207ms/step - loss: 0.0000e+00 - accuracy: 1.0000 - val_loss: 0.0000e+00 - val_accuracy: 1.0000\n",
      "Epoch 5/5\n",
      "7/7 [==============================] - 1s 206ms/step - loss: 0.0000e+00 - accuracy: 1.0000 - val_loss: 0.0000e+00 - val_accuracy: 1.0000\n",
      "Found 61 validated image filenames belonging to 1 classes.\n",
      "Found 15 validated image filenames belonging to 1 classes.\n",
      "Epoch 1/5\n"
     ]
    },
    {
     "name": "stderr",
     "output_type": "stream",
     "text": [
      "C:\\Users\\ASUS\\AppData\\Local\\Temp\\ipykernel_16956\\3368467860.py:59: UserWarning: `Model.fit_generator` is deprecated and will be removed in a future version. Please use `Model.fit`, which supports generators.\n",
      "  model.fit_generator(train_generator,\n"
     ]
    },
    {
     "name": "stdout",
     "output_type": "stream",
     "text": [
      "7/7 [==============================] - 2s 220ms/step - loss: 0.0000e+00 - accuracy: 1.0000 - val_loss: 0.0000e+00 - val_accuracy: 1.0000\n",
      "Epoch 2/5\n",
      "7/7 [==============================] - 1s 202ms/step - loss: 0.0000e+00 - accuracy: 1.0000 - val_loss: 0.0000e+00 - val_accuracy: 1.0000\n",
      "Epoch 3/5\n",
      "7/7 [==============================] - 1s 204ms/step - loss: 0.0000e+00 - accuracy: 1.0000 - val_loss: 0.0000e+00 - val_accuracy: 1.0000\n",
      "Epoch 4/5\n",
      "7/7 [==============================] - 1s 199ms/step - loss: 0.0000e+00 - accuracy: 1.0000 - val_loss: 0.0000e+00 - val_accuracy: 1.0000\n",
      "Epoch 5/5\n",
      "7/7 [==============================] - 1s 202ms/step - loss: 0.0000e+00 - accuracy: 1.0000 - val_loss: 0.0000e+00 - val_accuracy: 1.0000\n",
      "Found 61 validated image filenames belonging to 1 classes.\n",
      "Found 15 validated image filenames belonging to 1 classes.\n",
      "Epoch 1/5\n"
     ]
    },
    {
     "name": "stderr",
     "output_type": "stream",
     "text": [
      "C:\\Users\\ASUS\\AppData\\Local\\Temp\\ipykernel_16956\\3368467860.py:59: UserWarning: `Model.fit_generator` is deprecated and will be removed in a future version. Please use `Model.fit`, which supports generators.\n",
      "  model.fit_generator(train_generator,\n"
     ]
    },
    {
     "name": "stdout",
     "output_type": "stream",
     "text": [
      "7/7 [==============================] - 2s 219ms/step - loss: 0.0000e+00 - accuracy: 1.0000 - val_loss: 0.0000e+00 - val_accuracy: 1.0000\n",
      "Epoch 2/5\n",
      "7/7 [==============================] - 1s 206ms/step - loss: 0.0000e+00 - accuracy: 1.0000 - val_loss: 0.0000e+00 - val_accuracy: 1.0000\n",
      "Epoch 3/5\n",
      "7/7 [==============================] - 1s 194ms/step - loss: 0.0000e+00 - accuracy: 1.0000 - val_loss: 0.0000e+00 - val_accuracy: 1.0000\n",
      "Epoch 4/5\n",
      "7/7 [==============================] - 1s 206ms/step - loss: 0.0000e+00 - accuracy: 1.0000 - val_loss: 0.0000e+00 - val_accuracy: 1.0000\n",
      "Epoch 5/5\n",
      "7/7 [==============================] - 1s 197ms/step - loss: 0.0000e+00 - accuracy: 1.0000 - val_loss: 0.0000e+00 - val_accuracy: 1.0000\n",
      "Found 61 validated image filenames belonging to 1 classes.\n",
      "Found 15 validated image filenames belonging to 1 classes.\n",
      "Epoch 1/5\n"
     ]
    },
    {
     "name": "stderr",
     "output_type": "stream",
     "text": [
      "C:\\Users\\ASUS\\AppData\\Local\\Temp\\ipykernel_16956\\3368467860.py:59: UserWarning: `Model.fit_generator` is deprecated and will be removed in a future version. Please use `Model.fit`, which supports generators.\n",
      "  model.fit_generator(train_generator,\n"
     ]
    },
    {
     "name": "stdout",
     "output_type": "stream",
     "text": [
      "7/7 [==============================] - 2s 222ms/step - loss: 0.0000e+00 - accuracy: 1.0000 - val_loss: 0.0000e+00 - val_accuracy: 1.0000\n",
      "Epoch 2/5\n",
      "7/7 [==============================] - 1s 211ms/step - loss: 0.0000e+00 - accuracy: 1.0000 - val_loss: 0.0000e+00 - val_accuracy: 1.0000\n",
      "Epoch 3/5\n",
      "7/7 [==============================] - 1s 199ms/step - loss: 0.0000e+00 - accuracy: 1.0000 - val_loss: 0.0000e+00 - val_accuracy: 1.0000\n",
      "Epoch 4/5\n",
      "7/7 [==============================] - 1s 199ms/step - loss: 0.0000e+00 - accuracy: 1.0000 - val_loss: 0.0000e+00 - val_accuracy: 1.0000\n",
      "Epoch 5/5\n",
      "7/7 [==============================] - 1s 207ms/step - loss: 0.0000e+00 - accuracy: 1.0000 - val_loss: 0.0000e+00 - val_accuracy: 1.0000\n",
      "Found 61 validated image filenames belonging to 1 classes.\n",
      "Found 15 validated image filenames belonging to 1 classes.\n",
      "Epoch 1/5\n"
     ]
    },
    {
     "name": "stderr",
     "output_type": "stream",
     "text": [
      "C:\\Users\\ASUS\\AppData\\Local\\Temp\\ipykernel_16956\\3368467860.py:59: UserWarning: `Model.fit_generator` is deprecated and will be removed in a future version. Please use `Model.fit`, which supports generators.\n",
      "  model.fit_generator(train_generator,\n"
     ]
    },
    {
     "name": "stdout",
     "output_type": "stream",
     "text": [
      "7/7 [==============================] - 2s 220ms/step - loss: 0.0000e+00 - accuracy: 1.0000 - val_loss: 0.0000e+00 - val_accuracy: 1.0000\n",
      "Epoch 2/5\n",
      "7/7 [==============================] - 1s 197ms/step - loss: 0.0000e+00 - accuracy: 1.0000 - val_loss: 0.0000e+00 - val_accuracy: 1.0000\n",
      "Epoch 3/5\n",
      "7/7 [==============================] - 1s 196ms/step - loss: 0.0000e+00 - accuracy: 1.0000 - val_loss: 0.0000e+00 - val_accuracy: 1.0000\n",
      "Epoch 4/5\n",
      "7/7 [==============================] - 1s 201ms/step - loss: 0.0000e+00 - accuracy: 1.0000 - val_loss: 0.0000e+00 - val_accuracy: 1.0000\n",
      "Epoch 5/5\n",
      "7/7 [==============================] - 1s 201ms/step - loss: 0.0000e+00 - accuracy: 1.0000 - val_loss: 0.0000e+00 - val_accuracy: 1.0000\n",
      "Found 61 validated image filenames belonging to 1 classes.\n",
      "Found 15 validated image filenames belonging to 1 classes.\n",
      "Epoch 1/5\n"
     ]
    },
    {
     "name": "stderr",
     "output_type": "stream",
     "text": [
      "C:\\Users\\ASUS\\AppData\\Local\\Temp\\ipykernel_16956\\3368467860.py:59: UserWarning: `Model.fit_generator` is deprecated and will be removed in a future version. Please use `Model.fit`, which supports generators.\n",
      "  model.fit_generator(train_generator,\n"
     ]
    },
    {
     "name": "stdout",
     "output_type": "stream",
     "text": [
      "7/7 [==============================] - 2s 224ms/step - loss: 0.0000e+00 - accuracy: 1.0000 - val_loss: 0.0000e+00 - val_accuracy: 1.0000\n",
      "Epoch 2/5\n",
      "7/7 [==============================] - 1s 195ms/step - loss: 0.0000e+00 - accuracy: 1.0000 - val_loss: 0.0000e+00 - val_accuracy: 1.0000\n",
      "Epoch 3/5\n",
      "7/7 [==============================] - 1s 209ms/step - loss: 0.0000e+00 - accuracy: 1.0000 - val_loss: 0.0000e+00 - val_accuracy: 1.0000\n",
      "Epoch 4/5\n",
      "7/7 [==============================] - 1s 198ms/step - loss: 0.0000e+00 - accuracy: 1.0000 - val_loss: 0.0000e+00 - val_accuracy: 1.0000\n",
      "Epoch 5/5\n",
      "7/7 [==============================] - 1s 209ms/step - loss: 0.0000e+00 - accuracy: 1.0000 - val_loss: 0.0000e+00 - val_accuracy: 1.0000\n",
      "Found 61 validated image filenames belonging to 1 classes.\n",
      "Found 15 validated image filenames belonging to 1 classes.\n",
      "Epoch 1/5\n"
     ]
    },
    {
     "name": "stderr",
     "output_type": "stream",
     "text": [
      "C:\\Users\\ASUS\\AppData\\Local\\Temp\\ipykernel_16956\\3368467860.py:59: UserWarning: `Model.fit_generator` is deprecated and will be removed in a future version. Please use `Model.fit`, which supports generators.\n",
      "  model.fit_generator(train_generator,\n"
     ]
    },
    {
     "name": "stdout",
     "output_type": "stream",
     "text": [
      "7/7 [==============================] - 2s 216ms/step - loss: 0.0000e+00 - accuracy: 1.0000 - val_loss: 0.0000e+00 - val_accuracy: 1.0000\n",
      "Epoch 2/5\n",
      "7/7 [==============================] - 1s 209ms/step - loss: 0.0000e+00 - accuracy: 1.0000 - val_loss: 0.0000e+00 - val_accuracy: 1.0000\n",
      "Epoch 3/5\n",
      "7/7 [==============================] - 1s 199ms/step - loss: 0.0000e+00 - accuracy: 1.0000 - val_loss: 0.0000e+00 - val_accuracy: 1.0000\n",
      "Epoch 4/5\n",
      "7/7 [==============================] - 1s 206ms/step - loss: 0.0000e+00 - accuracy: 1.0000 - val_loss: 0.0000e+00 - val_accuracy: 1.0000\n",
      "Epoch 5/5\n",
      "7/7 [==============================] - 1s 202ms/step - loss: 0.0000e+00 - accuracy: 1.0000 - val_loss: 0.0000e+00 - val_accuracy: 1.0000\n",
      "Found 61 validated image filenames belonging to 1 classes.\n",
      "Found 15 validated image filenames belonging to 1 classes.\n",
      "Epoch 1/5\n"
     ]
    },
    {
     "name": "stderr",
     "output_type": "stream",
     "text": [
      "C:\\Users\\ASUS\\AppData\\Local\\Temp\\ipykernel_16956\\3368467860.py:59: UserWarning: `Model.fit_generator` is deprecated and will be removed in a future version. Please use `Model.fit`, which supports generators.\n",
      "  model.fit_generator(train_generator,\n"
     ]
    },
    {
     "name": "stdout",
     "output_type": "stream",
     "text": [
      "7/7 [==============================] - 2s 219ms/step - loss: 0.0000e+00 - accuracy: 1.0000 - val_loss: 0.0000e+00 - val_accuracy: 1.0000\n",
      "Epoch 2/5\n",
      "7/7 [==============================] - 1s 201ms/step - loss: 0.0000e+00 - accuracy: 1.0000 - val_loss: 0.0000e+00 - val_accuracy: 1.0000\n",
      "Epoch 3/5\n",
      "7/7 [==============================] - 1s 201ms/step - loss: 0.0000e+00 - accuracy: 1.0000 - val_loss: 0.0000e+00 - val_accuracy: 1.0000\n",
      "Epoch 4/5\n",
      "7/7 [==============================] - 1s 204ms/step - loss: 0.0000e+00 - accuracy: 1.0000 - val_loss: 0.0000e+00 - val_accuracy: 1.0000\n",
      "Epoch 5/5\n",
      "7/7 [==============================] - 1s 205ms/step - loss: 0.0000e+00 - accuracy: 1.0000 - val_loss: 0.0000e+00 - val_accuracy: 1.0000\n",
      "Found 61 validated image filenames belonging to 1 classes.\n",
      "Found 15 validated image filenames belonging to 1 classes.\n",
      "Epoch 1/5\n"
     ]
    },
    {
     "name": "stderr",
     "output_type": "stream",
     "text": [
      "C:\\Users\\ASUS\\AppData\\Local\\Temp\\ipykernel_16956\\3368467860.py:59: UserWarning: `Model.fit_generator` is deprecated and will be removed in a future version. Please use `Model.fit`, which supports generators.\n",
      "  model.fit_generator(train_generator,\n"
     ]
    },
    {
     "name": "stdout",
     "output_type": "stream",
     "text": [
      "7/7 [==============================] - 2s 243ms/step - loss: 0.0000e+00 - accuracy: 1.0000 - val_loss: 0.0000e+00 - val_accuracy: 1.0000\n",
      "Epoch 2/5\n",
      "7/7 [==============================] - 1s 198ms/step - loss: 0.0000e+00 - accuracy: 1.0000 - val_loss: 0.0000e+00 - val_accuracy: 1.0000\n",
      "Epoch 3/5\n",
      "7/7 [==============================] - 1s 211ms/step - loss: 0.0000e+00 - accuracy: 1.0000 - val_loss: 0.0000e+00 - val_accuracy: 1.0000\n",
      "Epoch 4/5\n",
      "7/7 [==============================] - 1s 198ms/step - loss: 0.0000e+00 - accuracy: 1.0000 - val_loss: 0.0000e+00 - val_accuracy: 1.0000\n",
      "Epoch 5/5\n",
      "7/7 [==============================] - 1s 203ms/step - loss: 0.0000e+00 - accuracy: 1.0000 - val_loss: 0.0000e+00 - val_accuracy: 1.0000\n",
      "Found 61 validated image filenames belonging to 1 classes.\n",
      "Found 15 validated image filenames belonging to 1 classes.\n",
      "Epoch 1/5\n"
     ]
    },
    {
     "name": "stderr",
     "output_type": "stream",
     "text": [
      "C:\\Users\\ASUS\\AppData\\Local\\Temp\\ipykernel_16956\\3368467860.py:59: UserWarning: `Model.fit_generator` is deprecated and will be removed in a future version. Please use `Model.fit`, which supports generators.\n",
      "  model.fit_generator(train_generator,\n"
     ]
    },
    {
     "name": "stdout",
     "output_type": "stream",
     "text": [
      "7/7 [==============================] - 2s 221ms/step - loss: 0.0000e+00 - accuracy: 1.0000 - val_loss: 0.0000e+00 - val_accuracy: 1.0000\n",
      "Epoch 2/5\n",
      "7/7 [==============================] - 1s 200ms/step - loss: 0.0000e+00 - accuracy: 1.0000 - val_loss: 0.0000e+00 - val_accuracy: 1.0000\n",
      "Epoch 3/5\n",
      "7/7 [==============================] - 1s 203ms/step - loss: 0.0000e+00 - accuracy: 1.0000 - val_loss: 0.0000e+00 - val_accuracy: 1.0000\n",
      "Epoch 4/5\n",
      "7/7 [==============================] - 1s 204ms/step - loss: 0.0000e+00 - accuracy: 1.0000 - val_loss: 0.0000e+00 - val_accuracy: 1.0000\n",
      "Epoch 5/5\n",
      "7/7 [==============================] - 1s 198ms/step - loss: 0.0000e+00 - accuracy: 1.0000 - val_loss: 0.0000e+00 - val_accuracy: 1.0000\n",
      "Found 61 validated image filenames belonging to 1 classes.\n",
      "Found 15 validated image filenames belonging to 1 classes.\n",
      "Epoch 1/5\n"
     ]
    },
    {
     "name": "stderr",
     "output_type": "stream",
     "text": [
      "C:\\Users\\ASUS\\AppData\\Local\\Temp\\ipykernel_16956\\3368467860.py:59: UserWarning: `Model.fit_generator` is deprecated and will be removed in a future version. Please use `Model.fit`, which supports generators.\n",
      "  model.fit_generator(train_generator,\n"
     ]
    },
    {
     "name": "stdout",
     "output_type": "stream",
     "text": [
      "7/7 [==============================] - 2s 219ms/step - loss: 0.0000e+00 - accuracy: 1.0000 - val_loss: 0.0000e+00 - val_accuracy: 1.0000\n",
      "Epoch 2/5\n",
      "7/7 [==============================] - 1s 202ms/step - loss: 0.0000e+00 - accuracy: 1.0000 - val_loss: 0.0000e+00 - val_accuracy: 1.0000\n",
      "Epoch 3/5\n",
      "7/7 [==============================] - 1s 204ms/step - loss: 0.0000e+00 - accuracy: 1.0000 - val_loss: 0.0000e+00 - val_accuracy: 1.0000\n",
      "Epoch 4/5\n",
      "7/7 [==============================] - 1s 205ms/step - loss: 0.0000e+00 - accuracy: 1.0000 - val_loss: 0.0000e+00 - val_accuracy: 1.0000\n",
      "Epoch 5/5\n",
      "7/7 [==============================] - 1s 202ms/step - loss: 0.0000e+00 - accuracy: 1.0000 - val_loss: 0.0000e+00 - val_accuracy: 1.0000\n",
      "Found 61 validated image filenames belonging to 2 classes.\n",
      "Found 15 validated image filenames belonging to 2 classes.\n",
      "Epoch 1/5\n"
     ]
    },
    {
     "name": "stderr",
     "output_type": "stream",
     "text": [
      "C:\\Users\\ASUS\\AppData\\Local\\Temp\\ipykernel_16956\\3368467860.py:59: UserWarning: `Model.fit_generator` is deprecated and will be removed in a future version. Please use `Model.fit`, which supports generators.\n",
      "  model.fit_generator(train_generator,\n"
     ]
    },
    {
     "name": "stdout",
     "output_type": "stream",
     "text": [
      "7/7 [==============================] - 2s 220ms/step - loss: 29.1052 - accuracy: 1.0000 - val_loss: 0.0000e+00 - val_accuracy: 1.0000\n",
      "Epoch 2/5\n",
      "7/7 [==============================] - 1s 200ms/step - loss: 1.8634e-27 - accuracy: 1.0000 - val_loss: 2.0960e-32 - val_accuracy: 1.0000\n",
      "Epoch 3/5\n",
      "7/7 [==============================] - 1s 208ms/step - loss: 9.9073e-32 - accuracy: 1.0000 - val_loss: 1.8342e-38 - val_accuracy: 1.0000\n",
      "Epoch 4/5\n",
      "7/7 [==============================] - 1s 201ms/step - loss: 0.0000e+00 - accuracy: 1.0000 - val_loss: 0.0000e+00 - val_accuracy: 1.0000\n",
      "Epoch 5/5\n",
      "7/7 [==============================] - 1s 199ms/step - loss: 0.0000e+00 - accuracy: 1.0000 - val_loss: 0.0000e+00 - val_accuracy: 1.0000\n",
      "Found 61 validated image filenames belonging to 2 classes.\n",
      "Found 15 validated image filenames belonging to 2 classes.\n",
      "Epoch 1/5\n"
     ]
    },
    {
     "name": "stderr",
     "output_type": "stream",
     "text": [
      "C:\\Users\\ASUS\\AppData\\Local\\Temp\\ipykernel_16956\\3368467860.py:59: UserWarning: `Model.fit_generator` is deprecated and will be removed in a future version. Please use `Model.fit`, which supports generators.\n",
      "  model.fit_generator(train_generator,\n"
     ]
    },
    {
     "name": "stdout",
     "output_type": "stream",
     "text": [
      "7/7 [==============================] - 2s 220ms/step - loss: 5.9835 - accuracy: 0.9811 - val_loss: 8.6032e-09 - val_accuracy: 1.0000\n",
      "Epoch 2/5\n",
      "7/7 [==============================] - 1s 208ms/step - loss: 0.4500 - accuracy: 0.9811 - val_loss: 0.0158 - val_accuracy: 1.0000\n",
      "Epoch 3/5\n",
      "7/7 [==============================] - 1s 197ms/step - loss: 0.3521 - accuracy: 0.9811 - val_loss: 0.2433 - val_accuracy: 1.0000\n",
      "Epoch 4/5\n",
      "7/7 [==============================] - 1s 198ms/step - loss: 0.1817 - accuracy: 0.9811 - val_loss: 1.8760e-08 - val_accuracy: 1.0000\n",
      "Epoch 5/5\n",
      "7/7 [==============================] - 1s 220ms/step - loss: 0.8768 - accuracy: 0.9811 - val_loss: 0.2485 - val_accuracy: 1.0000\n",
      "Found 61 validated image filenames belonging to 2 classes.\n",
      "Found 15 validated image filenames belonging to 2 classes.\n",
      "Epoch 1/5\n"
     ]
    },
    {
     "name": "stderr",
     "output_type": "stream",
     "text": [
      "C:\\Users\\ASUS\\AppData\\Local\\Temp\\ipykernel_16956\\3368467860.py:59: UserWarning: `Model.fit_generator` is deprecated and will be removed in a future version. Please use `Model.fit`, which supports generators.\n",
      "  model.fit_generator(train_generator,\n"
     ]
    },
    {
     "name": "stdout",
     "output_type": "stream",
     "text": [
      "7/7 [==============================] - 2s 242ms/step - loss: 0.2682 - accuracy: 0.9434 - val_loss: 0.5353 - val_accuracy: 0.7500\n",
      "Epoch 2/5\n",
      "7/7 [==============================] - 1s 197ms/step - loss: 0.1553 - accuracy: 0.9623 - val_loss: 0.8273 - val_accuracy: 0.8750\n",
      "Epoch 3/5\n",
      "7/7 [==============================] - 1s 202ms/step - loss: 0.3570 - accuracy: 0.9623 - val_loss: 0.2921 - val_accuracy: 0.8750\n",
      "Epoch 4/5\n",
      "7/7 [==============================] - 1s 205ms/step - loss: 0.2752 - accuracy: 0.9623 - val_loss: 0.4170 - val_accuracy: 0.8750\n",
      "Epoch 5/5\n",
      "7/7 [==============================] - 1s 203ms/step - loss: 0.2658 - accuracy: 0.9464 - val_loss: 0.4300 - val_accuracy: 0.8750\n",
      "Found 61 validated image filenames belonging to 2 classes.\n",
      "Found 15 validated image filenames belonging to 2 classes.\n",
      "Epoch 1/5\n"
     ]
    },
    {
     "name": "stderr",
     "output_type": "stream",
     "text": [
      "C:\\Users\\ASUS\\AppData\\Local\\Temp\\ipykernel_16956\\3368467860.py:59: UserWarning: `Model.fit_generator` is deprecated and will be removed in a future version. Please use `Model.fit`, which supports generators.\n",
      "  model.fit_generator(train_generator,\n"
     ]
    },
    {
     "name": "stdout",
     "output_type": "stream",
     "text": [
      "7/7 [==============================] - 1s 213ms/step - loss: 0.3162 - accuracy: 0.9245 - val_loss: 0.1581 - val_accuracy: 1.0000\n",
      "Epoch 2/5\n",
      "7/7 [==============================] - 1s 203ms/step - loss: 0.2961 - accuracy: 0.9245 - val_loss: 0.3380 - val_accuracy: 0.7500\n",
      "Epoch 3/5\n",
      "7/7 [==============================] - 1s 195ms/step - loss: 0.2329 - accuracy: 0.9434 - val_loss: 0.5380 - val_accuracy: 0.8750\n",
      "Epoch 4/5\n",
      "7/7 [==============================] - 1s 204ms/step - loss: 0.2926 - accuracy: 0.9245 - val_loss: 0.2748 - val_accuracy: 0.8750\n",
      "Epoch 5/5\n",
      "7/7 [==============================] - 1s 208ms/step - loss: 0.3220 - accuracy: 0.9245 - val_loss: 0.3921 - val_accuracy: 0.8750\n",
      "Found 61 validated image filenames belonging to 2 classes.\n",
      "Found 15 validated image filenames belonging to 2 classes.\n",
      "Epoch 1/5\n"
     ]
    },
    {
     "name": "stderr",
     "output_type": "stream",
     "text": [
      "C:\\Users\\ASUS\\AppData\\Local\\Temp\\ipykernel_16956\\3368467860.py:59: UserWarning: `Model.fit_generator` is deprecated and will be removed in a future version. Please use `Model.fit`, which supports generators.\n",
      "  model.fit_generator(train_generator,\n"
     ]
    },
    {
     "name": "stdout",
     "output_type": "stream",
     "text": [
      "7/7 [==============================] - 2s 220ms/step - loss: 0.3098 - accuracy: 0.9623 - val_loss: 0.2376 - val_accuracy: 1.0000\n",
      "Epoch 2/5\n",
      "7/7 [==============================] - 1s 198ms/step - loss: 0.2723 - accuracy: 0.9623 - val_loss: 0.1206 - val_accuracy: 1.0000\n",
      "Epoch 3/5\n",
      "7/7 [==============================] - 1s 204ms/step - loss: 0.2007 - accuracy: 0.9643 - val_loss: 0.0379 - val_accuracy: 1.0000\n",
      "Epoch 4/5\n",
      "7/7 [==============================] - 1s 203ms/step - loss: 0.3203 - accuracy: 0.9623 - val_loss: 0.2835 - val_accuracy: 0.8750\n",
      "Epoch 5/5\n",
      "7/7 [==============================] - 2s 213ms/step - loss: 0.2252 - accuracy: 0.9623 - val_loss: 0.0625 - val_accuracy: 1.0000\n",
      "Found 61 validated image filenames belonging to 2 classes.\n",
      "Found 15 validated image filenames belonging to 2 classes.\n",
      "Epoch 1/5\n"
     ]
    },
    {
     "name": "stderr",
     "output_type": "stream",
     "text": [
      "C:\\Users\\ASUS\\AppData\\Local\\Temp\\ipykernel_16956\\3368467860.py:59: UserWarning: `Model.fit_generator` is deprecated and will be removed in a future version. Please use `Model.fit`, which supports generators.\n",
      "  model.fit_generator(train_generator,\n"
     ]
    },
    {
     "name": "stdout",
     "output_type": "stream",
     "text": [
      "7/7 [==============================] - 2s 229ms/step - loss: 0.1525 - accuracy: 0.9623 - val_loss: 0.4747 - val_accuracy: 0.8750\n",
      "Epoch 2/5\n",
      "7/7 [==============================] - 1s 200ms/step - loss: 0.1579 - accuracy: 0.9623 - val_loss: 0.0300 - val_accuracy: 1.0000\n",
      "Epoch 3/5\n",
      "7/7 [==============================] - 1s 199ms/step - loss: 0.1539 - accuracy: 0.9623 - val_loss: 0.0292 - val_accuracy: 1.0000\n",
      "Epoch 4/5\n",
      "7/7 [==============================] - 1s 200ms/step - loss: 0.1379 - accuracy: 0.9623 - val_loss: 0.0895 - val_accuracy: 1.0000\n",
      "Epoch 5/5\n",
      "7/7 [==============================] - 1s 214ms/step - loss: 0.1498 - accuracy: 0.9623 - val_loss: 0.2884 - val_accuracy: 0.8750\n",
      "Found 61 validated image filenames belonging to 2 classes.\n",
      "Found 15 validated image filenames belonging to 2 classes.\n",
      "Epoch 1/5\n"
     ]
    },
    {
     "name": "stderr",
     "output_type": "stream",
     "text": [
      "C:\\Users\\ASUS\\AppData\\Local\\Temp\\ipykernel_16956\\3368467860.py:59: UserWarning: `Model.fit_generator` is deprecated and will be removed in a future version. Please use `Model.fit`, which supports generators.\n",
      "  model.fit_generator(train_generator,\n"
     ]
    },
    {
     "name": "stdout",
     "output_type": "stream",
     "text": [
      "7/7 [==============================] - 2s 220ms/step - loss: 0.1420 - accuracy: 0.9623 - val_loss: 0.3797 - val_accuracy: 0.8750\n",
      "Epoch 2/5\n",
      "7/7 [==============================] - 1s 196ms/step - loss: 0.1518 - accuracy: 0.9623 - val_loss: 0.2933 - val_accuracy: 0.8750\n",
      "Epoch 3/5\n",
      "7/7 [==============================] - 1s 200ms/step - loss: 0.1525 - accuracy: 0.9623 - val_loss: 0.0269 - val_accuracy: 1.0000\n",
      "Epoch 4/5\n",
      "7/7 [==============================] - 1s 216ms/step - loss: 0.1472 - accuracy: 0.9623 - val_loss: 0.0886 - val_accuracy: 1.0000\n",
      "Epoch 5/5\n",
      "7/7 [==============================] - 1s 205ms/step - loss: 0.1386 - accuracy: 0.9623 - val_loss: 0.0309 - val_accuracy: 1.0000\n",
      "Found 61 validated image filenames belonging to 2 classes.\n",
      "Found 15 validated image filenames belonging to 2 classes.\n",
      "Epoch 1/5\n"
     ]
    },
    {
     "name": "stderr",
     "output_type": "stream",
     "text": [
      "C:\\Users\\ASUS\\AppData\\Local\\Temp\\ipykernel_16956\\3368467860.py:59: UserWarning: `Model.fit_generator` is deprecated and will be removed in a future version. Please use `Model.fit`, which supports generators.\n",
      "  model.fit_generator(train_generator,\n"
     ]
    },
    {
     "name": "stdout",
     "output_type": "stream",
     "text": [
      "7/7 [==============================] - 1s 212ms/step - loss: 0.2067 - accuracy: 0.9811 - val_loss: 0.5611 - val_accuracy: 0.8750\n",
      "Epoch 2/5\n",
      "7/7 [==============================] - 1s 194ms/step - loss: 0.1463 - accuracy: 0.9811 - val_loss: 0.1354 - val_accuracy: 1.0000\n",
      "Epoch 3/5\n",
      "7/7 [==============================] - 1s 197ms/step - loss: 0.1862 - accuracy: 0.9811 - val_loss: 0.2827 - val_accuracy: 0.8750\n",
      "Epoch 4/5\n",
      "7/7 [==============================] - 1s 197ms/step - loss: 0.1246 - accuracy: 1.0000 - val_loss: 0.0401 - val_accuracy: 1.0000\n",
      "Epoch 5/5\n",
      "7/7 [==============================] - 1s 197ms/step - loss: 0.1360 - accuracy: 0.9811 - val_loss: 0.5231 - val_accuracy: 0.8750\n",
      "Found 61 validated image filenames belonging to 2 classes.\n",
      "Found 15 validated image filenames belonging to 2 classes.\n",
      "Epoch 1/5\n"
     ]
    },
    {
     "name": "stderr",
     "output_type": "stream",
     "text": [
      "C:\\Users\\ASUS\\AppData\\Local\\Temp\\ipykernel_16956\\3368467860.py:59: UserWarning: `Model.fit_generator` is deprecated and will be removed in a future version. Please use `Model.fit`, which supports generators.\n",
      "  model.fit_generator(train_generator,\n"
     ]
    },
    {
     "name": "stdout",
     "output_type": "stream",
     "text": [
      "7/7 [==============================] - 2s 225ms/step - loss: 0.3113 - accuracy: 0.9811 - val_loss: 0.0928 - val_accuracy: 1.0000\n",
      "Epoch 2/5\n",
      "7/7 [==============================] - 1s 202ms/step - loss: 0.3287 - accuracy: 0.9811 - val_loss: 0.0795 - val_accuracy: 1.0000\n",
      "Epoch 3/5\n",
      "7/7 [==============================] - 1s 209ms/step - loss: 0.2932 - accuracy: 0.9811 - val_loss: 1.0557 - val_accuracy: 0.8750\n",
      "Epoch 4/5\n",
      "7/7 [==============================] - 1s 200ms/step - loss: 0.2777 - accuracy: 0.9811 - val_loss: 0.1486 - val_accuracy: 1.0000\n",
      "Epoch 5/5\n",
      "7/7 [==============================] - 1s 192ms/step - loss: 0.2814 - accuracy: 0.9811 - val_loss: 0.1867 - val_accuracy: 1.0000\n",
      "Found 61 validated image filenames belonging to 1 classes.\n",
      "Found 15 validated image filenames belonging to 1 classes.\n",
      "Epoch 1/5\n"
     ]
    },
    {
     "name": "stderr",
     "output_type": "stream",
     "text": [
      "C:\\Users\\ASUS\\AppData\\Local\\Temp\\ipykernel_16956\\3368467860.py:59: UserWarning: `Model.fit_generator` is deprecated and will be removed in a future version. Please use `Model.fit`, which supports generators.\n",
      "  model.fit_generator(train_generator,\n"
     ]
    },
    {
     "name": "stdout",
     "output_type": "stream",
     "text": [
      "7/7 [==============================] - 1s 224ms/step - loss: 1.1314 - accuracy: 1.0000 - val_loss: 0.7465 - val_accuracy: 1.0000\n",
      "Epoch 2/5\n",
      "7/7 [==============================] - 1s 195ms/step - loss: 0.7163 - accuracy: 1.0000 - val_loss: 0.6807 - val_accuracy: 1.0000\n",
      "Epoch 3/5\n",
      "7/7 [==============================] - 1s 193ms/step - loss: 0.6679 - accuracy: 1.0000 - val_loss: 0.6556 - val_accuracy: 1.0000\n",
      "Epoch 4/5\n",
      "7/7 [==============================] - 1s 195ms/step - loss: 0.6520 - accuracy: 1.0000 - val_loss: 0.6454 - val_accuracy: 1.0000\n",
      "Epoch 5/5\n",
      "7/7 [==============================] - 1s 194ms/step - loss: 0.6405 - accuracy: 1.0000 - val_loss: 0.6318 - val_accuracy: 1.0000\n",
      "Found 61 validated image filenames belonging to 2 classes.\n",
      "Found 15 validated image filenames belonging to 2 classes.\n",
      "Epoch 1/5\n"
     ]
    },
    {
     "name": "stderr",
     "output_type": "stream",
     "text": [
      "C:\\Users\\ASUS\\AppData\\Local\\Temp\\ipykernel_16956\\3368467860.py:59: UserWarning: `Model.fit_generator` is deprecated and will be removed in a future version. Please use `Model.fit`, which supports generators.\n",
      "  model.fit_generator(train_generator,\n"
     ]
    },
    {
     "name": "stdout",
     "output_type": "stream",
     "text": [
      "7/7 [==============================] - 2s 220ms/step - loss: 0.5273 - accuracy: 1.0000 - val_loss: 0.5226 - val_accuracy: 0.8750\n",
      "Epoch 2/5\n",
      "7/7 [==============================] - 1s 193ms/step - loss: 0.4513 - accuracy: 0.9811 - val_loss: 0.4106 - val_accuracy: 1.0000\n",
      "Epoch 3/5\n",
      "7/7 [==============================] - 1s 194ms/step - loss: 0.4325 - accuracy: 0.9811 - val_loss: 0.4917 - val_accuracy: 0.8750\n",
      "Epoch 4/5\n",
      "7/7 [==============================] - 1s 203ms/step - loss: 0.4055 - accuracy: 0.9811 - val_loss: 0.3541 - val_accuracy: 1.0000\n",
      "Epoch 5/5\n",
      "7/7 [==============================] - 1s 201ms/step - loss: 0.3796 - accuracy: 0.9811 - val_loss: 0.4568 - val_accuracy: 0.8750\n",
      "Found 61 validated image filenames belonging to 2 classes.\n",
      "Found 15 validated image filenames belonging to 2 classes.\n",
      "Epoch 1/5\n"
     ]
    },
    {
     "name": "stderr",
     "output_type": "stream",
     "text": [
      "C:\\Users\\ASUS\\AppData\\Local\\Temp\\ipykernel_16956\\3368467860.py:59: UserWarning: `Model.fit_generator` is deprecated and will be removed in a future version. Please use `Model.fit`, which supports generators.\n",
      "  model.fit_generator(train_generator,\n"
     ]
    },
    {
     "name": "stdout",
     "output_type": "stream",
     "text": [
      "7/7 [==============================] - 1s 210ms/step - loss: 0.3451 - accuracy: 0.9811 - val_loss: 0.4253 - val_accuracy: 0.8750\n",
      "Epoch 2/5\n",
      "7/7 [==============================] - 1s 194ms/step - loss: 0.2937 - accuracy: 0.9811 - val_loss: 0.2123 - val_accuracy: 1.0000\n",
      "Epoch 3/5\n",
      "7/7 [==============================] - 1s 199ms/step - loss: 0.1821 - accuracy: 0.9811 - val_loss: 0.2115 - val_accuracy: 0.8750\n",
      "Epoch 4/5\n",
      "7/7 [==============================] - 1s 187ms/step - loss: 0.2614 - accuracy: 0.9811 - val_loss: 0.1988 - val_accuracy: 0.8750\n",
      "Epoch 5/5\n",
      "7/7 [==============================] - 1s 196ms/step - loss: 0.0351 - accuracy: 0.9811 - val_loss: 1.7360 - val_accuracy: 0.8750\n",
      "Found 61 validated image filenames belonging to 1 classes.\n",
      "Found 15 validated image filenames belonging to 1 classes.\n",
      "Epoch 1/5\n"
     ]
    },
    {
     "name": "stderr",
     "output_type": "stream",
     "text": [
      "C:\\Users\\ASUS\\AppData\\Local\\Temp\\ipykernel_16956\\3368467860.py:59: UserWarning: `Model.fit_generator` is deprecated and will be removed in a future version. Please use `Model.fit`, which supports generators.\n",
      "  model.fit_generator(train_generator,\n"
     ]
    },
    {
     "name": "stdout",
     "output_type": "stream",
     "text": [
      "7/7 [==============================] - 1s 214ms/step - loss: 2.4859 - accuracy: 1.0000 - val_loss: 0.6687 - val_accuracy: 1.0000\n",
      "Epoch 2/5\n",
      "7/7 [==============================] - 1s 191ms/step - loss: 0.6679 - accuracy: 1.0000 - val_loss: 0.6662 - val_accuracy: 1.0000\n",
      "Epoch 3/5\n",
      "7/7 [==============================] - 1s 194ms/step - loss: 0.6448 - accuracy: 1.0000 - val_loss: 0.6264 - val_accuracy: 1.0000\n",
      "Epoch 4/5\n",
      "7/7 [==============================] - 1s 192ms/step - loss: 0.6320 - accuracy: 1.0000 - val_loss: 0.6207 - val_accuracy: 1.0000\n",
      "Epoch 5/5\n",
      "7/7 [==============================] - 1s 200ms/step - loss: 0.6187 - accuracy: 1.0000 - val_loss: 0.6094 - val_accuracy: 1.0000\n",
      "Found 61 validated image filenames belonging to 1 classes.\n",
      "Found 15 validated image filenames belonging to 1 classes.\n",
      "Epoch 1/5\n"
     ]
    },
    {
     "name": "stderr",
     "output_type": "stream",
     "text": [
      "C:\\Users\\ASUS\\AppData\\Local\\Temp\\ipykernel_16956\\3368467860.py:59: UserWarning: `Model.fit_generator` is deprecated and will be removed in a future version. Please use `Model.fit`, which supports generators.\n",
      "  model.fit_generator(train_generator,\n"
     ]
    },
    {
     "name": "stdout",
     "output_type": "stream",
     "text": [
      "7/7 [==============================] - 2s 221ms/step - loss: 0.6073 - accuracy: 1.0000 - val_loss: 0.6014 - val_accuracy: 1.0000\n",
      "Epoch 2/5\n",
      "7/7 [==============================] - 1s 193ms/step - loss: 0.5993 - accuracy: 1.0000 - val_loss: 0.5937 - val_accuracy: 1.0000\n",
      "Epoch 3/5\n",
      "7/7 [==============================] - 1s 202ms/step - loss: 0.5872 - accuracy: 1.0000 - val_loss: 0.5810 - val_accuracy: 1.0000\n",
      "Epoch 4/5\n",
      "7/7 [==============================] - 1s 193ms/step - loss: 0.5807 - accuracy: 1.0000 - val_loss: 0.5761 - val_accuracy: 1.0000\n",
      "Epoch 5/5\n",
      "7/7 [==============================] - 1s 201ms/step - loss: 0.5709 - accuracy: 1.0000 - val_loss: 0.5691 - val_accuracy: 1.0000\n",
      "Found 61 validated image filenames belonging to 2 classes.\n",
      "Found 15 validated image filenames belonging to 2 classes.\n",
      "Epoch 1/5\n"
     ]
    },
    {
     "name": "stderr",
     "output_type": "stream",
     "text": [
      "C:\\Users\\ASUS\\AppData\\Local\\Temp\\ipykernel_16956\\3368467860.py:59: UserWarning: `Model.fit_generator` is deprecated and will be removed in a future version. Please use `Model.fit`, which supports generators.\n",
      "  model.fit_generator(train_generator,\n"
     ]
    },
    {
     "name": "stdout",
     "output_type": "stream",
     "text": [
      "7/7 [==============================] - 1s 213ms/step - loss: 0.4327 - accuracy: 0.9811 - val_loss: 0.4194 - val_accuracy: 1.0000\n",
      "Epoch 2/5\n",
      "7/7 [==============================] - 1s 196ms/step - loss: 0.4295 - accuracy: 0.9811 - val_loss: 0.3995 - val_accuracy: 1.0000\n",
      "Epoch 3/5\n",
      "7/7 [==============================] - 1s 195ms/step - loss: 0.4173 - accuracy: 0.9811 - val_loss: 0.4007 - val_accuracy: 1.0000\n",
      "Epoch 4/5\n",
      "7/7 [==============================] - 1s 191ms/step - loss: 0.3720 - accuracy: 0.9811 - val_loss: 0.2948 - val_accuracy: 1.0000\n",
      "Epoch 5/5\n",
      "7/7 [==============================] - 1s 194ms/step - loss: 0.2564 - accuracy: 0.9811 - val_loss: 0.0114 - val_accuracy: 1.0000\n",
      "Found 61 validated image filenames belonging to 2 classes.\n",
      "Found 15 validated image filenames belonging to 2 classes.\n",
      "Epoch 1/5\n"
     ]
    },
    {
     "name": "stderr",
     "output_type": "stream",
     "text": [
      "C:\\Users\\ASUS\\AppData\\Local\\Temp\\ipykernel_16956\\3368467860.py:59: UserWarning: `Model.fit_generator` is deprecated and will be removed in a future version. Please use `Model.fit`, which supports generators.\n",
      "  model.fit_generator(train_generator,\n"
     ]
    },
    {
     "name": "stdout",
     "output_type": "stream",
     "text": [
      "7/7 [==============================] - 1s 214ms/step - loss: 0.1941 - accuracy: 0.9811 - val_loss: 0.5593 - val_accuracy: 0.8750\n",
      "Epoch 2/5\n",
      "7/7 [==============================] - 1s 195ms/step - loss: 0.1432 - accuracy: 0.9811 - val_loss: 0.0428 - val_accuracy: 1.0000\n",
      "Epoch 3/5\n",
      "7/7 [==============================] - 1s 195ms/step - loss: 0.1543 - accuracy: 0.9811 - val_loss: 0.0303 - val_accuracy: 1.0000\n",
      "Epoch 4/5\n",
      "7/7 [==============================] - 1s 197ms/step - loss: 0.1522 - accuracy: 0.9811 - val_loss: 0.0202 - val_accuracy: 1.0000\n",
      "Epoch 5/5\n",
      "7/7 [==============================] - 1s 196ms/step - loss: 0.1392 - accuracy: 0.9811 - val_loss: 0.4671 - val_accuracy: 0.8750\n",
      "Found 61 validated image filenames belonging to 1 classes.\n",
      "Found 15 validated image filenames belonging to 1 classes.\n",
      "Epoch 1/5\n"
     ]
    },
    {
     "name": "stderr",
     "output_type": "stream",
     "text": [
      "C:\\Users\\ASUS\\AppData\\Local\\Temp\\ipykernel_16956\\3368467860.py:59: UserWarning: `Model.fit_generator` is deprecated and will be removed in a future version. Please use `Model.fit`, which supports generators.\n",
      "  model.fit_generator(train_generator,\n"
     ]
    },
    {
     "name": "stdout",
     "output_type": "stream",
     "text": [
      "7/7 [==============================] - 1s 214ms/step - loss: 0.7173 - accuracy: 1.0000 - val_loss: 0.5807 - val_accuracy: 1.0000\n",
      "Epoch 2/5\n",
      "7/7 [==============================] - 1s 192ms/step - loss: 0.5775 - accuracy: 1.0000 - val_loss: 0.5758 - val_accuracy: 1.0000\n",
      "Epoch 3/5\n",
      "7/7 [==============================] - 1s 193ms/step - loss: 0.5718 - accuracy: 1.0000 - val_loss: 0.5632 - val_accuracy: 1.0000\n",
      "Epoch 4/5\n",
      "7/7 [==============================] - 1s 196ms/step - loss: 0.5649 - accuracy: 1.0000 - val_loss: 0.5615 - val_accuracy: 1.0000\n",
      "Epoch 5/5\n",
      "7/7 [==============================] - 1s 190ms/step - loss: 0.5571 - accuracy: 1.0000 - val_loss: 0.5540 - val_accuracy: 1.0000\n",
      "Found 61 validated image filenames belonging to 1 classes.\n",
      "Found 15 validated image filenames belonging to 1 classes.\n",
      "Epoch 1/5\n"
     ]
    },
    {
     "name": "stderr",
     "output_type": "stream",
     "text": [
      "C:\\Users\\ASUS\\AppData\\Local\\Temp\\ipykernel_16956\\3368467860.py:59: UserWarning: `Model.fit_generator` is deprecated and will be removed in a future version. Please use `Model.fit`, which supports generators.\n",
      "  model.fit_generator(train_generator,\n"
     ]
    },
    {
     "name": "stdout",
     "output_type": "stream",
     "text": [
      "7/7 [==============================] - 1s 213ms/step - loss: 0.5510 - accuracy: 1.0000 - val_loss: 0.5481 - val_accuracy: 1.0000\n",
      "Epoch 2/5\n",
      "7/7 [==============================] - 1s 192ms/step - loss: 0.5448 - accuracy: 1.0000 - val_loss: 0.5430 - val_accuracy: 1.0000\n",
      "Epoch 3/5\n",
      "7/7 [==============================] - 1s 194ms/step - loss: 0.5387 - accuracy: 1.0000 - val_loss: 0.5344 - val_accuracy: 1.0000\n",
      "Epoch 4/5\n",
      "7/7 [==============================] - 1s 198ms/step - loss: 0.5337 - accuracy: 1.0000 - val_loss: 0.5300 - val_accuracy: 1.0000\n",
      "Epoch 5/5\n",
      "7/7 [==============================] - 1s 200ms/step - loss: 0.5275 - accuracy: 1.0000 - val_loss: 0.5248 - val_accuracy: 1.0000\n",
      "Found 61 validated image filenames belonging to 1 classes.\n",
      "Found 15 validated image filenames belonging to 1 classes.\n",
      "Epoch 1/5\n"
     ]
    },
    {
     "name": "stderr",
     "output_type": "stream",
     "text": [
      "C:\\Users\\ASUS\\AppData\\Local\\Temp\\ipykernel_16956\\3368467860.py:59: UserWarning: `Model.fit_generator` is deprecated and will be removed in a future version. Please use `Model.fit`, which supports generators.\n",
      "  model.fit_generator(train_generator,\n"
     ]
    },
    {
     "name": "stdout",
     "output_type": "stream",
     "text": [
      "7/7 [==============================] - 2s 222ms/step - loss: 0.5223 - accuracy: 1.0000 - val_loss: 0.5202 - val_accuracy: 1.0000\n",
      "Epoch 2/5\n",
      "7/7 [==============================] - 1s 197ms/step - loss: 0.5173 - accuracy: 1.0000 - val_loss: 0.5151 - val_accuracy: 1.0000\n",
      "Epoch 3/5\n",
      "7/7 [==============================] - 1s 197ms/step - loss: 0.5119 - accuracy: 1.0000 - val_loss: 0.5081 - val_accuracy: 1.0000\n",
      "Epoch 4/5\n",
      "7/7 [==============================] - 1s 191ms/step - loss: 0.5070 - accuracy: 1.0000 - val_loss: 0.5053 - val_accuracy: 1.0000\n",
      "Epoch 5/5\n",
      "7/7 [==============================] - 1s 189ms/step - loss: 0.5018 - accuracy: 1.0000 - val_loss: 0.5004 - val_accuracy: 1.0000\n",
      "Found 61 validated image filenames belonging to 1 classes.\n",
      "Found 15 validated image filenames belonging to 1 classes.\n",
      "Epoch 1/5\n"
     ]
    },
    {
     "name": "stderr",
     "output_type": "stream",
     "text": [
      "C:\\Users\\ASUS\\AppData\\Local\\Temp\\ipykernel_16956\\3368467860.py:59: UserWarning: `Model.fit_generator` is deprecated and will be removed in a future version. Please use `Model.fit`, which supports generators.\n",
      "  model.fit_generator(train_generator,\n"
     ]
    },
    {
     "name": "stdout",
     "output_type": "stream",
     "text": [
      "7/7 [==============================] - 1s 210ms/step - loss: 0.4966 - accuracy: 1.0000 - val_loss: 0.4953 - val_accuracy: 1.0000\n",
      "Epoch 2/5\n",
      "7/7 [==============================] - 1s 194ms/step - loss: 0.4922 - accuracy: 1.0000 - val_loss: 0.4904 - val_accuracy: 1.0000\n",
      "Epoch 3/5\n",
      "7/7 [==============================] - 1s 187ms/step - loss: 0.4878 - accuracy: 1.0000 - val_loss: 0.4851 - val_accuracy: 1.0000\n",
      "Epoch 4/5\n",
      "7/7 [==============================] - 1s 190ms/step - loss: 0.4835 - accuracy: 1.0000 - val_loss: 0.4811 - val_accuracy: 1.0000\n",
      "Epoch 5/5\n",
      "7/7 [==============================] - 1s 194ms/step - loss: 0.4783 - accuracy: 1.0000 - val_loss: 0.4764 - val_accuracy: 1.0000\n",
      "Found 61 validated image filenames belonging to 1 classes.\n",
      "Found 15 validated image filenames belonging to 1 classes.\n",
      "Epoch 1/5\n"
     ]
    },
    {
     "name": "stderr",
     "output_type": "stream",
     "text": [
      "C:\\Users\\ASUS\\AppData\\Local\\Temp\\ipykernel_16956\\3368467860.py:59: UserWarning: `Model.fit_generator` is deprecated and will be removed in a future version. Please use `Model.fit`, which supports generators.\n",
      "  model.fit_generator(train_generator,\n"
     ]
    },
    {
     "name": "stdout",
     "output_type": "stream",
     "text": [
      "7/7 [==============================] - 2s 224ms/step - loss: 0.4740 - accuracy: 1.0000 - val_loss: 0.4724 - val_accuracy: 1.0000\n",
      "Epoch 2/5\n",
      "7/7 [==============================] - 1s 199ms/step - loss: 0.4695 - accuracy: 1.0000 - val_loss: 0.4677 - val_accuracy: 1.0000\n",
      "Epoch 3/5\n",
      "7/7 [==============================] - 1s 192ms/step - loss: 0.4657 - accuracy: 1.0000 - val_loss: 0.4635 - val_accuracy: 1.0000\n",
      "Epoch 4/5\n",
      "7/7 [==============================] - 1s 191ms/step - loss: 0.4612 - accuracy: 1.0000 - val_loss: 0.4589 - val_accuracy: 1.0000\n",
      "Epoch 5/5\n",
      "7/7 [==============================] - 1s 193ms/step - loss: 0.4570 - accuracy: 1.0000 - val_loss: 0.4577 - val_accuracy: 1.0000\n",
      "Found 61 validated image filenames belonging to 1 classes.\n",
      "Found 15 validated image filenames belonging to 1 classes.\n",
      "Epoch 1/5\n"
     ]
    },
    {
     "name": "stderr",
     "output_type": "stream",
     "text": [
      "C:\\Users\\ASUS\\AppData\\Local\\Temp\\ipykernel_16956\\3368467860.py:59: UserWarning: `Model.fit_generator` is deprecated and will be removed in a future version. Please use `Model.fit`, which supports generators.\n",
      "  model.fit_generator(train_generator,\n"
     ]
    },
    {
     "name": "stdout",
     "output_type": "stream",
     "text": [
      "7/7 [==============================] - 1s 217ms/step - loss: 0.4530 - accuracy: 1.0000 - val_loss: 0.4522 - val_accuracy: 1.0000\n",
      "Epoch 2/5\n",
      "7/7 [==============================] - 1s 189ms/step - loss: 0.4498 - accuracy: 1.0000 - val_loss: 0.4467 - val_accuracy: 1.0000\n",
      "Epoch 3/5\n",
      "7/7 [==============================] - 1s 194ms/step - loss: 0.4460 - accuracy: 1.0000 - val_loss: 0.4443 - val_accuracy: 1.0000\n",
      "Epoch 4/5\n",
      "7/7 [==============================] - 1s 205ms/step - loss: 0.4421 - accuracy: 1.0000 - val_loss: 0.4408 - val_accuracy: 1.0000\n",
      "Epoch 5/5\n",
      "7/7 [==============================] - 1s 209ms/step - loss: 0.4382 - accuracy: 1.0000 - val_loss: 0.4390 - val_accuracy: 1.0000\n",
      "Found 61 validated image filenames belonging to 2 classes.\n",
      "Found 15 validated image filenames belonging to 2 classes.\n",
      "Epoch 1/5\n"
     ]
    },
    {
     "name": "stderr",
     "output_type": "stream",
     "text": [
      "C:\\Users\\ASUS\\AppData\\Local\\Temp\\ipykernel_16956\\3368467860.py:59: UserWarning: `Model.fit_generator` is deprecated and will be removed in a future version. Please use `Model.fit`, which supports generators.\n",
      "  model.fit_generator(train_generator,\n"
     ]
    },
    {
     "name": "stdout",
     "output_type": "stream",
     "text": [
      "7/7 [==============================] - 2s 216ms/step - loss: 0.5016 - accuracy: 0.9811 - val_loss: 0.4828 - val_accuracy: 1.0000\n",
      "Epoch 2/5\n",
      "7/7 [==============================] - 1s 196ms/step - loss: 0.4933 - accuracy: 0.9811 - val_loss: 0.5509 - val_accuracy: 0.8750\n",
      "Epoch 3/5\n",
      "7/7 [==============================] - 1s 193ms/step - loss: 0.4755 - accuracy: 1.0000 - val_loss: 0.4692 - val_accuracy: 1.0000\n",
      "Epoch 4/5\n",
      "7/7 [==============================] - 1s 197ms/step - loss: 0.4730 - accuracy: 0.9811 - val_loss: 0.5439 - val_accuracy: 0.8750\n",
      "Epoch 5/5\n",
      "7/7 [==============================] - 1s 196ms/step - loss: 0.4650 - accuracy: 0.9821 - val_loss: 0.4428 - val_accuracy: 1.0000\n",
      "Found 61 validated image filenames belonging to 1 classes.\n",
      "Found 15 validated image filenames belonging to 1 classes.\n",
      "Epoch 1/5\n"
     ]
    },
    {
     "name": "stderr",
     "output_type": "stream",
     "text": [
      "C:\\Users\\ASUS\\AppData\\Local\\Temp\\ipykernel_16956\\3368467860.py:59: UserWarning: `Model.fit_generator` is deprecated and will be removed in a future version. Please use `Model.fit`, which supports generators.\n",
      "  model.fit_generator(train_generator,\n"
     ]
    },
    {
     "name": "stdout",
     "output_type": "stream",
     "text": [
      "7/7 [==============================] - 1s 212ms/step - loss: 0.4459 - accuracy: 1.0000 - val_loss: 0.4475 - val_accuracy: 1.0000\n",
      "Epoch 2/5\n",
      "7/7 [==============================] - 1s 191ms/step - loss: 0.4462 - accuracy: 1.0000 - val_loss: 0.4473 - val_accuracy: 1.0000\n",
      "Epoch 3/5\n",
      "7/7 [==============================] - 1s 186ms/step - loss: 0.4438 - accuracy: 1.0000 - val_loss: 0.4413 - val_accuracy: 1.0000\n",
      "Epoch 4/5\n",
      "7/7 [==============================] - 1s 189ms/step - loss: 0.4419 - accuracy: 1.0000 - val_loss: 0.4408 - val_accuracy: 1.0000\n",
      "Epoch 5/5\n",
      "7/7 [==============================] - 1s 193ms/step - loss: 0.4378 - accuracy: 1.0000 - val_loss: 0.4368 - val_accuracy: 1.0000\n",
      "Found 61 validated image filenames belonging to 2 classes.\n",
      "Found 15 validated image filenames belonging to 2 classes.\n",
      "Epoch 1/5\n"
     ]
    },
    {
     "name": "stderr",
     "output_type": "stream",
     "text": [
      "C:\\Users\\ASUS\\AppData\\Local\\Temp\\ipykernel_16956\\3368467860.py:59: UserWarning: `Model.fit_generator` is deprecated and will be removed in a future version. Please use `Model.fit`, which supports generators.\n",
      "  model.fit_generator(train_generator,\n"
     ]
    },
    {
     "name": "stdout",
     "output_type": "stream",
     "text": [
      "7/7 [==============================] - 1s 220ms/step - loss: 0.4874 - accuracy: 0.9434 - val_loss: 0.5336 - val_accuracy: 0.8750\n",
      "Epoch 2/5\n",
      "7/7 [==============================] - 1s 194ms/step - loss: 0.4847 - accuracy: 0.9434 - val_loss: 0.4352 - val_accuracy: 1.0000\n",
      "Epoch 3/5\n",
      "7/7 [==============================] - 1s 191ms/step - loss: 0.4808 - accuracy: 0.9434 - val_loss: 0.4409 - val_accuracy: 1.0000\n",
      "Epoch 4/5\n",
      "7/7 [==============================] - 1s 194ms/step - loss: 0.4616 - accuracy: 0.9623 - val_loss: 0.4205 - val_accuracy: 1.0000\n",
      "Epoch 5/5\n",
      "7/7 [==============================] - 1s 207ms/step - loss: 0.4615 - accuracy: 0.9464 - val_loss: 0.6237 - val_accuracy: 0.7500\n",
      "Found 61 validated image filenames belonging to 2 classes.\n",
      "Found 15 validated image filenames belonging to 2 classes.\n",
      "Epoch 1/5\n"
     ]
    },
    {
     "name": "stderr",
     "output_type": "stream",
     "text": [
      "C:\\Users\\ASUS\\AppData\\Local\\Temp\\ipykernel_16956\\3368467860.py:59: UserWarning: `Model.fit_generator` is deprecated and will be removed in a future version. Please use `Model.fit`, which supports generators.\n",
      "  model.fit_generator(train_generator,\n"
     ]
    },
    {
     "name": "stdout",
     "output_type": "stream",
     "text": [
      "7/7 [==============================] - 2s 224ms/step - loss: 0.4265 - accuracy: 0.9811 - val_loss: 0.4069 - val_accuracy: 1.0000\n",
      "Epoch 2/5\n",
      "7/7 [==============================] - 1s 199ms/step - loss: 0.4096 - accuracy: 0.9811 - val_loss: 0.3705 - val_accuracy: 1.0000\n",
      "Epoch 3/5\n",
      "7/7 [==============================] - 1s 194ms/step - loss: 0.3984 - accuracy: 0.9811 - val_loss: 0.3950 - val_accuracy: 1.0000\n",
      "Epoch 4/5\n",
      "7/7 [==============================] - 1s 190ms/step - loss: 0.3862 - accuracy: 0.9811 - val_loss: 0.4746 - val_accuracy: 0.8750\n",
      "Epoch 5/5\n",
      "7/7 [==============================] - 1s 192ms/step - loss: 0.3666 - accuracy: 0.9811 - val_loss: 0.3611 - val_accuracy: 1.0000\n",
      "Found 61 validated image filenames belonging to 2 classes.\n",
      "Found 15 validated image filenames belonging to 2 classes.\n",
      "Epoch 1/5\n"
     ]
    },
    {
     "name": "stderr",
     "output_type": "stream",
     "text": [
      "C:\\Users\\ASUS\\AppData\\Local\\Temp\\ipykernel_16956\\3368467860.py:59: UserWarning: `Model.fit_generator` is deprecated and will be removed in a future version. Please use `Model.fit`, which supports generators.\n",
      "  model.fit_generator(train_generator,\n"
     ]
    },
    {
     "name": "stdout",
     "output_type": "stream",
     "text": [
      "7/7 [==============================] - 2s 224ms/step - loss: 0.3333 - accuracy: 0.9821 - val_loss: 0.3305 - val_accuracy: 1.0000\n",
      "Epoch 2/5\n",
      "7/7 [==============================] - 1s 194ms/step - loss: 0.2837 - accuracy: 0.9811 - val_loss: 0.2154 - val_accuracy: 1.0000\n",
      "Epoch 3/5\n",
      "7/7 [==============================] - 1s 192ms/step - loss: 0.2169 - accuracy: 0.9811 - val_loss: 0.1847 - val_accuracy: 1.0000\n",
      "Epoch 4/5\n",
      "7/7 [==============================] - 1s 195ms/step - loss: 0.1590 - accuracy: 0.9811 - val_loss: 0.1521 - val_accuracy: 1.0000\n",
      "Epoch 5/5\n",
      "7/7 [==============================] - 1s 198ms/step - loss: 0.1567 - accuracy: 0.9811 - val_loss: 0.0498 - val_accuracy: 1.0000\n",
      "Found 61 validated image filenames belonging to 1 classes.\n",
      "Found 15 validated image filenames belonging to 1 classes.\n",
      "Epoch 1/5\n"
     ]
    },
    {
     "name": "stderr",
     "output_type": "stream",
     "text": [
      "C:\\Users\\ASUS\\AppData\\Local\\Temp\\ipykernel_16956\\3368467860.py:59: UserWarning: `Model.fit_generator` is deprecated and will be removed in a future version. Please use `Model.fit`, which supports generators.\n",
      "  model.fit_generator(train_generator,\n"
     ]
    },
    {
     "name": "stdout",
     "output_type": "stream",
     "text": [
      "7/7 [==============================] - 2s 242ms/step - loss: 1.2932 - accuracy: 1.0000 - val_loss: 0.4936 - val_accuracy: 1.0000\n",
      "Epoch 2/5\n",
      "7/7 [==============================] - 1s 202ms/step - loss: 0.4864 - accuracy: 1.0000 - val_loss: 0.4685 - val_accuracy: 1.0000\n",
      "Epoch 3/5\n",
      "7/7 [==============================] - 1s 209ms/step - loss: 0.4657 - accuracy: 1.0000 - val_loss: 0.4551 - val_accuracy: 1.0000\n",
      "Epoch 4/5\n",
      "7/7 [==============================] - 2s 268ms/step - loss: 0.4584 - accuracy: 1.0000 - val_loss: 0.4505 - val_accuracy: 1.0000\n",
      "Epoch 5/5\n",
      "7/7 [==============================] - 2s 245ms/step - loss: 0.4506 - accuracy: 1.0000 - val_loss: 0.4494 - val_accuracy: 1.0000\n",
      "Found 61 validated image filenames belonging to 2 classes.\n",
      "Found 15 validated image filenames belonging to 2 classes.\n",
      "Epoch 1/5\n"
     ]
    },
    {
     "name": "stderr",
     "output_type": "stream",
     "text": [
      "C:\\Users\\ASUS\\AppData\\Local\\Temp\\ipykernel_16956\\3368467860.py:59: UserWarning: `Model.fit_generator` is deprecated and will be removed in a future version. Please use `Model.fit`, which supports generators.\n",
      "  model.fit_generator(train_generator,\n"
     ]
    },
    {
     "name": "stdout",
     "output_type": "stream",
     "text": [
      "7/7 [==============================] - 2s 272ms/step - loss: 0.4105 - accuracy: 0.9821 - val_loss: 0.3932 - val_accuracy: 1.0000\n",
      "Epoch 2/5\n",
      "7/7 [==============================] - 1s 201ms/step - loss: 0.4150 - accuracy: 0.9811 - val_loss: 0.3962 - val_accuracy: 1.0000\n",
      "Epoch 3/5\n",
      "7/7 [==============================] - 1s 199ms/step - loss: 0.4066 - accuracy: 0.9811 - val_loss: 0.3917 - val_accuracy: 1.0000\n",
      "Epoch 4/5\n",
      "7/7 [==============================] - 1s 202ms/step - loss: 0.3920 - accuracy: 0.9811 - val_loss: 0.3627 - val_accuracy: 1.0000\n",
      "Epoch 5/5\n",
      "7/7 [==============================] - 1s 201ms/step - loss: 0.3840 - accuracy: 0.9811 - val_loss: 0.3728 - val_accuracy: 1.0000\n",
      "Found 61 validated image filenames belonging to 1 classes.\n",
      "Found 15 validated image filenames belonging to 1 classes.\n",
      "Epoch 1/5\n"
     ]
    },
    {
     "name": "stderr",
     "output_type": "stream",
     "text": [
      "C:\\Users\\ASUS\\AppData\\Local\\Temp\\ipykernel_16956\\3368467860.py:59: UserWarning: `Model.fit_generator` is deprecated and will be removed in a future version. Please use `Model.fit`, which supports generators.\n",
      "  model.fit_generator(train_generator,\n"
     ]
    },
    {
     "name": "stdout",
     "output_type": "stream",
     "text": [
      "7/7 [==============================] - 2s 249ms/step - loss: 0.4706 - accuracy: 1.0000 - val_loss: 0.4699 - val_accuracy: 1.0000\n",
      "Epoch 2/5\n",
      "7/7 [==============================] - 1s 207ms/step - loss: 0.4714 - accuracy: 1.0000 - val_loss: 0.4626 - val_accuracy: 1.0000\n",
      "Epoch 3/5\n",
      "7/7 [==============================] - 2s 218ms/step - loss: 0.4654 - accuracy: 1.0000 - val_loss: 0.4513 - val_accuracy: 1.0000\n",
      "Epoch 4/5\n",
      "7/7 [==============================] - 1s 205ms/step - loss: 0.4574 - accuracy: 1.0000 - val_loss: 0.4488 - val_accuracy: 1.0000\n",
      "Epoch 5/5\n",
      "7/7 [==============================] - 2s 218ms/step - loss: 0.4503 - accuracy: 1.0000 - val_loss: 0.4459 - val_accuracy: 1.0000\n",
      "Found 61 validated image filenames belonging to 1 classes.\n",
      "Found 15 validated image filenames belonging to 1 classes.\n",
      "Epoch 1/5\n"
     ]
    },
    {
     "name": "stderr",
     "output_type": "stream",
     "text": [
      "C:\\Users\\ASUS\\AppData\\Local\\Temp\\ipykernel_16956\\3368467860.py:59: UserWarning: `Model.fit_generator` is deprecated and will be removed in a future version. Please use `Model.fit`, which supports generators.\n",
      "  model.fit_generator(train_generator,\n"
     ]
    },
    {
     "name": "stdout",
     "output_type": "stream",
     "text": [
      "7/7 [==============================] - 2s 224ms/step - loss: 0.4467 - accuracy: 1.0000 - val_loss: 0.4441 - val_accuracy: 1.0000\n",
      "Epoch 2/5\n",
      "7/7 [==============================] - 1s 198ms/step - loss: 0.4414 - accuracy: 1.0000 - val_loss: 0.4361 - val_accuracy: 1.0000\n",
      "Epoch 3/5\n",
      "7/7 [==============================] - 1s 202ms/step - loss: 0.4351 - accuracy: 1.0000 - val_loss: 0.4304 - val_accuracy: 1.0000\n",
      "Epoch 4/5\n",
      "7/7 [==============================] - 1s 200ms/step - loss: 0.4314 - accuracy: 1.0000 - val_loss: 0.4269 - val_accuracy: 1.0000\n",
      "Epoch 5/5\n",
      "7/7 [==============================] - 2s 216ms/step - loss: 0.4263 - accuracy: 1.0000 - val_loss: 0.4257 - val_accuracy: 1.0000\n",
      "Found 61 validated image filenames belonging to 1 classes.\n",
      "Found 15 validated image filenames belonging to 1 classes.\n",
      "Epoch 1/5\n"
     ]
    },
    {
     "name": "stderr",
     "output_type": "stream",
     "text": [
      "C:\\Users\\ASUS\\AppData\\Local\\Temp\\ipykernel_16956\\3368467860.py:59: UserWarning: `Model.fit_generator` is deprecated and will be removed in a future version. Please use `Model.fit`, which supports generators.\n",
      "  model.fit_generator(train_generator,\n"
     ]
    },
    {
     "name": "stdout",
     "output_type": "stream",
     "text": [
      "7/7 [==============================] - 1s 223ms/step - loss: 0.4231 - accuracy: 1.0000 - val_loss: 0.4218 - val_accuracy: 1.0000\n",
      "Epoch 2/5\n",
      "7/7 [==============================] - 1s 198ms/step - loss: 0.4176 - accuracy: 1.0000 - val_loss: 0.4159 - val_accuracy: 1.0000\n",
      "Epoch 3/5\n",
      "7/7 [==============================] - 1s 198ms/step - loss: 0.4148 - accuracy: 1.0000 - val_loss: 0.4115 - val_accuracy: 1.0000\n",
      "Epoch 4/5\n",
      "7/7 [==============================] - 1s 198ms/step - loss: 0.4112 - accuracy: 1.0000 - val_loss: 0.4089 - val_accuracy: 1.0000\n",
      "Epoch 5/5\n",
      "7/7 [==============================] - 1s 192ms/step - loss: 0.4084 - accuracy: 1.0000 - val_loss: 0.4092 - val_accuracy: 1.0000\n",
      "Found 61 validated image filenames belonging to 1 classes.\n",
      "Found 15 validated image filenames belonging to 1 classes.\n",
      "Epoch 1/5\n"
     ]
    },
    {
     "name": "stderr",
     "output_type": "stream",
     "text": [
      "C:\\Users\\ASUS\\AppData\\Local\\Temp\\ipykernel_16956\\3368467860.py:59: UserWarning: `Model.fit_generator` is deprecated and will be removed in a future version. Please use `Model.fit`, which supports generators.\n",
      "  model.fit_generator(train_generator,\n"
     ]
    },
    {
     "name": "stdout",
     "output_type": "stream",
     "text": [
      "7/7 [==============================] - 2s 217ms/step - loss: 0.4043 - accuracy: 1.0000 - val_loss: 0.4038 - val_accuracy: 1.0000\n",
      "Epoch 2/5\n",
      "7/7 [==============================] - 1s 202ms/step - loss: 0.4010 - accuracy: 1.0000 - val_loss: 0.3963 - val_accuracy: 1.0000\n",
      "Epoch 3/5\n",
      "7/7 [==============================] - 1s 199ms/step - loss: 0.3980 - accuracy: 1.0000 - val_loss: 0.3958 - val_accuracy: 1.0000\n",
      "Epoch 4/5\n",
      "7/7 [==============================] - 1s 196ms/step - loss: 0.3944 - accuracy: 1.0000 - val_loss: 0.3917 - val_accuracy: 1.0000\n",
      "Epoch 5/5\n",
      "7/7 [==============================] - 1s 204ms/step - loss: 0.3908 - accuracy: 1.0000 - val_loss: 0.3898 - val_accuracy: 1.0000\n",
      "Found 61 validated image filenames belonging to 1 classes.\n",
      "Found 15 validated image filenames belonging to 1 classes.\n",
      "Epoch 1/5\n"
     ]
    },
    {
     "name": "stderr",
     "output_type": "stream",
     "text": [
      "C:\\Users\\ASUS\\AppData\\Local\\Temp\\ipykernel_16956\\3368467860.py:59: UserWarning: `Model.fit_generator` is deprecated and will be removed in a future version. Please use `Model.fit`, which supports generators.\n",
      "  model.fit_generator(train_generator,\n"
     ]
    },
    {
     "name": "stdout",
     "output_type": "stream",
     "text": [
      "7/7 [==============================] - 1s 210ms/step - loss: 0.3884 - accuracy: 1.0000 - val_loss: 0.3886 - val_accuracy: 1.0000\n",
      "Epoch 2/5\n",
      "7/7 [==============================] - 1s 208ms/step - loss: 0.3852 - accuracy: 1.0000 - val_loss: 0.3822 - val_accuracy: 1.0000\n",
      "Epoch 3/5\n",
      "7/7 [==============================] - 1s 197ms/step - loss: 0.3823 - accuracy: 1.0000 - val_loss: 0.3803 - val_accuracy: 1.0000\n",
      "Epoch 4/5\n",
      "7/7 [==============================] - 1s 215ms/step - loss: 0.3786 - accuracy: 1.0000 - val_loss: 0.3780 - val_accuracy: 1.0000\n",
      "Epoch 5/5\n",
      "7/7 [==============================] - 1s 207ms/step - loss: 0.3763 - accuracy: 1.0000 - val_loss: 0.3765 - val_accuracy: 1.0000\n",
      "Found 61 validated image filenames belonging to 1 classes.\n",
      "Found 15 validated image filenames belonging to 1 classes.\n",
      "Epoch 1/5\n"
     ]
    },
    {
     "name": "stderr",
     "output_type": "stream",
     "text": [
      "C:\\Users\\ASUS\\AppData\\Local\\Temp\\ipykernel_16956\\3368467860.py:59: UserWarning: `Model.fit_generator` is deprecated and will be removed in a future version. Please use `Model.fit`, which supports generators.\n",
      "  model.fit_generator(train_generator,\n"
     ]
    },
    {
     "name": "stdout",
     "output_type": "stream",
     "text": [
      "7/7 [==============================] - 2s 219ms/step - loss: 0.3729 - accuracy: 1.0000 - val_loss: 0.3740 - val_accuracy: 1.0000\n",
      "Epoch 2/5\n",
      "7/7 [==============================] - 1s 196ms/step - loss: 0.3710 - accuracy: 1.0000 - val_loss: 0.3691 - val_accuracy: 1.0000\n",
      "Epoch 3/5\n",
      "7/7 [==============================] - 1s 202ms/step - loss: 0.3679 - accuracy: 1.0000 - val_loss: 0.3662 - val_accuracy: 1.0000\n",
      "Epoch 4/5\n",
      "7/7 [==============================] - 1s 202ms/step - loss: 0.3653 - accuracy: 1.0000 - val_loss: 0.3665 - val_accuracy: 1.0000\n",
      "Epoch 5/5\n",
      "7/7 [==============================] - 1s 196ms/step - loss: 0.3626 - accuracy: 1.0000 - val_loss: 0.3621 - val_accuracy: 1.0000\n",
      "Found 61 validated image filenames belonging to 2 classes.\n",
      "Found 15 validated image filenames belonging to 2 classes.\n",
      "Epoch 1/5\n"
     ]
    },
    {
     "name": "stderr",
     "output_type": "stream",
     "text": [
      "C:\\Users\\ASUS\\AppData\\Local\\Temp\\ipykernel_16956\\3368467860.py:59: UserWarning: `Model.fit_generator` is deprecated and will be removed in a future version. Please use `Model.fit`, which supports generators.\n",
      "  model.fit_generator(train_generator,\n"
     ]
    },
    {
     "name": "stdout",
     "output_type": "stream",
     "text": [
      "7/7 [==============================] - 2s 219ms/step - loss: 0.5121 - accuracy: 0.9811 - val_loss: 0.4783 - val_accuracy: 1.0000\n",
      "Epoch 2/5\n",
      "7/7 [==============================] - 1s 197ms/step - loss: 0.4944 - accuracy: 0.9811 - val_loss: 0.4660 - val_accuracy: 1.0000\n",
      "Epoch 3/5\n",
      "7/7 [==============================] - 1s 201ms/step - loss: 0.4739 - accuracy: 0.9811 - val_loss: 0.4517 - val_accuracy: 1.0000\n",
      "Epoch 4/5\n",
      "7/7 [==============================] - 1s 200ms/step - loss: 0.4556 - accuracy: 0.9811 - val_loss: 0.4141 - val_accuracy: 1.0000\n",
      "Epoch 5/5\n",
      "7/7 [==============================] - 1s 202ms/step - loss: 0.4028 - accuracy: 0.9811 - val_loss: 0.4654 - val_accuracy: 0.8750\n",
      "Found 61 validated image filenames belonging to 2 classes.\n",
      "Found 15 validated image filenames belonging to 2 classes.\n",
      "Epoch 1/5\n"
     ]
    },
    {
     "name": "stderr",
     "output_type": "stream",
     "text": [
      "C:\\Users\\ASUS\\AppData\\Local\\Temp\\ipykernel_16956\\3368467860.py:59: UserWarning: `Model.fit_generator` is deprecated and will be removed in a future version. Please use `Model.fit`, which supports generators.\n",
      "  model.fit_generator(train_generator,\n"
     ]
    },
    {
     "name": "stdout",
     "output_type": "stream",
     "text": [
      "7/7 [==============================] - 2s 219ms/step - loss: 0.3099 - accuracy: 0.9811 - val_loss: 0.0499 - val_accuracy: 1.0000\n",
      "Epoch 2/5\n",
      "7/7 [==============================] - 1s 198ms/step - loss: 0.2706 - accuracy: 0.9811 - val_loss: 1.1758 - val_accuracy: 0.8750\n",
      "Epoch 3/5\n",
      "7/7 [==============================] - 1s 205ms/step - loss: 0.2274 - accuracy: 0.9811 - val_loss: 0.0485 - val_accuracy: 1.0000\n",
      "Epoch 4/5\n",
      "7/7 [==============================] - 1s 213ms/step - loss: 0.2581 - accuracy: 0.9811 - val_loss: 1.3643 - val_accuracy: 0.8750\n",
      "Epoch 5/5\n",
      "7/7 [==============================] - 1s 196ms/step - loss: 0.2215 - accuracy: 0.9811 - val_loss: 0.1146 - val_accuracy: 1.0000\n",
      "Found 61 validated image filenames belonging to 1 classes.\n",
      "Found 15 validated image filenames belonging to 1 classes.\n",
      "Epoch 1/5\n"
     ]
    },
    {
     "name": "stderr",
     "output_type": "stream",
     "text": [
      "C:\\Users\\ASUS\\AppData\\Local\\Temp\\ipykernel_16956\\3368467860.py:59: UserWarning: `Model.fit_generator` is deprecated and will be removed in a future version. Please use `Model.fit`, which supports generators.\n",
      "  model.fit_generator(train_generator,\n"
     ]
    },
    {
     "name": "stdout",
     "output_type": "stream",
     "text": [
      "7/7 [==============================] - 2s 221ms/step - loss: 0.4983 - accuracy: 1.0000 - val_loss: 0.3679 - val_accuracy: 1.0000\n",
      "Epoch 2/5\n",
      "7/7 [==============================] - 1s 193ms/step - loss: 0.3673 - accuracy: 1.0000 - val_loss: 0.3681 - val_accuracy: 1.0000\n",
      "Epoch 3/5\n",
      "7/7 [==============================] - 1s 190ms/step - loss: 0.3658 - accuracy: 1.0000 - val_loss: 0.3661 - val_accuracy: 1.0000\n",
      "Epoch 4/5\n",
      "7/7 [==============================] - 1s 190ms/step - loss: 0.3642 - accuracy: 1.0000 - val_loss: 0.3660 - val_accuracy: 1.0000\n",
      "Epoch 5/5\n",
      "7/7 [==============================] - 1s 193ms/step - loss: 0.3618 - accuracy: 1.0000 - val_loss: 0.3619 - val_accuracy: 1.0000\n",
      "Found 61 validated image filenames belonging to 1 classes.\n",
      "Found 15 validated image filenames belonging to 1 classes.\n",
      "Epoch 1/5\n"
     ]
    },
    {
     "name": "stderr",
     "output_type": "stream",
     "text": [
      "C:\\Users\\ASUS\\AppData\\Local\\Temp\\ipykernel_16956\\3368467860.py:59: UserWarning: `Model.fit_generator` is deprecated and will be removed in a future version. Please use `Model.fit`, which supports generators.\n",
      "  model.fit_generator(train_generator,\n"
     ]
    },
    {
     "name": "stdout",
     "output_type": "stream",
     "text": [
      "7/7 [==============================] - 2s 225ms/step - loss: 0.3594 - accuracy: 1.0000 - val_loss: 0.3597 - val_accuracy: 1.0000\n",
      "Epoch 2/5\n",
      "7/7 [==============================] - 1s 189ms/step - loss: 0.3579 - accuracy: 1.0000 - val_loss: 0.3577 - val_accuracy: 1.0000\n",
      "Epoch 3/5\n",
      "7/7 [==============================] - 1s 198ms/step - loss: 0.3552 - accuracy: 1.0000 - val_loss: 0.3552 - val_accuracy: 1.0000\n",
      "Epoch 4/5\n",
      "7/7 [==============================] - 1s 194ms/step - loss: 0.3531 - accuracy: 1.0000 - val_loss: 0.3555 - val_accuracy: 1.0000\n",
      "Epoch 5/5\n",
      "7/7 [==============================] - 1s 200ms/step - loss: 0.3508 - accuracy: 1.0000 - val_loss: 0.3511 - val_accuracy: 1.0000\n",
      "Found 61 validated image filenames belonging to 1 classes.\n",
      "Found 15 validated image filenames belonging to 1 classes.\n",
      "Epoch 1/5\n"
     ]
    },
    {
     "name": "stderr",
     "output_type": "stream",
     "text": [
      "C:\\Users\\ASUS\\AppData\\Local\\Temp\\ipykernel_16956\\3368467860.py:59: UserWarning: `Model.fit_generator` is deprecated and will be removed in a future version. Please use `Model.fit`, which supports generators.\n",
      "  model.fit_generator(train_generator,\n"
     ]
    },
    {
     "name": "stdout",
     "output_type": "stream",
     "text": [
      "7/7 [==============================] - 2s 225ms/step - loss: 0.3490 - accuracy: 1.0000 - val_loss: 0.3488 - val_accuracy: 1.0000\n",
      "Epoch 2/5\n",
      "7/7 [==============================] - 1s 200ms/step - loss: 0.3470 - accuracy: 1.0000 - val_loss: 0.3471 - val_accuracy: 1.0000\n",
      "Epoch 3/5\n",
      "7/7 [==============================] - 1s 202ms/step - loss: 0.3446 - accuracy: 1.0000 - val_loss: 0.3449 - val_accuracy: 1.0000\n",
      "Epoch 4/5\n",
      "7/7 [==============================] - 1s 198ms/step - loss: 0.3426 - accuracy: 1.0000 - val_loss: 0.3449 - val_accuracy: 1.0000\n",
      "Epoch 5/5\n",
      "7/7 [==============================] - 1s 191ms/step - loss: 0.3408 - accuracy: 1.0000 - val_loss: 0.3409 - val_accuracy: 1.0000\n",
      "Found 61 validated image filenames belonging to 2 classes.\n",
      "Found 15 validated image filenames belonging to 2 classes.\n",
      "Epoch 1/5\n"
     ]
    },
    {
     "name": "stderr",
     "output_type": "stream",
     "text": [
      "C:\\Users\\ASUS\\AppData\\Local\\Temp\\ipykernel_16956\\3368467860.py:59: UserWarning: `Model.fit_generator` is deprecated and will be removed in a future version. Please use `Model.fit`, which supports generators.\n",
      "  model.fit_generator(train_generator,\n"
     ]
    },
    {
     "name": "stdout",
     "output_type": "stream",
     "text": [
      "7/7 [==============================] - 2s 227ms/step - loss: 0.5696 - accuracy: 0.9811 - val_loss: 0.5294 - val_accuracy: 1.0000\n",
      "Epoch 2/5\n",
      "7/7 [==============================] - 1s 196ms/step - loss: 0.5641 - accuracy: 0.9811 - val_loss: 0.5423 - val_accuracy: 1.0000\n",
      "Epoch 3/5\n",
      "7/7 [==============================] - 1s 193ms/step - loss: 0.5434 - accuracy: 0.9811 - val_loss: 0.5077 - val_accuracy: 1.0000\n",
      "Epoch 4/5\n",
      "7/7 [==============================] - 1s 212ms/step - loss: 0.5175 - accuracy: 0.9821 - val_loss: 0.4955 - val_accuracy: 1.0000\n",
      "Epoch 5/5\n",
      "7/7 [==============================] - 1s 207ms/step - loss: 0.4901 - accuracy: 0.9811 - val_loss: 0.4455 - val_accuracy: 1.0000\n",
      "Found 61 validated image filenames belonging to 2 classes.\n",
      "Found 15 validated image filenames belonging to 2 classes.\n",
      "Epoch 1/5\n"
     ]
    },
    {
     "name": "stderr",
     "output_type": "stream",
     "text": [
      "C:\\Users\\ASUS\\AppData\\Local\\Temp\\ipykernel_16956\\3368467860.py:59: UserWarning: `Model.fit_generator` is deprecated and will be removed in a future version. Please use `Model.fit`, which supports generators.\n",
      "  model.fit_generator(train_generator,\n"
     ]
    },
    {
     "name": "stdout",
     "output_type": "stream",
     "text": [
      "7/7 [==============================] - 2s 222ms/step - loss: 0.5084 - accuracy: 0.9434 - val_loss: 0.4377 - val_accuracy: 1.0000\n",
      "Epoch 2/5\n",
      "7/7 [==============================] - 1s 204ms/step - loss: 0.4771 - accuracy: 0.9623 - val_loss: 0.4366 - val_accuracy: 1.0000\n",
      "Epoch 3/5\n",
      "7/7 [==============================] - 1s 201ms/step - loss: 0.4900 - accuracy: 0.9434 - val_loss: 0.6944 - val_accuracy: 0.7500\n",
      "Epoch 4/5\n",
      "7/7 [==============================] - 1s 208ms/step - loss: 0.4833 - accuracy: 0.9434 - val_loss: 0.4182 - val_accuracy: 1.0000\n",
      "Epoch 5/5\n",
      "7/7 [==============================] - 1s 207ms/step - loss: 0.4826 - accuracy: 0.9434 - val_loss: 0.4129 - val_accuracy: 1.0000\n",
      "Found 61 validated image filenames belonging to 2 classes.\n",
      "Found 15 validated image filenames belonging to 2 classes.\n",
      "Epoch 1/5\n"
     ]
    },
    {
     "name": "stderr",
     "output_type": "stream",
     "text": [
      "C:\\Users\\ASUS\\AppData\\Local\\Temp\\ipykernel_16956\\3368467860.py:59: UserWarning: `Model.fit_generator` is deprecated and will be removed in a future version. Please use `Model.fit`, which supports generators.\n",
      "  model.fit_generator(train_generator,\n"
     ]
    },
    {
     "name": "stdout",
     "output_type": "stream",
     "text": [
      "7/7 [==============================] - 2s 224ms/step - loss: 0.4162 - accuracy: 1.0000 - val_loss: 0.4065 - val_accuracy: 1.0000\n",
      "Epoch 2/5\n",
      "7/7 [==============================] - 1s 209ms/step - loss: 0.4068 - accuracy: 1.0000 - val_loss: 0.4003 - val_accuracy: 1.0000\n",
      "Epoch 3/5\n",
      "7/7 [==============================] - 1s 198ms/step - loss: 0.4017 - accuracy: 1.0000 - val_loss: 0.4032 - val_accuracy: 1.0000\n",
      "Epoch 4/5\n",
      "7/7 [==============================] - 1s 194ms/step - loss: 0.3956 - accuracy: 1.0000 - val_loss: 0.3942 - val_accuracy: 1.0000\n",
      "Epoch 5/5\n",
      "7/7 [==============================] - 1s 194ms/step - loss: 0.3880 - accuracy: 1.0000 - val_loss: 0.3735 - val_accuracy: 1.0000\n",
      "Found 61 validated image filenames belonging to 2 classes.\n",
      "Found 15 validated image filenames belonging to 2 classes.\n",
      "Epoch 1/5\n"
     ]
    },
    {
     "name": "stderr",
     "output_type": "stream",
     "text": [
      "C:\\Users\\ASUS\\AppData\\Local\\Temp\\ipykernel_16956\\3368467860.py:59: UserWarning: `Model.fit_generator` is deprecated and will be removed in a future version. Please use `Model.fit`, which supports generators.\n",
      "  model.fit_generator(train_generator,\n"
     ]
    },
    {
     "name": "stdout",
     "output_type": "stream",
     "text": [
      "7/7 [==============================] - 2s 226ms/step - loss: 0.3733 - accuracy: 1.0000 - val_loss: 0.3675 - val_accuracy: 1.0000\n",
      "Epoch 2/5\n",
      "7/7 [==============================] - 2s 218ms/step - loss: 0.3603 - accuracy: 1.0000 - val_loss: 0.3347 - val_accuracy: 1.0000\n",
      "Epoch 3/5\n",
      "7/7 [==============================] - 1s 198ms/step - loss: 0.3363 - accuracy: 1.0000 - val_loss: 0.3219 - val_accuracy: 1.0000\n",
      "Epoch 4/5\n",
      "7/7 [==============================] - 1s 190ms/step - loss: 0.2828 - accuracy: 1.0000 - val_loss: 0.2504 - val_accuracy: 1.0000\n",
      "Epoch 5/5\n",
      "7/7 [==============================] - 1s 191ms/step - loss: 0.0662 - accuracy: 1.0000 - val_loss: 1.2753e-08 - val_accuracy: 1.0000\n",
      "Found 61 validated image filenames belonging to 1 classes.\n",
      "Found 15 validated image filenames belonging to 1 classes.\n",
      "Epoch 1/5\n"
     ]
    },
    {
     "name": "stderr",
     "output_type": "stream",
     "text": [
      "C:\\Users\\ASUS\\AppData\\Local\\Temp\\ipykernel_16956\\3368467860.py:59: UserWarning: `Model.fit_generator` is deprecated and will be removed in a future version. Please use `Model.fit`, which supports generators.\n",
      "  model.fit_generator(train_generator,\n"
     ]
    },
    {
     "name": "stdout",
     "output_type": "stream",
     "text": [
      "7/7 [==============================] - 1s 208ms/step - loss: 6.7568 - accuracy: 1.0000 - val_loss: 0.4302 - val_accuracy: 1.0000\n",
      "Epoch 2/5\n",
      "7/7 [==============================] - 1s 196ms/step - loss: 0.4285 - accuracy: 1.0000 - val_loss: 0.4144 - val_accuracy: 1.0000\n",
      "Epoch 3/5\n",
      "7/7 [==============================] - 1s 194ms/step - loss: 0.4014 - accuracy: 1.0000 - val_loss: 0.3931 - val_accuracy: 1.0000\n",
      "Epoch 4/5\n",
      "7/7 [==============================] - 1s 202ms/step - loss: 0.3925 - accuracy: 1.0000 - val_loss: 0.3892 - val_accuracy: 1.0000\n",
      "Epoch 5/5\n",
      "7/7 [==============================] - 1s 193ms/step - loss: 0.3871 - accuracy: 1.0000 - val_loss: 0.3839 - val_accuracy: 1.0000\n",
      "Found 61 validated image filenames belonging to 1 classes.\n",
      "Found 15 validated image filenames belonging to 1 classes.\n",
      "Epoch 1/5\n"
     ]
    },
    {
     "name": "stderr",
     "output_type": "stream",
     "text": [
      "C:\\Users\\ASUS\\AppData\\Local\\Temp\\ipykernel_16956\\3368467860.py:59: UserWarning: `Model.fit_generator` is deprecated and will be removed in a future version. Please use `Model.fit`, which supports generators.\n",
      "  model.fit_generator(train_generator,\n"
     ]
    },
    {
     "name": "stdout",
     "output_type": "stream",
     "text": [
      "7/7 [==============================] - 1s 212ms/step - loss: 0.3825 - accuracy: 1.0000 - val_loss: 0.3841 - val_accuracy: 1.0000\n",
      "Epoch 2/5\n",
      "7/7 [==============================] - 1s 191ms/step - loss: 0.3796 - accuracy: 1.0000 - val_loss: 0.3784 - val_accuracy: 1.0000\n",
      "Epoch 3/5\n",
      "7/7 [==============================] - 1s 187ms/step - loss: 0.3764 - accuracy: 1.0000 - val_loss: 0.3732 - val_accuracy: 1.0000\n",
      "Epoch 4/5\n",
      "7/7 [==============================] - 1s 188ms/step - loss: 0.3727 - accuracy: 1.0000 - val_loss: 0.3704 - val_accuracy: 1.0000\n",
      "Epoch 5/5\n",
      "7/7 [==============================] - 1s 187ms/step - loss: 0.3700 - accuracy: 1.0000 - val_loss: 0.3675 - val_accuracy: 1.0000\n",
      "Found 61 validated image filenames belonging to 2 classes.\n",
      "Found 15 validated image filenames belonging to 2 classes.\n",
      "Epoch 1/5\n"
     ]
    },
    {
     "name": "stderr",
     "output_type": "stream",
     "text": [
      "C:\\Users\\ASUS\\AppData\\Local\\Temp\\ipykernel_16956\\3368467860.py:59: UserWarning: `Model.fit_generator` is deprecated and will be removed in a future version. Please use `Model.fit`, which supports generators.\n",
      "  model.fit_generator(train_generator,\n"
     ]
    },
    {
     "name": "stdout",
     "output_type": "stream",
     "text": [
      "7/7 [==============================] - 1s 215ms/step - loss: 0.4098 - accuracy: 1.0000 - val_loss: 0.4048 - val_accuracy: 1.0000\n",
      "Epoch 2/5\n",
      "7/7 [==============================] - 1s 189ms/step - loss: 0.4085 - accuracy: 1.0000 - val_loss: 0.4076 - val_accuracy: 1.0000\n",
      "Epoch 3/5\n",
      "7/7 [==============================] - 1s 187ms/step - loss: 0.4057 - accuracy: 1.0000 - val_loss: 0.4052 - val_accuracy: 1.0000\n",
      "Epoch 4/5\n",
      "7/7 [==============================] - 1s 187ms/step - loss: 0.4004 - accuracy: 1.0000 - val_loss: 0.3911 - val_accuracy: 1.0000\n",
      "Epoch 5/5\n",
      "7/7 [==============================] - 1s 190ms/step - loss: 0.3962 - accuracy: 1.0000 - val_loss: 0.3946 - val_accuracy: 1.0000\n",
      "Found 61 validated image filenames belonging to 2 classes.\n",
      "Found 15 validated image filenames belonging to 2 classes.\n",
      "Epoch 1/5\n"
     ]
    },
    {
     "name": "stderr",
     "output_type": "stream",
     "text": [
      "C:\\Users\\ASUS\\AppData\\Local\\Temp\\ipykernel_16956\\3368467860.py:59: UserWarning: `Model.fit_generator` is deprecated and will be removed in a future version. Please use `Model.fit`, which supports generators.\n",
      "  model.fit_generator(train_generator,\n"
     ]
    },
    {
     "name": "stdout",
     "output_type": "stream",
     "text": [
      "7/7 [==============================] - 1s 209ms/step - loss: 0.4367 - accuracy: 0.9623 - val_loss: 0.5358 - val_accuracy: 0.8750\n",
      "Epoch 2/5\n",
      "7/7 [==============================] - 1s 196ms/step - loss: 0.4310 - accuracy: 0.9623 - val_loss: 0.5325 - val_accuracy: 0.8750\n",
      "Epoch 3/5\n",
      "7/7 [==============================] - 1s 189ms/step - loss: 0.4237 - accuracy: 0.9623 - val_loss: 0.3803 - val_accuracy: 1.0000\n",
      "Epoch 4/5\n",
      "7/7 [==============================] - 1s 188ms/step - loss: 0.3949 - accuracy: 0.9811 - val_loss: 0.3688 - val_accuracy: 1.0000\n",
      "Epoch 5/5\n",
      "7/7 [==============================] - 1s 196ms/step - loss: 0.3863 - accuracy: 0.9811 - val_loss: 0.3662 - val_accuracy: 1.0000\n",
      "Found 61 validated image filenames belonging to 1 classes.\n",
      "Found 15 validated image filenames belonging to 1 classes.\n",
      "Epoch 1/5\n"
     ]
    },
    {
     "name": "stderr",
     "output_type": "stream",
     "text": [
      "C:\\Users\\ASUS\\AppData\\Local\\Temp\\ipykernel_16956\\3368467860.py:59: UserWarning: `Model.fit_generator` is deprecated and will be removed in a future version. Please use `Model.fit`, which supports generators.\n",
      "  model.fit_generator(train_generator,\n"
     ]
    },
    {
     "name": "stdout",
     "output_type": "stream",
     "text": [
      "7/7 [==============================] - 1s 208ms/step - loss: 0.4011 - accuracy: 1.0000 - val_loss: 0.4088 - val_accuracy: 1.0000\n",
      "Epoch 2/5\n",
      "7/7 [==============================] - 1s 200ms/step - loss: 0.4047 - accuracy: 1.0000 - val_loss: 0.4139 - val_accuracy: 1.0000\n",
      "Epoch 3/5\n",
      "7/7 [==============================] - 1s 185ms/step - loss: 0.4001 - accuracy: 1.0000 - val_loss: 0.3920 - val_accuracy: 1.0000\n",
      "Epoch 4/5\n",
      "7/7 [==============================] - 1s 189ms/step - loss: 0.3917 - accuracy: 1.0000 - val_loss: 0.3989 - val_accuracy: 1.0000\n",
      "Epoch 5/5\n",
      "7/7 [==============================] - 1s 191ms/step - loss: 0.3885 - accuracy: 1.0000 - val_loss: 0.3848 - val_accuracy: 1.0000\n",
      "Found 61 validated image filenames belonging to 2 classes.\n",
      "Found 15 validated image filenames belonging to 2 classes.\n",
      "Epoch 1/5\n"
     ]
    },
    {
     "name": "stderr",
     "output_type": "stream",
     "text": [
      "C:\\Users\\ASUS\\AppData\\Local\\Temp\\ipykernel_16956\\3368467860.py:59: UserWarning: `Model.fit_generator` is deprecated and will be removed in a future version. Please use `Model.fit`, which supports generators.\n",
      "  model.fit_generator(train_generator,\n"
     ]
    },
    {
     "name": "stdout",
     "output_type": "stream",
     "text": [
      "7/7 [==============================] - 2s 217ms/step - loss: 0.4217 - accuracy: 0.9643 - val_loss: 0.3721 - val_accuracy: 1.0000\n",
      "Epoch 2/5\n",
      "7/7 [==============================] - 1s 189ms/step - loss: 0.4243 - accuracy: 0.9623 - val_loss: 0.3713 - val_accuracy: 1.0000\n",
      "Epoch 3/5\n",
      "7/7 [==============================] - 1s 192ms/step - loss: 0.4232 - accuracy: 0.9623 - val_loss: 0.3753 - val_accuracy: 1.0000\n",
      "Epoch 4/5\n",
      "7/7 [==============================] - 1s 194ms/step - loss: 0.4097 - accuracy: 0.9643 - val_loss: 0.3551 - val_accuracy: 1.0000\n",
      "Epoch 5/5\n",
      "7/7 [==============================] - 1s 191ms/step - loss: 0.4063 - accuracy: 0.9623 - val_loss: 0.3604 - val_accuracy: 1.0000\n",
      "Found 61 validated image filenames belonging to 2 classes.\n",
      "Found 15 validated image filenames belonging to 2 classes.\n",
      "Epoch 1/5\n"
     ]
    },
    {
     "name": "stderr",
     "output_type": "stream",
     "text": [
      "C:\\Users\\ASUS\\AppData\\Local\\Temp\\ipykernel_16956\\3368467860.py:59: UserWarning: `Model.fit_generator` is deprecated and will be removed in a future version. Please use `Model.fit`, which supports generators.\n",
      "  model.fit_generator(train_generator,\n"
     ]
    },
    {
     "name": "stdout",
     "output_type": "stream",
     "text": [
      "7/7 [==============================] - 1s 208ms/step - loss: 0.3724 - accuracy: 0.9811 - val_loss: 0.3410 - val_accuracy: 1.0000\n",
      "Epoch 2/5\n",
      "7/7 [==============================] - 1s 190ms/step - loss: 0.3538 - accuracy: 0.9811 - val_loss: 0.2980 - val_accuracy: 1.0000\n",
      "Epoch 3/5\n",
      "7/7 [==============================] - 1s 187ms/step - loss: 0.3337 - accuracy: 0.9811 - val_loss: 0.3111 - val_accuracy: 1.0000\n",
      "Epoch 4/5\n",
      "7/7 [==============================] - 1s 188ms/step - loss: 0.2889 - accuracy: 0.9811 - val_loss: 0.2637 - val_accuracy: 1.0000\n",
      "Epoch 5/5\n",
      "7/7 [==============================] - 1s 189ms/step - loss: 0.2055 - accuracy: 0.9811 - val_loss: 0.1250 - val_accuracy: 1.0000\n",
      "Found 61 validated image filenames belonging to 2 classes.\n",
      "Found 15 validated image filenames belonging to 2 classes.\n",
      "Epoch 1/5\n"
     ]
    },
    {
     "name": "stderr",
     "output_type": "stream",
     "text": [
      "C:\\Users\\ASUS\\AppData\\Local\\Temp\\ipykernel_16956\\3368467860.py:59: UserWarning: `Model.fit_generator` is deprecated and will be removed in a future version. Please use `Model.fit`, which supports generators.\n",
      "  model.fit_generator(train_generator,\n"
     ]
    },
    {
     "name": "stdout",
     "output_type": "stream",
     "text": [
      "7/7 [==============================] - 1s 209ms/step - loss: 0.0704 - accuracy: 0.9811 - val_loss: 3.9398e-06 - val_accuracy: 1.0000\n",
      "Epoch 2/5\n",
      "7/7 [==============================] - 1s 189ms/step - loss: 0.6397 - accuracy: 0.9811 - val_loss: 0.1629 - val_accuracy: 1.0000\n",
      "Epoch 3/5\n",
      "7/7 [==============================] - 1s 188ms/step - loss: 0.2228 - accuracy: 0.9811 - val_loss: 0.2556 - val_accuracy: 1.0000\n",
      "Epoch 4/5\n",
      "7/7 [==============================] - 1s 188ms/step - loss: 0.2251 - accuracy: 0.9811 - val_loss: 0.3643 - val_accuracy: 0.8750\n",
      "Epoch 5/5\n",
      "7/7 [==============================] - 1s 197ms/step - loss: 0.4334 - accuracy: 0.9811 - val_loss: 0.1970 - val_accuracy: 1.0000\n",
      "Found 61 validated image filenames belonging to 1 classes.\n",
      "Found 15 validated image filenames belonging to 1 classes.\n",
      "Epoch 1/5\n"
     ]
    },
    {
     "name": "stderr",
     "output_type": "stream",
     "text": [
      "C:\\Users\\ASUS\\AppData\\Local\\Temp\\ipykernel_16956\\3368467860.py:59: UserWarning: `Model.fit_generator` is deprecated and will be removed in a future version. Please use `Model.fit`, which supports generators.\n",
      "  model.fit_generator(train_generator,\n"
     ]
    },
    {
     "name": "stdout",
     "output_type": "stream",
     "text": [
      "7/7 [==============================] - 2s 220ms/step - loss: 0.6769 - accuracy: 1.0000 - val_loss: 0.4559 - val_accuracy: 1.0000\n",
      "Epoch 2/5\n",
      "7/7 [==============================] - 1s 191ms/step - loss: 0.4456 - accuracy: 1.0000 - val_loss: 0.4384 - val_accuracy: 1.0000\n",
      "Epoch 3/5\n",
      "7/7 [==============================] - 1s 190ms/step - loss: 0.4217 - accuracy: 1.0000 - val_loss: 0.4092 - val_accuracy: 1.0000\n",
      "Epoch 4/5\n",
      "7/7 [==============================] - 1s 187ms/step - loss: 0.4140 - accuracy: 1.0000 - val_loss: 0.4207 - val_accuracy: 1.0000\n",
      "Epoch 5/5\n",
      "7/7 [==============================] - 1s 189ms/step - loss: 0.4073 - accuracy: 1.0000 - val_loss: 0.4026 - val_accuracy: 1.0000\n",
      "Found 61 validated image filenames belonging to 2 classes.\n",
      "Found 15 validated image filenames belonging to 2 classes.\n",
      "Epoch 1/5\n"
     ]
    },
    {
     "name": "stderr",
     "output_type": "stream",
     "text": [
      "C:\\Users\\ASUS\\AppData\\Local\\Temp\\ipykernel_16956\\3368467860.py:59: UserWarning: `Model.fit_generator` is deprecated and will be removed in a future version. Please use `Model.fit`, which supports generators.\n",
      "  model.fit_generator(train_generator,\n"
     ]
    },
    {
     "name": "stdout",
     "output_type": "stream",
     "text": [
      "7/7 [==============================] - 1s 218ms/step - loss: 0.3823 - accuracy: 0.9811 - val_loss: 0.3524 - val_accuracy: 1.0000\n",
      "Epoch 2/5\n",
      "7/7 [==============================] - 1s 189ms/step - loss: 0.3808 - accuracy: 0.9811 - val_loss: 0.3509 - val_accuracy: 1.0000\n",
      "Epoch 3/5\n",
      "7/7 [==============================] - 1s 201ms/step - loss: 0.3744 - accuracy: 0.9821 - val_loss: 0.3564 - val_accuracy: 1.0000\n",
      "Epoch 4/5\n",
      "7/7 [==============================] - 1s 187ms/step - loss: 0.3745 - accuracy: 0.9811 - val_loss: 0.3435 - val_accuracy: 1.0000\n",
      "Epoch 5/5\n",
      "7/7 [==============================] - 1s 194ms/step - loss: 0.3730 - accuracy: 0.9811 - val_loss: 0.3407 - val_accuracy: 1.0000\n",
      "Found 61 validated image filenames belonging to 2 classes.\n",
      "Found 15 validated image filenames belonging to 2 classes.\n",
      "Epoch 1/5\n"
     ]
    },
    {
     "name": "stderr",
     "output_type": "stream",
     "text": [
      "C:\\Users\\ASUS\\AppData\\Local\\Temp\\ipykernel_16956\\3368467860.py:59: UserWarning: `Model.fit_generator` is deprecated and will be removed in a future version. Please use `Model.fit`, which supports generators.\n",
      "  model.fit_generator(train_generator,\n"
     ]
    },
    {
     "name": "stdout",
     "output_type": "stream",
     "text": [
      "7/7 [==============================] - 1s 210ms/step - loss: 0.3905 - accuracy: 0.9623 - val_loss: 0.3321 - val_accuracy: 1.0000\n",
      "Epoch 2/5\n",
      "7/7 [==============================] - 1s 197ms/step - loss: 0.3805 - accuracy: 0.9643 - val_loss: 0.3201 - val_accuracy: 1.0000\n",
      "Epoch 3/5\n",
      "7/7 [==============================] - 1s 189ms/step - loss: 0.3466 - accuracy: 0.9811 - val_loss: 0.3333 - val_accuracy: 1.0000\n",
      "Epoch 4/5\n",
      "7/7 [==============================] - 1s 190ms/step - loss: 0.3680 - accuracy: 0.9623 - val_loss: 0.3107 - val_accuracy: 1.0000\n",
      "Epoch 5/5\n",
      "7/7 [==============================] - 1s 194ms/step - loss: 0.3071 - accuracy: 1.0000 - val_loss: 0.2941 - val_accuracy: 1.0000\n",
      "Found 61 validated image filenames belonging to 2 classes.\n",
      "Found 15 validated image filenames belonging to 2 classes.\n",
      "Epoch 1/5\n"
     ]
    },
    {
     "name": "stderr",
     "output_type": "stream",
     "text": [
      "C:\\Users\\ASUS\\AppData\\Local\\Temp\\ipykernel_16956\\3368467860.py:59: UserWarning: `Model.fit_generator` is deprecated and will be removed in a future version. Please use `Model.fit`, which supports generators.\n",
      "  model.fit_generator(train_generator,\n"
     ]
    },
    {
     "name": "stdout",
     "output_type": "stream",
     "text": [
      "7/7 [==============================] - 1s 217ms/step - loss: 0.2987 - accuracy: 1.0000 - val_loss: 0.3246 - val_accuracy: 1.0000\n",
      "Epoch 2/5\n",
      "7/7 [==============================] - 1s 191ms/step - loss: 0.3204 - accuracy: 0.9811 - val_loss: 0.2624 - val_accuracy: 1.0000\n",
      "Epoch 3/5\n",
      "7/7 [==============================] - 1s 188ms/step - loss: 0.2916 - accuracy: 0.9811 - val_loss: 0.2677 - val_accuracy: 1.0000\n",
      "Epoch 4/5\n",
      "7/7 [==============================] - 1s 188ms/step - loss: 0.2714 - accuracy: 0.9811 - val_loss: 0.2347 - val_accuracy: 1.0000\n",
      "Epoch 5/5\n",
      "7/7 [==============================] - 1s 192ms/step - loss: 0.2532 - accuracy: 0.9811 - val_loss: 0.2001 - val_accuracy: 1.0000\n",
      "Found 61 validated image filenames belonging to 1 classes.\n",
      "Found 15 validated image filenames belonging to 1 classes.\n",
      "Epoch 1/5\n"
     ]
    },
    {
     "name": "stderr",
     "output_type": "stream",
     "text": [
      "C:\\Users\\ASUS\\AppData\\Local\\Temp\\ipykernel_16956\\3368467860.py:59: UserWarning: `Model.fit_generator` is deprecated and will be removed in a future version. Please use `Model.fit`, which supports generators.\n",
      "  model.fit_generator(train_generator,\n"
     ]
    },
    {
     "name": "stdout",
     "output_type": "stream",
     "text": [
      "7/7 [==============================] - 1s 210ms/step - loss: 0.6652 - accuracy: 1.0000 - val_loss: 0.4629 - val_accuracy: 1.0000\n",
      "Epoch 2/5\n",
      "7/7 [==============================] - 1s 192ms/step - loss: 0.5502 - accuracy: 1.0000 - val_loss: 0.4929 - val_accuracy: 1.0000\n",
      "Epoch 3/5\n",
      "7/7 [==============================] - 1s 192ms/step - loss: 0.4625 - accuracy: 1.0000 - val_loss: 0.4362 - val_accuracy: 1.0000\n",
      "Epoch 4/5\n",
      "7/7 [==============================] - 1s 201ms/step - loss: 0.4457 - accuracy: 1.0000 - val_loss: 0.4323 - val_accuracy: 1.0000\n",
      "Epoch 5/5\n",
      "7/7 [==============================] - 1s 192ms/step - loss: 0.4274 - accuracy: 1.0000 - val_loss: 0.4235 - val_accuracy: 1.0000\n",
      "Found 61 validated image filenames belonging to 2 classes.\n",
      "Found 15 validated image filenames belonging to 2 classes.\n",
      "Epoch 1/5\n"
     ]
    },
    {
     "name": "stderr",
     "output_type": "stream",
     "text": [
      "C:\\Users\\ASUS\\AppData\\Local\\Temp\\ipykernel_16956\\3368467860.py:59: UserWarning: `Model.fit_generator` is deprecated and will be removed in a future version. Please use `Model.fit`, which supports generators.\n",
      "  model.fit_generator(train_generator,\n"
     ]
    },
    {
     "name": "stdout",
     "output_type": "stream",
     "text": [
      "7/7 [==============================] - 1s 209ms/step - loss: 0.3323 - accuracy: 1.0000 - val_loss: 0.3388 - val_accuracy: 1.0000\n",
      "Epoch 2/5\n",
      "7/7 [==============================] - 1s 192ms/step - loss: 0.3604 - accuracy: 0.9811 - val_loss: 0.3321 - val_accuracy: 1.0000\n",
      "Epoch 3/5\n",
      "7/7 [==============================] - 1s 188ms/step - loss: 0.3601 - accuracy: 0.9811 - val_loss: 0.3370 - val_accuracy: 1.0000\n",
      "Epoch 4/5\n",
      "7/7 [==============================] - 1s 191ms/step - loss: 0.3532 - accuracy: 0.9811 - val_loss: 0.3279 - val_accuracy: 1.0000\n",
      "Epoch 5/5\n",
      "7/7 [==============================] - 1s 193ms/step - loss: 0.3482 - accuracy: 0.9811 - val_loss: 0.3241 - val_accuracy: 1.0000\n",
      "Found 61 validated image filenames belonging to 2 classes.\n",
      "Found 15 validated image filenames belonging to 2 classes.\n",
      "Epoch 1/5\n"
     ]
    },
    {
     "name": "stderr",
     "output_type": "stream",
     "text": [
      "C:\\Users\\ASUS\\AppData\\Local\\Temp\\ipykernel_16956\\3368467860.py:59: UserWarning: `Model.fit_generator` is deprecated and will be removed in a future version. Please use `Model.fit`, which supports generators.\n",
      "  model.fit_generator(train_generator,\n"
     ]
    },
    {
     "name": "stdout",
     "output_type": "stream",
     "text": [
      "7/7 [==============================] - 1s 209ms/step - loss: 0.3479 - accuracy: 0.9811 - val_loss: 0.3249 - val_accuracy: 1.0000\n",
      "Epoch 2/5\n",
      "7/7 [==============================] - 1s 189ms/step - loss: 0.3702 - accuracy: 0.9623 - val_loss: 0.3141 - val_accuracy: 1.0000\n",
      "Epoch 3/5\n",
      "7/7 [==============================] - 1s 190ms/step - loss: 0.3356 - accuracy: 0.9811 - val_loss: 0.3152 - val_accuracy: 1.0000\n",
      "Epoch 4/5\n",
      "7/7 [==============================] - 1s 190ms/step - loss: 0.3289 - accuracy: 0.9811 - val_loss: 0.2994 - val_accuracy: 1.0000\n",
      "Epoch 5/5\n",
      "7/7 [==============================] - 1s 198ms/step - loss: 0.3552 - accuracy: 0.9623 - val_loss: 0.3005 - val_accuracy: 1.0000\n",
      "Found 61 validated image filenames belonging to 2 classes.\n",
      "Found 15 validated image filenames belonging to 2 classes.\n",
      "Epoch 1/5\n"
     ]
    },
    {
     "name": "stderr",
     "output_type": "stream",
     "text": [
      "C:\\Users\\ASUS\\AppData\\Local\\Temp\\ipykernel_16956\\3368467860.py:59: UserWarning: `Model.fit_generator` is deprecated and will be removed in a future version. Please use `Model.fit`, which supports generators.\n",
      "  model.fit_generator(train_generator,\n"
     ]
    },
    {
     "name": "stdout",
     "output_type": "stream",
     "text": [
      "7/7 [==============================] - 1s 213ms/step - loss: 0.3225 - accuracy: 0.9811 - val_loss: 0.3053 - val_accuracy: 1.0000\n",
      "Epoch 2/5\n",
      "7/7 [==============================] - 1s 194ms/step - loss: 0.2813 - accuracy: 1.0000 - val_loss: 0.2811 - val_accuracy: 1.0000\n",
      "Epoch 3/5\n",
      "7/7 [==============================] - 1s 195ms/step - loss: 0.3000 - accuracy: 0.9821 - val_loss: 0.2877 - val_accuracy: 1.0000\n",
      "Epoch 4/5\n",
      "7/7 [==============================] - 1s 194ms/step - loss: 0.2958 - accuracy: 0.9821 - val_loss: 0.2648 - val_accuracy: 1.0000\n",
      "Epoch 5/5\n",
      "7/7 [==============================] - 1s 194ms/step - loss: 0.2889 - accuracy: 0.9811 - val_loss: 0.2489 - val_accuracy: 1.0000\n",
      "Found 61 validated image filenames belonging to 1 classes.\n",
      "Found 15 validated image filenames belonging to 1 classes.\n",
      "Epoch 1/5\n"
     ]
    },
    {
     "name": "stderr",
     "output_type": "stream",
     "text": [
      "C:\\Users\\ASUS\\AppData\\Local\\Temp\\ipykernel_16956\\3368467860.py:59: UserWarning: `Model.fit_generator` is deprecated and will be removed in a future version. Please use `Model.fit`, which supports generators.\n",
      "  model.fit_generator(train_generator,\n"
     ]
    },
    {
     "name": "stdout",
     "output_type": "stream",
     "text": [
      "7/7 [==============================] - 1s 212ms/step - loss: 0.5207 - accuracy: 1.0000 - val_loss: 0.4724 - val_accuracy: 1.0000\n",
      "Epoch 2/5\n",
      "7/7 [==============================] - 1s 194ms/step - loss: 0.5159 - accuracy: 1.0000 - val_loss: 0.5135 - val_accuracy: 1.0000\n",
      "Epoch 3/5\n",
      "7/7 [==============================] - 1s 200ms/step - loss: 0.4991 - accuracy: 1.0000 - val_loss: 0.4543 - val_accuracy: 1.0000\n",
      "Epoch 4/5\n",
      "7/7 [==============================] - 1s 191ms/step - loss: 0.4750 - accuracy: 1.0000 - val_loss: 0.4552 - val_accuracy: 1.0000\n",
      "Epoch 5/5\n",
      "7/7 [==============================] - 1s 202ms/step - loss: 0.4623 - accuracy: 1.0000 - val_loss: 0.4471 - val_accuracy: 1.0000\n",
      "Found 61 validated image filenames belonging to 1 classes.\n",
      "Found 15 validated image filenames belonging to 1 classes.\n",
      "Epoch 1/5\n"
     ]
    },
    {
     "name": "stderr",
     "output_type": "stream",
     "text": [
      "C:\\Users\\ASUS\\AppData\\Local\\Temp\\ipykernel_16956\\3368467860.py:59: UserWarning: `Model.fit_generator` is deprecated and will be removed in a future version. Please use `Model.fit`, which supports generators.\n",
      "  model.fit_generator(train_generator,\n"
     ]
    },
    {
     "name": "stdout",
     "output_type": "stream",
     "text": [
      "7/7 [==============================] - 1s 207ms/step - loss: 0.4485 - accuracy: 1.0000 - val_loss: 0.4362 - val_accuracy: 1.0000\n",
      "Epoch 2/5\n",
      "7/7 [==============================] - 1s 194ms/step - loss: 0.4394 - accuracy: 1.0000 - val_loss: 0.4315 - val_accuracy: 1.0000\n",
      "Epoch 3/5\n",
      "7/7 [==============================] - 1s 190ms/step - loss: 0.4353 - accuracy: 1.0000 - val_loss: 0.4239 - val_accuracy: 1.0000\n",
      "Epoch 4/5\n",
      "7/7 [==============================] - 1s 189ms/step - loss: 0.4245 - accuracy: 1.0000 - val_loss: 0.4139 - val_accuracy: 1.0000\n",
      "Epoch 5/5\n",
      "7/7 [==============================] - 1s 190ms/step - loss: 0.4152 - accuracy: 1.0000 - val_loss: 0.4022 - val_accuracy: 1.0000\n",
      "Found 61 validated image filenames belonging to 2 classes.\n",
      "Found 15 validated image filenames belonging to 2 classes.\n",
      "Epoch 1/5\n"
     ]
    },
    {
     "name": "stderr",
     "output_type": "stream",
     "text": [
      "C:\\Users\\ASUS\\AppData\\Local\\Temp\\ipykernel_16956\\3368467860.py:59: UserWarning: `Model.fit_generator` is deprecated and will be removed in a future version. Please use `Model.fit`, which supports generators.\n",
      "  model.fit_generator(train_generator,\n"
     ]
    },
    {
     "name": "stdout",
     "output_type": "stream",
     "text": [
      "7/7 [==============================] - 1s 212ms/step - loss: 0.3937 - accuracy: 0.9811 - val_loss: 0.3446 - val_accuracy: 1.0000\n",
      "Epoch 2/5\n",
      "7/7 [==============================] - 1s 200ms/step - loss: 0.3681 - accuracy: 0.9811 - val_loss: 0.3340 - val_accuracy: 1.0000\n",
      "Epoch 3/5\n",
      "7/7 [==============================] - 1s 188ms/step - loss: 0.3244 - accuracy: 1.0000 - val_loss: 0.3293 - val_accuracy: 1.0000\n",
      "Epoch 4/5\n",
      "7/7 [==============================] - 1s 191ms/step - loss: 0.3484 - accuracy: 0.9811 - val_loss: 0.3213 - val_accuracy: 1.0000\n",
      "Epoch 5/5\n",
      "7/7 [==============================] - 1s 191ms/step - loss: 0.3472 - accuracy: 0.9811 - val_loss: 0.3156 - val_accuracy: 1.0000\n",
      "Found 61 validated image filenames belonging to 2 classes.\n",
      "Found 15 validated image filenames belonging to 2 classes.\n",
      "Epoch 1/5\n"
     ]
    },
    {
     "name": "stderr",
     "output_type": "stream",
     "text": [
      "C:\\Users\\ASUS\\AppData\\Local\\Temp\\ipykernel_16956\\3368467860.py:59: UserWarning: `Model.fit_generator` is deprecated and will be removed in a future version. Please use `Model.fit`, which supports generators.\n",
      "  model.fit_generator(train_generator,\n"
     ]
    },
    {
     "name": "stdout",
     "output_type": "stream",
     "text": [
      "7/7 [==============================] - 1s 219ms/step - loss: 0.3450 - accuracy: 0.9811 - val_loss: 0.3189 - val_accuracy: 1.0000\n",
      "Epoch 2/5\n",
      "7/7 [==============================] - 1s 188ms/step - loss: 0.3404 - accuracy: 0.9811 - val_loss: 0.3070 - val_accuracy: 1.0000\n",
      "Epoch 3/5\n",
      "7/7 [==============================] - 1s 197ms/step - loss: 0.3338 - accuracy: 0.9821 - val_loss: 0.3109 - val_accuracy: 1.0000\n",
      "Epoch 4/5\n",
      "7/7 [==============================] - 1s 189ms/step - loss: 0.3307 - accuracy: 0.9811 - val_loss: 0.3013 - val_accuracy: 1.0000\n",
      "Epoch 5/5\n",
      "7/7 [==============================] - 1s 200ms/step - loss: 0.3253 - accuracy: 0.9811 - val_loss: 0.5008 - val_accuracy: 0.8750\n",
      "Found 61 validated image filenames belonging to 1 classes.\n",
      "Found 15 validated image filenames belonging to 1 classes.\n",
      "Epoch 1/5\n"
     ]
    },
    {
     "name": "stderr",
     "output_type": "stream",
     "text": [
      "C:\\Users\\ASUS\\AppData\\Local\\Temp\\ipykernel_16956\\3368467860.py:59: UserWarning: `Model.fit_generator` is deprecated and will be removed in a future version. Please use `Model.fit`, which supports generators.\n",
      "  model.fit_generator(train_generator,\n"
     ]
    },
    {
     "name": "stdout",
     "output_type": "stream",
     "text": [
      "7/7 [==============================] - 1s 209ms/step - loss: 0.4549 - accuracy: 1.0000 - val_loss: 0.4446 - val_accuracy: 1.0000\n",
      "Epoch 2/5\n",
      "7/7 [==============================] - 1s 195ms/step - loss: 0.4592 - accuracy: 1.0000 - val_loss: 0.4514 - val_accuracy: 1.0000\n",
      "Epoch 3/5\n",
      "7/7 [==============================] - 1s 193ms/step - loss: 0.4536 - accuracy: 1.0000 - val_loss: 0.4402 - val_accuracy: 1.0000\n",
      "Epoch 4/5\n",
      "7/7 [==============================] - 1s 188ms/step - loss: 0.4459 - accuracy: 1.0000 - val_loss: 0.4424 - val_accuracy: 1.0000\n",
      "Epoch 5/5\n",
      "7/7 [==============================] - 1s 202ms/step - loss: 0.4401 - accuracy: 1.0000 - val_loss: 0.4337 - val_accuracy: 1.0000\n",
      "Found 61 validated image filenames belonging to 2 classes.\n",
      "Found 15 validated image filenames belonging to 2 classes.\n",
      "Epoch 1/5\n"
     ]
    },
    {
     "name": "stderr",
     "output_type": "stream",
     "text": [
      "C:\\Users\\ASUS\\AppData\\Local\\Temp\\ipykernel_16956\\3368467860.py:59: UserWarning: `Model.fit_generator` is deprecated and will be removed in a future version. Please use `Model.fit`, which supports generators.\n",
      "  model.fit_generator(train_generator,\n"
     ]
    },
    {
     "name": "stdout",
     "output_type": "stream",
     "text": [
      "7/7 [==============================] - 1s 212ms/step - loss: 0.3426 - accuracy: 0.9811 - val_loss: 0.3180 - val_accuracy: 1.0000\n",
      "Epoch 2/5\n",
      "7/7 [==============================] - 1s 190ms/step - loss: 0.3409 - accuracy: 0.9811 - val_loss: 0.3077 - val_accuracy: 1.0000\n",
      "Epoch 3/5\n",
      "7/7 [==============================] - 1s 191ms/step - loss: 0.3377 - accuracy: 0.9811 - val_loss: 0.3156 - val_accuracy: 1.0000\n",
      "Epoch 4/5\n",
      "7/7 [==============================] - 1s 192ms/step - loss: 0.3363 - accuracy: 0.9811 - val_loss: 0.3043 - val_accuracy: 1.0000\n",
      "Epoch 5/5\n",
      "7/7 [==============================] - 1s 188ms/step - loss: 0.3321 - accuracy: 0.9811 - val_loss: 0.2967 - val_accuracy: 1.0000\n",
      "Found 61 validated image filenames belonging to 2 classes.\n",
      "Found 15 validated image filenames belonging to 2 classes.\n",
      "Epoch 1/5\n"
     ]
    },
    {
     "name": "stderr",
     "output_type": "stream",
     "text": [
      "C:\\Users\\ASUS\\AppData\\Local\\Temp\\ipykernel_16956\\3368467860.py:59: UserWarning: `Model.fit_generator` is deprecated and will be removed in a future version. Please use `Model.fit`, which supports generators.\n",
      "  model.fit_generator(train_generator,\n"
     ]
    },
    {
     "name": "stdout",
     "output_type": "stream",
     "text": [
      "7/7 [==============================] - 1s 220ms/step - loss: 0.3604 - accuracy: 0.9623 - val_loss: 0.3049 - val_accuracy: 1.0000\n",
      "Epoch 2/5\n",
      "7/7 [==============================] - 1s 197ms/step - loss: 0.3570 - accuracy: 0.9623 - val_loss: 0.2833 - val_accuracy: 1.0000\n",
      "Epoch 3/5\n",
      "7/7 [==============================] - 1s 192ms/step - loss: 0.3584 - accuracy: 0.9623 - val_loss: 0.2979 - val_accuracy: 1.0000\n",
      "Epoch 4/5\n",
      "7/7 [==============================] - 1s 192ms/step - loss: 0.3426 - accuracy: 0.9623 - val_loss: 0.2810 - val_accuracy: 1.0000\n",
      "Epoch 5/5\n",
      "7/7 [==============================] - 1s 199ms/step - loss: 0.3385 - accuracy: 0.9643 - val_loss: 0.2781 - val_accuracy: 1.0000\n",
      "Found 61 validated image filenames belonging to 2 classes.\n",
      "Found 15 validated image filenames belonging to 2 classes.\n",
      "Epoch 1/5\n"
     ]
    },
    {
     "name": "stderr",
     "output_type": "stream",
     "text": [
      "C:\\Users\\ASUS\\AppData\\Local\\Temp\\ipykernel_16956\\3368467860.py:59: UserWarning: `Model.fit_generator` is deprecated and will be removed in a future version. Please use `Model.fit`, which supports generators.\n",
      "  model.fit_generator(train_generator,\n"
     ]
    },
    {
     "name": "stdout",
     "output_type": "stream",
     "text": [
      "7/7 [==============================] - 1s 210ms/step - loss: 0.3063 - accuracy: 0.9811 - val_loss: 0.2871 - val_accuracy: 1.0000\n",
      "Epoch 2/5\n",
      "7/7 [==============================] - 1s 191ms/step - loss: 0.3038 - accuracy: 0.9811 - val_loss: 0.2589 - val_accuracy: 1.0000\n",
      "Epoch 3/5\n",
      "7/7 [==============================] - 1s 189ms/step - loss: 0.2903 - accuracy: 0.9811 - val_loss: 0.2755 - val_accuracy: 1.0000\n",
      "Epoch 4/5\n",
      "7/7 [==============================] - 1s 198ms/step - loss: 0.2555 - accuracy: 1.0000 - val_loss: 0.2535 - val_accuracy: 1.0000\n",
      "Epoch 5/5\n",
      "7/7 [==============================] - 1s 192ms/step - loss: 0.2743 - accuracy: 0.9811 - val_loss: 0.2423 - val_accuracy: 1.0000\n",
      "Found 61 validated image filenames belonging to 2 classes.\n",
      "Found 15 validated image filenames belonging to 2 classes.\n",
      "Epoch 1/5\n"
     ]
    },
    {
     "name": "stderr",
     "output_type": "stream",
     "text": [
      "C:\\Users\\ASUS\\AppData\\Local\\Temp\\ipykernel_16956\\3368467860.py:59: UserWarning: `Model.fit_generator` is deprecated and will be removed in a future version. Please use `Model.fit`, which supports generators.\n",
      "  model.fit_generator(train_generator,\n"
     ]
    },
    {
     "name": "stdout",
     "output_type": "stream",
     "text": [
      "7/7 [==============================] - 1s 209ms/step - loss: 0.2773 - accuracy: 0.9811 - val_loss: 0.2625 - val_accuracy: 1.0000\n",
      "Epoch 2/5\n",
      "7/7 [==============================] - 1s 190ms/step - loss: 0.2733 - accuracy: 0.9811 - val_loss: 0.2134 - val_accuracy: 1.0000\n",
      "Epoch 3/5\n",
      "7/7 [==============================] - 1s 191ms/step - loss: 0.2619 - accuracy: 0.9811 - val_loss: 0.2226 - val_accuracy: 1.0000\n",
      "Epoch 4/5\n",
      "7/7 [==============================] - 1s 194ms/step - loss: 0.2327 - accuracy: 0.9821 - val_loss: 0.1735 - val_accuracy: 1.0000\n",
      "Epoch 5/5\n",
      "7/7 [==============================] - 1s 196ms/step - loss: 0.1794 - accuracy: 1.0000 - val_loss: 0.1717 - val_accuracy: 1.0000\n",
      "Found 61 validated image filenames belonging to 2 classes.\n",
      "Found 15 validated image filenames belonging to 2 classes.\n",
      "Epoch 1/5\n"
     ]
    },
    {
     "name": "stderr",
     "output_type": "stream",
     "text": [
      "C:\\Users\\ASUS\\AppData\\Local\\Temp\\ipykernel_16956\\3368467860.py:59: UserWarning: `Model.fit_generator` is deprecated and will be removed in a future version. Please use `Model.fit`, which supports generators.\n",
      "  model.fit_generator(train_generator,\n"
     ]
    },
    {
     "name": "stdout",
     "output_type": "stream",
     "text": [
      "7/7 [==============================] - 1s 208ms/step - loss: 0.2633 - accuracy: 0.9623 - val_loss: 0.4416 - val_accuracy: 0.8750\n",
      "Epoch 2/5\n",
      "7/7 [==============================] - 1s 192ms/step - loss: 0.2494 - accuracy: 0.9623 - val_loss: 0.1572 - val_accuracy: 1.0000\n",
      "Epoch 3/5\n",
      "7/7 [==============================] - 1s 194ms/step - loss: 0.2302 - accuracy: 0.9623 - val_loss: 0.1465 - val_accuracy: 1.0000\n",
      "Epoch 4/5\n",
      "7/7 [==============================] - 1s 192ms/step - loss: 0.2461 - accuracy: 0.9623 - val_loss: 0.1621 - val_accuracy: 1.0000\n",
      "Epoch 5/5\n",
      "7/7 [==============================] - 1s 198ms/step - loss: 0.2532 - accuracy: 0.9623 - val_loss: 0.1261 - val_accuracy: 1.0000\n",
      "Found 61 validated image filenames belonging to 1 classes.\n",
      "Found 15 validated image filenames belonging to 1 classes.\n",
      "Epoch 1/5\n"
     ]
    },
    {
     "name": "stderr",
     "output_type": "stream",
     "text": [
      "C:\\Users\\ASUS\\AppData\\Local\\Temp\\ipykernel_16956\\3368467860.py:59: UserWarning: `Model.fit_generator` is deprecated and will be removed in a future version. Please use `Model.fit`, which supports generators.\n",
      "  model.fit_generator(train_generator,\n"
     ]
    },
    {
     "name": "stdout",
     "output_type": "stream",
     "text": [
      "7/7 [==============================] - 1s 210ms/step - loss: 0.8722 - accuracy: 1.0000 - val_loss: 0.5408 - val_accuracy: 1.0000\n",
      "Epoch 2/5\n",
      "7/7 [==============================] - 1s 200ms/step - loss: 0.5969 - accuracy: 1.0000 - val_loss: 0.5211 - val_accuracy: 1.0000\n",
      "Epoch 3/5\n",
      "7/7 [==============================] - 1s 190ms/step - loss: 0.5139 - accuracy: 1.0000 - val_loss: 0.4788 - val_accuracy: 1.0000\n",
      "Epoch 4/5\n",
      "7/7 [==============================] - 1s 189ms/step - loss: 0.4660 - accuracy: 1.0000 - val_loss: 0.4264 - val_accuracy: 1.0000\n",
      "Epoch 5/5\n",
      "7/7 [==============================] - 1s 189ms/step - loss: 0.3984 - accuracy: 1.0000 - val_loss: 0.4012 - val_accuracy: 1.0000\n",
      "Found 61 validated image filenames belonging to 2 classes.\n",
      "Found 15 validated image filenames belonging to 2 classes.\n",
      "Epoch 1/5\n"
     ]
    },
    {
     "name": "stderr",
     "output_type": "stream",
     "text": [
      "C:\\Users\\ASUS\\AppData\\Local\\Temp\\ipykernel_16956\\3368467860.py:59: UserWarning: `Model.fit_generator` is deprecated and will be removed in a future version. Please use `Model.fit`, which supports generators.\n",
      "  model.fit_generator(train_generator,\n"
     ]
    },
    {
     "name": "stdout",
     "output_type": "stream",
     "text": [
      "7/7 [==============================] - 2s 219ms/step - loss: 0.5027 - accuracy: 0.9434 - val_loss: 0.5078 - val_accuracy: 0.8750\n",
      "Epoch 2/5\n",
      "7/7 [==============================] - 1s 198ms/step - loss: 0.4694 - accuracy: 0.9434 - val_loss: 0.3563 - val_accuracy: 1.0000\n",
      "Epoch 3/5\n",
      "7/7 [==============================] - 1s 195ms/step - loss: 0.3954 - accuracy: 0.9434 - val_loss: 0.2765 - val_accuracy: 1.0000\n",
      "Epoch 4/5\n",
      "7/7 [==============================] - 1s 193ms/step - loss: 0.3792 - accuracy: 0.9434 - val_loss: 0.5161 - val_accuracy: 0.8750\n",
      "Epoch 5/5\n",
      "7/7 [==============================] - 1s 192ms/step - loss: 0.3852 - accuracy: 0.9434 - val_loss: 0.5333 - val_accuracy: 0.8750\n",
      "Found 61 validated image filenames belonging to 1 classes.\n",
      "Found 15 validated image filenames belonging to 1 classes.\n",
      "Epoch 1/5\n"
     ]
    },
    {
     "name": "stderr",
     "output_type": "stream",
     "text": [
      "C:\\Users\\ASUS\\AppData\\Local\\Temp\\ipykernel_16956\\3368467860.py:59: UserWarning: `Model.fit_generator` is deprecated and will be removed in a future version. Please use `Model.fit`, which supports generators.\n",
      "  model.fit_generator(train_generator,\n"
     ]
    },
    {
     "name": "stdout",
     "output_type": "stream",
     "text": [
      "7/7 [==============================] - 1s 220ms/step - loss: 0.4804 - accuracy: 1.0000 - val_loss: 0.4762 - val_accuracy: 1.0000\n",
      "Epoch 2/5\n",
      "7/7 [==============================] - 1s 196ms/step - loss: 0.4777 - accuracy: 1.0000 - val_loss: 0.4746 - val_accuracy: 1.0000\n",
      "Epoch 3/5\n",
      "7/7 [==============================] - 1s 200ms/step - loss: 0.4762 - accuracy: 1.0000 - val_loss: 0.4687 - val_accuracy: 1.0000\n",
      "Epoch 4/5\n",
      "7/7 [==============================] - 1s 189ms/step - loss: 0.4696 - accuracy: 1.0000 - val_loss: 0.4656 - val_accuracy: 1.0000\n",
      "Epoch 5/5\n",
      "7/7 [==============================] - 1s 197ms/step - loss: 0.4654 - accuracy: 1.0000 - val_loss: 0.4632 - val_accuracy: 1.0000\n",
      "Found 61 validated image filenames belonging to 2 classes.\n",
      "Found 15 validated image filenames belonging to 2 classes.\n",
      "Epoch 1/5\n"
     ]
    },
    {
     "name": "stderr",
     "output_type": "stream",
     "text": [
      "C:\\Users\\ASUS\\AppData\\Local\\Temp\\ipykernel_16956\\3368467860.py:59: UserWarning: `Model.fit_generator` is deprecated and will be removed in a future version. Please use `Model.fit`, which supports generators.\n",
      "  model.fit_generator(train_generator,\n"
     ]
    },
    {
     "name": "stdout",
     "output_type": "stream",
     "text": [
      "7/7 [==============================] - 1s 212ms/step - loss: 0.3538 - accuracy: 0.9623 - val_loss: 0.2919 - val_accuracy: 1.0000\n",
      "Epoch 2/5\n",
      "7/7 [==============================] - 1s 195ms/step - loss: 0.3553 - accuracy: 0.9623 - val_loss: 0.2911 - val_accuracy: 1.0000\n",
      "Epoch 3/5\n",
      "7/7 [==============================] - 1s 192ms/step - loss: 0.3534 - accuracy: 0.9623 - val_loss: 0.5093 - val_accuracy: 0.8750\n",
      "Epoch 4/5\n",
      "7/7 [==============================] - 1s 197ms/step - loss: 0.3471 - accuracy: 0.9643 - val_loss: 0.4926 - val_accuracy: 0.8750\n",
      "Epoch 5/5\n",
      "7/7 [==============================] - 1s 189ms/step - loss: 0.3513 - accuracy: 0.9623 - val_loss: 0.2800 - val_accuracy: 1.0000\n",
      "Found 61 validated image filenames belonging to 1 classes.\n",
      "Found 15 validated image filenames belonging to 1 classes.\n",
      "Epoch 1/5\n"
     ]
    },
    {
     "name": "stderr",
     "output_type": "stream",
     "text": [
      "C:\\Users\\ASUS\\AppData\\Local\\Temp\\ipykernel_16956\\3368467860.py:59: UserWarning: `Model.fit_generator` is deprecated and will be removed in a future version. Please use `Model.fit`, which supports generators.\n",
      "  model.fit_generator(train_generator,\n"
     ]
    },
    {
     "name": "stdout",
     "output_type": "stream",
     "text": [
      "7/7 [==============================] - 1s 211ms/step - loss: 0.4692 - accuracy: 1.0000 - val_loss: 0.4653 - val_accuracy: 1.0000\n",
      "Epoch 2/5\n",
      "7/7 [==============================] - 1s 198ms/step - loss: 0.4676 - accuracy: 1.0000 - val_loss: 0.4599 - val_accuracy: 1.0000\n",
      "Epoch 3/5\n",
      "7/7 [==============================] - 1s 190ms/step - loss: 0.4645 - accuracy: 1.0000 - val_loss: 0.4576 - val_accuracy: 1.0000\n",
      "Epoch 4/5\n",
      "7/7 [==============================] - 1s 189ms/step - loss: 0.4568 - accuracy: 1.0000 - val_loss: 0.4530 - val_accuracy: 1.0000\n",
      "Epoch 5/5\n",
      "7/7 [==============================] - 1s 199ms/step - loss: 0.4529 - accuracy: 1.0000 - val_loss: 0.4480 - val_accuracy: 1.0000\n",
      "Found 61 validated image filenames belonging to 2 classes.\n",
      "Found 15 validated image filenames belonging to 2 classes.\n",
      "Epoch 1/5\n"
     ]
    },
    {
     "name": "stderr",
     "output_type": "stream",
     "text": [
      "C:\\Users\\ASUS\\AppData\\Local\\Temp\\ipykernel_16956\\3368467860.py:59: UserWarning: `Model.fit_generator` is deprecated and will be removed in a future version. Please use `Model.fit`, which supports generators.\n",
      "  model.fit_generator(train_generator,\n"
     ]
    },
    {
     "name": "stdout",
     "output_type": "stream",
     "text": [
      "7/7 [==============================] - 1s 215ms/step - loss: 0.3307 - accuracy: 0.9811 - val_loss: 0.5179 - val_accuracy: 0.8750\n",
      "Epoch 2/5\n",
      "7/7 [==============================] - 1s 197ms/step - loss: 0.3318 - accuracy: 0.9821 - val_loss: 0.3036 - val_accuracy: 1.0000\n",
      "Epoch 3/5\n",
      "7/7 [==============================] - 1s 191ms/step - loss: 0.3282 - accuracy: 0.9811 - val_loss: 0.5144 - val_accuracy: 0.8750\n",
      "Epoch 4/5\n",
      "7/7 [==============================] - 1s 192ms/step - loss: 0.2918 - accuracy: 1.0000 - val_loss: 0.5129 - val_accuracy: 0.8750\n",
      "Epoch 5/5\n",
      "7/7 [==============================] - 1s 203ms/step - loss: 0.3207 - accuracy: 0.9811 - val_loss: 0.5065 - val_accuracy: 0.8750\n",
      "Found 61 validated image filenames belonging to 2 classes.\n",
      "Found 15 validated image filenames belonging to 2 classes.\n",
      "Epoch 1/5\n"
     ]
    },
    {
     "name": "stderr",
     "output_type": "stream",
     "text": [
      "C:\\Users\\ASUS\\AppData\\Local\\Temp\\ipykernel_16956\\3368467860.py:59: UserWarning: `Model.fit_generator` is deprecated and will be removed in a future version. Please use `Model.fit`, which supports generators.\n",
      "  model.fit_generator(train_generator,\n"
     ]
    },
    {
     "name": "stdout",
     "output_type": "stream",
     "text": [
      "7/7 [==============================] - 1s 204ms/step - loss: 0.4843 - accuracy: 0.8868 - val_loss: 0.5079 - val_accuracy: 0.8750\n",
      "Epoch 2/5\n",
      "7/7 [==============================] - 1s 196ms/step - loss: 0.3826 - accuracy: 0.9434 - val_loss: 0.2836 - val_accuracy: 1.0000\n",
      "Epoch 3/5\n",
      "7/7 [==============================] - 1s 189ms/step - loss: 0.4126 - accuracy: 0.9245 - val_loss: 0.7307 - val_accuracy: 0.7500\n",
      "Epoch 4/5\n",
      "7/7 [==============================] - 1s 192ms/step - loss: 0.4809 - accuracy: 0.8868 - val_loss: 0.7276 - val_accuracy: 0.7500\n",
      "Epoch 5/5\n",
      "7/7 [==============================] - 1s 201ms/step - loss: 0.4431 - accuracy: 0.9057 - val_loss: 0.5006 - val_accuracy: 0.8750\n",
      "Found 61 validated image filenames belonging to 2 classes.\n",
      "Found 15 validated image filenames belonging to 2 classes.\n",
      "Epoch 1/5\n"
     ]
    },
    {
     "name": "stderr",
     "output_type": "stream",
     "text": [
      "C:\\Users\\ASUS\\AppData\\Local\\Temp\\ipykernel_16956\\3368467860.py:59: UserWarning: `Model.fit_generator` is deprecated and will be removed in a future version. Please use `Model.fit`, which supports generators.\n",
      "  model.fit_generator(train_generator,\n"
     ]
    },
    {
     "name": "stdout",
     "output_type": "stream",
     "text": [
      "7/7 [==============================] - 1s 222ms/step - loss: 0.6123 - accuracy: 0.8113 - val_loss: 0.7236 - val_accuracy: 0.7500\n",
      "Epoch 2/5\n",
      "7/7 [==============================] - 1s 201ms/step - loss: 0.5752 - accuracy: 0.8302 - val_loss: 0.4962 - val_accuracy: 0.8750\n",
      "Epoch 3/5\n",
      "7/7 [==============================] - 1s 195ms/step - loss: 0.5886 - accuracy: 0.8214 - val_loss: 0.9438 - val_accuracy: 0.6250\n",
      "Epoch 4/5\n",
      "7/7 [==============================] - 1s 191ms/step - loss: 0.6057 - accuracy: 0.8113 - val_loss: 0.7117 - val_accuracy: 0.7500\n",
      "Epoch 5/5\n",
      "7/7 [==============================] - 1s 191ms/step - loss: 0.5986 - accuracy: 0.8113 - val_loss: 0.7117 - val_accuracy: 0.7500\n",
      "Found 61 validated image filenames belonging to 2 classes.\n",
      "Found 15 validated image filenames belonging to 2 classes.\n",
      "Epoch 1/5\n"
     ]
    },
    {
     "name": "stderr",
     "output_type": "stream",
     "text": [
      "C:\\Users\\ASUS\\AppData\\Local\\Temp\\ipykernel_16956\\3368467860.py:59: UserWarning: `Model.fit_generator` is deprecated and will be removed in a future version. Please use `Model.fit`, which supports generators.\n",
      "  model.fit_generator(train_generator,\n"
     ]
    },
    {
     "name": "stdout",
     "output_type": "stream",
     "text": [
      "7/7 [==============================] - 1s 203ms/step - loss: 0.5978 - accuracy: 0.8113 - val_loss: 0.4901 - val_accuracy: 0.8750\n",
      "Epoch 2/5\n",
      "7/7 [==============================] - 1s 190ms/step - loss: 0.5964 - accuracy: 0.8113 - val_loss: 0.4798 - val_accuracy: 0.8750\n",
      "Epoch 3/5\n",
      "7/7 [==============================] - 1s 196ms/step - loss: 0.5713 - accuracy: 0.8214 - val_loss: 0.9238 - val_accuracy: 0.6250\n",
      "Epoch 4/5\n",
      "7/7 [==============================] - 1s 188ms/step - loss: 0.6145 - accuracy: 0.7925 - val_loss: 0.4691 - val_accuracy: 0.8750\n",
      "Epoch 5/5\n",
      "7/7 [==============================] - 1s 188ms/step - loss: 0.5775 - accuracy: 0.8113 - val_loss: 0.2591 - val_accuracy: 1.0000\n",
      "Found 61 validated image filenames belonging to 2 classes.\n",
      "Found 15 validated image filenames belonging to 2 classes.\n",
      "Epoch 1/5\n"
     ]
    },
    {
     "name": "stderr",
     "output_type": "stream",
     "text": [
      "C:\\Users\\ASUS\\AppData\\Local\\Temp\\ipykernel_16956\\3368467860.py:59: UserWarning: `Model.fit_generator` is deprecated and will be removed in a future version. Please use `Model.fit`, which supports generators.\n",
      "  model.fit_generator(train_generator,\n"
     ]
    },
    {
     "name": "stdout",
     "output_type": "stream",
     "text": [
      "7/7 [==============================] - 1s 212ms/step - loss: 0.6572 - accuracy: 0.7736 - val_loss: 0.9049 - val_accuracy: 0.6250\n",
      "Epoch 2/5\n",
      "7/7 [==============================] - 1s 187ms/step - loss: 0.6903 - accuracy: 0.7547 - val_loss: 0.2457 - val_accuracy: 1.0000\n",
      "Epoch 3/5\n",
      "7/7 [==============================] - 1s 187ms/step - loss: 0.6944 - accuracy: 0.7547 - val_loss: 0.8956 - val_accuracy: 0.6250\n",
      "Epoch 4/5\n",
      "7/7 [==============================] - 1s 185ms/step - loss: 0.6040 - accuracy: 0.7925 - val_loss: 0.6678 - val_accuracy: 0.7500\n",
      "Epoch 5/5\n",
      "7/7 [==============================] - 1s 186ms/step - loss: 0.5862 - accuracy: 0.8113 - val_loss: 0.6670 - val_accuracy: 0.7500\n",
      "Found 61 validated image filenames belonging to 2 classes.\n",
      "Found 15 validated image filenames belonging to 2 classes.\n",
      "Epoch 1/5\n"
     ]
    },
    {
     "name": "stderr",
     "output_type": "stream",
     "text": [
      "C:\\Users\\ASUS\\AppData\\Local\\Temp\\ipykernel_16956\\3368467860.py:59: UserWarning: `Model.fit_generator` is deprecated and will be removed in a future version. Please use `Model.fit`, which supports generators.\n",
      "  model.fit_generator(train_generator,\n"
     ]
    },
    {
     "name": "stdout",
     "output_type": "stream",
     "text": [
      "7/7 [==============================] - 1s 203ms/step - loss: 0.3402 - accuracy: 0.9434 - val_loss: 0.6721 - val_accuracy: 0.7500\n",
      "Epoch 2/5\n",
      "7/7 [==============================] - 1s 189ms/step - loss: 0.3772 - accuracy: 0.9245 - val_loss: 0.2110 - val_accuracy: 1.0000\n",
      "Epoch 3/5\n",
      "7/7 [==============================] - 1s 197ms/step - loss: 0.4080 - accuracy: 0.9057 - val_loss: 0.4690 - val_accuracy: 0.8750\n",
      "Epoch 4/5\n",
      "7/7 [==============================] - 1s 185ms/step - loss: 0.3959 - accuracy: 0.9057 - val_loss: 0.2073 - val_accuracy: 1.0000\n",
      "Epoch 5/5\n",
      "7/7 [==============================] - 1s 184ms/step - loss: 0.3778 - accuracy: 0.9057 - val_loss: 0.4155 - val_accuracy: 0.8750\n",
      "Found 61 validated image filenames belonging to 2 classes.\n",
      "Found 15 validated image filenames belonging to 2 classes.\n",
      "Epoch 1/5\n"
     ]
    },
    {
     "name": "stderr",
     "output_type": "stream",
     "text": [
      "C:\\Users\\ASUS\\AppData\\Local\\Temp\\ipykernel_16956\\3368467860.py:59: UserWarning: `Model.fit_generator` is deprecated and will be removed in a future version. Please use `Model.fit`, which supports generators.\n",
      "  model.fit_generator(train_generator,\n"
     ]
    },
    {
     "name": "stdout",
     "output_type": "stream",
     "text": [
      "7/7 [==============================] - 1s 207ms/step - loss: 0.3217 - accuracy: 0.9245 - val_loss: 1.0185 - val_accuracy: 0.6250\n",
      "Epoch 2/5\n",
      "7/7 [==============================] - 1s 188ms/step - loss: 0.3461 - accuracy: 0.9057 - val_loss: 0.0722 - val_accuracy: 1.0000\n",
      "Epoch 3/5\n",
      "7/7 [==============================] - 1s 187ms/step - loss: 0.3290 - accuracy: 0.9057 - val_loss: 0.3955 - val_accuracy: 0.8750\n",
      "Epoch 4/5\n",
      "7/7 [==============================] - 1s 192ms/step - loss: 0.3277 - accuracy: 0.9057 - val_loss: 0.7150 - val_accuracy: 0.7500\n",
      "Epoch 5/5\n",
      "7/7 [==============================] - 1s 186ms/step - loss: 0.3373 - accuracy: 0.9057 - val_loss: 0.1598 - val_accuracy: 1.0000\n",
      "Found 61 validated image filenames belonging to 2 classes.\n",
      "Found 15 validated image filenames belonging to 2 classes.\n",
      "Epoch 1/5\n"
     ]
    },
    {
     "name": "stderr",
     "output_type": "stream",
     "text": [
      "C:\\Users\\ASUS\\AppData\\Local\\Temp\\ipykernel_16956\\3368467860.py:59: UserWarning: `Model.fit_generator` is deprecated and will be removed in a future version. Please use `Model.fit`, which supports generators.\n",
      "  model.fit_generator(train_generator,\n"
     ]
    },
    {
     "name": "stdout",
     "output_type": "stream",
     "text": [
      "7/7 [==============================] - 2s 218ms/step - loss: 0.3087 - accuracy: 0.9107 - val_loss: 0.8154 - val_accuracy: 0.7500\n",
      "Epoch 2/5\n",
      "7/7 [==============================] - 1s 197ms/step - loss: 0.2507 - accuracy: 0.9434 - val_loss: 0.1207 - val_accuracy: 1.0000\n",
      "Epoch 3/5\n",
      "7/7 [==============================] - 1s 196ms/step - loss: 0.2932 - accuracy: 0.9057 - val_loss: 0.1781 - val_accuracy: 1.0000\n",
      "Epoch 4/5\n",
      "7/7 [==============================] - 1s 192ms/step - loss: 0.3173 - accuracy: 0.9057 - val_loss: 0.8032 - val_accuracy: 0.7500\n",
      "Epoch 5/5\n",
      "7/7 [==============================] - 1s 193ms/step - loss: 0.2892 - accuracy: 0.9245 - val_loss: 0.1565 - val_accuracy: 1.0000\n",
      "Found 61 validated image filenames belonging to 2 classes.\n",
      "Found 15 validated image filenames belonging to 2 classes.\n",
      "Epoch 1/5\n"
     ]
    },
    {
     "name": "stderr",
     "output_type": "stream",
     "text": [
      "C:\\Users\\ASUS\\AppData\\Local\\Temp\\ipykernel_16956\\3368467860.py:59: UserWarning: `Model.fit_generator` is deprecated and will be removed in a future version. Please use `Model.fit`, which supports generators.\n",
      "  model.fit_generator(train_generator,\n"
     ]
    },
    {
     "name": "stdout",
     "output_type": "stream",
     "text": [
      "7/7 [==============================] - 1s 204ms/step - loss: 0.1480 - accuracy: 0.9811 - val_loss: 0.1771 - val_accuracy: 1.0000\n",
      "Epoch 2/5\n",
      "7/7 [==============================] - 1s 192ms/step - loss: 0.1624 - accuracy: 0.9643 - val_loss: 0.0016 - val_accuracy: 1.0000\n",
      "Epoch 3/5\n",
      "7/7 [==============================] - 1s 186ms/step - loss: 0.4866 - accuracy: 0.9623 - val_loss: 0.1894 - val_accuracy: 1.0000\n",
      "Epoch 4/5\n",
      "7/7 [==============================] - 1s 186ms/step - loss: 0.2355 - accuracy: 0.9811 - val_loss: 0.6645 - val_accuracy: 0.8750\n",
      "Epoch 5/5\n",
      "7/7 [==============================] - 1s 187ms/step - loss: 0.2453 - accuracy: 0.9623 - val_loss: 0.1861 - val_accuracy: 1.0000\n",
      "Found 61 validated image filenames belonging to 2 classes.\n",
      "Found 15 validated image filenames belonging to 2 classes.\n",
      "Epoch 1/5\n"
     ]
    },
    {
     "name": "stderr",
     "output_type": "stream",
     "text": [
      "C:\\Users\\ASUS\\AppData\\Local\\Temp\\ipykernel_16956\\3368467860.py:59: UserWarning: `Model.fit_generator` is deprecated and will be removed in a future version. Please use `Model.fit`, which supports generators.\n",
      "  model.fit_generator(train_generator,\n"
     ]
    },
    {
     "name": "stdout",
     "output_type": "stream",
     "text": [
      "7/7 [==============================] - 1s 203ms/step - loss: 0.2082 - accuracy: 0.9434 - val_loss: 3.3030e-04 - val_accuracy: 1.0000\n",
      "Epoch 2/5\n",
      "7/7 [==============================] - 1s 192ms/step - loss: 0.4366 - accuracy: 0.9623 - val_loss: 0.2069 - val_accuracy: 1.0000\n",
      "Epoch 3/5\n",
      "7/7 [==============================] - 1s 197ms/step - loss: 0.3302 - accuracy: 0.9286 - val_loss: 0.2466 - val_accuracy: 1.0000\n",
      "Epoch 4/5\n",
      "7/7 [==============================] - 1s 192ms/step - loss: 0.3075 - accuracy: 0.9286 - val_loss: 0.5829 - val_accuracy: 0.7500\n",
      "Epoch 5/5\n",
      "7/7 [==============================] - 1s 183ms/step - loss: 0.2439 - accuracy: 0.9434 - val_loss: 0.3430 - val_accuracy: 0.8750\n",
      "Found 61 validated image filenames belonging to 2 classes.\n",
      "Found 15 validated image filenames belonging to 2 classes.\n",
      "Epoch 1/5\n"
     ]
    },
    {
     "name": "stderr",
     "output_type": "stream",
     "text": [
      "C:\\Users\\ASUS\\AppData\\Local\\Temp\\ipykernel_16956\\3368467860.py:59: UserWarning: `Model.fit_generator` is deprecated and will be removed in a future version. Please use `Model.fit`, which supports generators.\n",
      "  model.fit_generator(train_generator,\n"
     ]
    },
    {
     "name": "stdout",
     "output_type": "stream",
     "text": [
      "7/7 [==============================] - 1s 209ms/step - loss: 0.3318 - accuracy: 0.9434 - val_loss: 0.5933 - val_accuracy: 0.8750\n",
      "Epoch 2/5\n",
      "7/7 [==============================] - 1s 195ms/step - loss: 0.2886 - accuracy: 0.9434 - val_loss: 0.1445 - val_accuracy: 1.0000\n",
      "Epoch 3/5\n",
      "7/7 [==============================] - 1s 206ms/step - loss: 0.2955 - accuracy: 0.9286 - val_loss: 0.2282 - val_accuracy: 1.0000\n",
      "Epoch 4/5\n",
      "7/7 [==============================] - 1s 199ms/step - loss: 0.2996 - accuracy: 0.9245 - val_loss: 0.6455 - val_accuracy: 0.7500\n",
      "Epoch 5/5\n",
      "7/7 [==============================] - 1s 199ms/step - loss: 0.3395 - accuracy: 0.9107 - val_loss: 0.3725 - val_accuracy: 0.8750\n",
      "Found 61 validated image filenames belonging to 2 classes.\n",
      "Found 15 validated image filenames belonging to 2 classes.\n",
      "Epoch 1/5\n"
     ]
    },
    {
     "name": "stderr",
     "output_type": "stream",
     "text": [
      "C:\\Users\\ASUS\\AppData\\Local\\Temp\\ipykernel_16956\\3368467860.py:59: UserWarning: `Model.fit_generator` is deprecated and will be removed in a future version. Please use `Model.fit`, which supports generators.\n",
      "  model.fit_generator(train_generator,\n"
     ]
    },
    {
     "name": "stdout",
     "output_type": "stream",
     "text": [
      "7/7 [==============================] - 1s 214ms/step - loss: 0.2322 - accuracy: 0.9643 - val_loss: 0.1870 - val_accuracy: 1.0000\n",
      "Epoch 2/5\n",
      "7/7 [==============================] - 1s 192ms/step - loss: 0.2716 - accuracy: 0.9623 - val_loss: 0.1223 - val_accuracy: 1.0000\n",
      "Epoch 3/5\n",
      "7/7 [==============================] - 1s 203ms/step - loss: 0.2382 - accuracy: 0.9623 - val_loss: 0.2092 - val_accuracy: 1.0000\n",
      "Epoch 4/5\n",
      "7/7 [==============================] - 1s 191ms/step - loss: 0.2511 - accuracy: 0.9623 - val_loss: 0.1586 - val_accuracy: 1.0000\n",
      "Epoch 5/5\n",
      "7/7 [==============================] - 1s 192ms/step - loss: 0.1659 - accuracy: 0.9811 - val_loss: 0.3529 - val_accuracy: 0.8750\n",
      "Found 61 validated image filenames belonging to 2 classes.\n",
      "Found 15 validated image filenames belonging to 2 classes.\n",
      "Epoch 1/5\n"
     ]
    },
    {
     "name": "stderr",
     "output_type": "stream",
     "text": [
      "C:\\Users\\ASUS\\AppData\\Local\\Temp\\ipykernel_16956\\3368467860.py:59: UserWarning: `Model.fit_generator` is deprecated and will be removed in a future version. Please use `Model.fit`, which supports generators.\n",
      "  model.fit_generator(train_generator,\n"
     ]
    },
    {
     "name": "stdout",
     "output_type": "stream",
     "text": [
      "7/7 [==============================] - 2s 235ms/step - loss: 0.2155 - accuracy: 0.9623 - val_loss: 0.1676 - val_accuracy: 1.0000\n",
      "Epoch 2/5\n",
      "7/7 [==============================] - 1s 193ms/step - loss: 0.2221 - accuracy: 0.9623 - val_loss: 0.1090 - val_accuracy: 1.0000\n",
      "Epoch 3/5\n",
      "7/7 [==============================] - 1s 185ms/step - loss: 0.2414 - accuracy: 0.9623 - val_loss: 0.1799 - val_accuracy: 1.0000\n",
      "Epoch 4/5\n",
      "7/7 [==============================] - 1s 184ms/step - loss: 0.2694 - accuracy: 0.9623 - val_loss: 0.3594 - val_accuracy: 0.8750\n",
      "Epoch 5/5\n",
      "7/7 [==============================] - 1s 184ms/step - loss: 0.2230 - accuracy: 0.9623 - val_loss: 0.1476 - val_accuracy: 1.0000\n",
      "Found 61 validated image filenames belonging to 2 classes.\n",
      "Found 15 validated image filenames belonging to 2 classes.\n",
      "Epoch 1/5\n"
     ]
    },
    {
     "name": "stderr",
     "output_type": "stream",
     "text": [
      "C:\\Users\\ASUS\\AppData\\Local\\Temp\\ipykernel_16956\\3368467860.py:59: UserWarning: `Model.fit_generator` is deprecated and will be removed in a future version. Please use `Model.fit`, which supports generators.\n",
      "  model.fit_generator(train_generator,\n"
     ]
    },
    {
     "name": "stdout",
     "output_type": "stream",
     "text": [
      "7/7 [==============================] - 1s 203ms/step - loss: 0.2660 - accuracy: 0.9245 - val_loss: 0.5123 - val_accuracy: 0.8750\n",
      "Epoch 2/5\n",
      "7/7 [==============================] - 1s 188ms/step - loss: 0.3166 - accuracy: 0.9057 - val_loss: 0.1155 - val_accuracy: 1.0000\n",
      "Epoch 3/5\n",
      "7/7 [==============================] - 1s 189ms/step - loss: 0.2256 - accuracy: 0.9434 - val_loss: 0.3958 - val_accuracy: 0.8750\n",
      "Epoch 4/5\n",
      "7/7 [==============================] - 1s 198ms/step - loss: 0.2485 - accuracy: 0.9434 - val_loss: 0.8590 - val_accuracy: 0.7500\n",
      "Epoch 5/5\n",
      "7/7 [==============================] - 1s 204ms/step - loss: 0.2476 - accuracy: 0.9245 - val_loss: 0.1407 - val_accuracy: 1.0000\n",
      "Found 61 validated image filenames belonging to 2 classes.\n",
      "Found 15 validated image filenames belonging to 2 classes.\n",
      "Epoch 1/5\n"
     ]
    },
    {
     "name": "stderr",
     "output_type": "stream",
     "text": [
      "C:\\Users\\ASUS\\AppData\\Local\\Temp\\ipykernel_16956\\3368467860.py:59: UserWarning: `Model.fit_generator` is deprecated and will be removed in a future version. Please use `Model.fit`, which supports generators.\n",
      "  model.fit_generator(train_generator,\n"
     ]
    },
    {
     "name": "stdout",
     "output_type": "stream",
     "text": [
      "7/7 [==============================] - 1s 210ms/step - loss: 0.2104 - accuracy: 0.9434 - val_loss: 0.3652 - val_accuracy: 0.8750\n",
      "Epoch 2/5\n",
      "7/7 [==============================] - 1s 192ms/step - loss: 0.2606 - accuracy: 0.9057 - val_loss: 0.0627 - val_accuracy: 1.0000\n",
      "Epoch 3/5\n",
      "7/7 [==============================] - 1s 189ms/step - loss: 0.2519 - accuracy: 0.9057 - val_loss: 0.5712 - val_accuracy: 0.7500\n",
      "Epoch 4/5\n",
      "7/7 [==============================] - 1s 192ms/step - loss: 0.1949 - accuracy: 0.9434 - val_loss: 0.3306 - val_accuracy: 0.8750\n",
      "Epoch 5/5\n",
      "7/7 [==============================] - 1s 204ms/step - loss: 0.2433 - accuracy: 0.9245 - val_loss: 0.1568 - val_accuracy: 1.0000\n",
      "Found 61 validated image filenames belonging to 2 classes.\n",
      "Found 15 validated image filenames belonging to 2 classes.\n",
      "Epoch 1/5\n"
     ]
    },
    {
     "name": "stderr",
     "output_type": "stream",
     "text": [
      "C:\\Users\\ASUS\\AppData\\Local\\Temp\\ipykernel_16956\\3368467860.py:59: UserWarning: `Model.fit_generator` is deprecated and will be removed in a future version. Please use `Model.fit`, which supports generators.\n",
      "  model.fit_generator(train_generator,\n"
     ]
    },
    {
     "name": "stdout",
     "output_type": "stream",
     "text": [
      "7/7 [==============================] - 1s 206ms/step - loss: 0.3793 - accuracy: 0.8868 - val_loss: 0.6860 - val_accuracy: 0.7500\n",
      "Epoch 2/5\n",
      "7/7 [==============================] - 1s 198ms/step - loss: 0.3232 - accuracy: 0.9107 - val_loss: 0.1530 - val_accuracy: 1.0000\n",
      "Epoch 3/5\n",
      "7/7 [==============================] - 1s 182ms/step - loss: 0.3633 - accuracy: 0.9057 - val_loss: 0.4070 - val_accuracy: 0.8750\n",
      "Epoch 4/5\n",
      "7/7 [==============================] - 1s 192ms/step - loss: 0.3109 - accuracy: 0.9057 - val_loss: 0.6422 - val_accuracy: 0.7500\n",
      "Epoch 5/5\n",
      "7/7 [==============================] - 1s 194ms/step - loss: 0.3495 - accuracy: 0.8868 - val_loss: 0.6467 - val_accuracy: 0.7500\n",
      "Found 61 validated image filenames belonging to 2 classes.\n",
      "Found 15 validated image filenames belonging to 2 classes.\n",
      "Epoch 1/5\n"
     ]
    },
    {
     "name": "stderr",
     "output_type": "stream",
     "text": [
      "C:\\Users\\ASUS\\AppData\\Local\\Temp\\ipykernel_16956\\3368467860.py:59: UserWarning: `Model.fit_generator` is deprecated and will be removed in a future version. Please use `Model.fit`, which supports generators.\n",
      "  model.fit_generator(train_generator,\n"
     ]
    },
    {
     "name": "stdout",
     "output_type": "stream",
     "text": [
      "7/7 [==============================] - 1s 210ms/step - loss: 0.2656 - accuracy: 0.9245 - val_loss: 0.3780 - val_accuracy: 0.8750\n",
      "Epoch 2/5\n",
      "7/7 [==============================] - 1s 189ms/step - loss: 0.2112 - accuracy: 0.9434 - val_loss: 0.0626 - val_accuracy: 1.0000\n",
      "Epoch 3/5\n",
      "7/7 [==============================] - 1s 192ms/step - loss: 0.2056 - accuracy: 0.9434 - val_loss: 0.1530 - val_accuracy: 1.0000\n",
      "Epoch 4/5\n",
      "7/7 [==============================] - 1s 183ms/step - loss: 0.1501 - accuracy: 0.9623 - val_loss: 2.9862 - val_accuracy: 0.7500\n",
      "Epoch 5/5\n",
      "7/7 [==============================] - 1s 186ms/step - loss: 0.4631 - accuracy: 0.9245 - val_loss: 0.3453 - val_accuracy: 0.8750\n",
      "Found 61 validated image filenames belonging to 2 classes.\n",
      "Found 15 validated image filenames belonging to 2 classes.\n",
      "Epoch 1/5\n"
     ]
    },
    {
     "name": "stderr",
     "output_type": "stream",
     "text": [
      "C:\\Users\\ASUS\\AppData\\Local\\Temp\\ipykernel_16956\\3368467860.py:59: UserWarning: `Model.fit_generator` is deprecated and will be removed in a future version. Please use `Model.fit`, which supports generators.\n",
      "  model.fit_generator(train_generator,\n"
     ]
    },
    {
     "name": "stdout",
     "output_type": "stream",
     "text": [
      "7/7 [==============================] - 1s 206ms/step - loss: 0.2257 - accuracy: 0.9434 - val_loss: 0.3878 - val_accuracy: 0.8750\n",
      "Epoch 2/5\n",
      "7/7 [==============================] - 1s 193ms/step - loss: 0.3077 - accuracy: 0.9057 - val_loss: 0.1154 - val_accuracy: 1.0000\n",
      "Epoch 3/5\n",
      "7/7 [==============================] - 1s 184ms/step - loss: 0.2300 - accuracy: 0.9434 - val_loss: 0.1739 - val_accuracy: 1.0000\n",
      "Epoch 4/5\n",
      "7/7 [==============================] - 1s 185ms/step - loss: 0.2474 - accuracy: 0.9245 - val_loss: 0.3431 - val_accuracy: 0.8750\n",
      "Epoch 5/5\n",
      "7/7 [==============================] - 1s 183ms/step - loss: 0.2396 - accuracy: 0.9245 - val_loss: 0.3401 - val_accuracy: 0.8750\n",
      "Found 61 validated image filenames belonging to 2 classes.\n",
      "Found 15 validated image filenames belonging to 2 classes.\n",
      "Epoch 1/5\n"
     ]
    },
    {
     "name": "stderr",
     "output_type": "stream",
     "text": [
      "C:\\Users\\ASUS\\AppData\\Local\\Temp\\ipykernel_16956\\3368467860.py:59: UserWarning: `Model.fit_generator` is deprecated and will be removed in a future version. Please use `Model.fit`, which supports generators.\n",
      "  model.fit_generator(train_generator,\n"
     ]
    },
    {
     "name": "stdout",
     "output_type": "stream",
     "text": [
      "7/7 [==============================] - 1s 207ms/step - loss: 0.3753 - accuracy: 0.8868 - val_loss: 0.3705 - val_accuracy: 0.8750\n",
      "Epoch 2/5\n",
      "7/7 [==============================] - 1s 188ms/step - loss: 0.4271 - accuracy: 0.8491 - val_loss: 0.0658 - val_accuracy: 1.0000\n",
      "Epoch 3/5\n",
      "7/7 [==============================] - 1s 188ms/step - loss: 0.3783 - accuracy: 0.8679 - val_loss: 0.0949 - val_accuracy: 1.0000\n",
      "Epoch 4/5\n",
      "7/7 [==============================] - 1s 193ms/step - loss: 0.3822 - accuracy: 0.8679 - val_loss: 0.3403 - val_accuracy: 0.8750\n",
      "Epoch 5/5\n",
      "7/7 [==============================] - 1s 185ms/step - loss: 0.4524 - accuracy: 0.8491 - val_loss: 0.1415 - val_accuracy: 1.0000\n",
      "Found 61 validated image filenames belonging to 2 classes.\n",
      "Found 15 validated image filenames belonging to 2 classes.\n",
      "Epoch 1/5\n"
     ]
    },
    {
     "name": "stderr",
     "output_type": "stream",
     "text": [
      "C:\\Users\\ASUS\\AppData\\Local\\Temp\\ipykernel_16956\\3368467860.py:59: UserWarning: `Model.fit_generator` is deprecated and will be removed in a future version. Please use `Model.fit`, which supports generators.\n",
      "  model.fit_generator(train_generator,\n"
     ]
    },
    {
     "name": "stdout",
     "output_type": "stream",
     "text": [
      "7/7 [==============================] - 1s 207ms/step - loss: 0.3155 - accuracy: 0.8868 - val_loss: 0.3770 - val_accuracy: 0.8750\n",
      "Epoch 2/5\n",
      "7/7 [==============================] - 1s 187ms/step - loss: 0.2726 - accuracy: 0.9057 - val_loss: 0.0699 - val_accuracy: 1.0000\n",
      "Epoch 3/5\n",
      "7/7 [==============================] - 1s 196ms/step - loss: 0.3048 - accuracy: 0.8868 - val_loss: 0.3664 - val_accuracy: 0.8750\n",
      "Epoch 4/5\n",
      "7/7 [==============================] - 1s 185ms/step - loss: 0.3047 - accuracy: 0.8868 - val_loss: 0.3293 - val_accuracy: 0.8750\n",
      "Epoch 5/5\n",
      "7/7 [==============================] - 1s 184ms/step - loss: 0.2922 - accuracy: 0.8868 - val_loss: 0.1249 - val_accuracy: 1.0000\n",
      "Found 61 validated image filenames belonging to 2 classes.\n",
      "Found 15 validated image filenames belonging to 2 classes.\n",
      "Epoch 1/5\n"
     ]
    },
    {
     "name": "stderr",
     "output_type": "stream",
     "text": [
      "C:\\Users\\ASUS\\AppData\\Local\\Temp\\ipykernel_16956\\3368467860.py:59: UserWarning: `Model.fit_generator` is deprecated and will be removed in a future version. Please use `Model.fit`, which supports generators.\n",
      "  model.fit_generator(train_generator,\n"
     ]
    },
    {
     "name": "stdout",
     "output_type": "stream",
     "text": [
      "7/7 [==============================] - 1s 202ms/step - loss: 0.4435 - accuracy: 0.8491 - val_loss: 0.3624 - val_accuracy: 0.8750\n",
      "Epoch 2/5\n",
      "7/7 [==============================] - 1s 190ms/step - loss: 0.4589 - accuracy: 0.8491 - val_loss: 0.1028 - val_accuracy: 1.0000\n",
      "Epoch 3/5\n",
      "7/7 [==============================] - 1s 184ms/step - loss: 0.3799 - accuracy: 0.8679 - val_loss: 0.3294 - val_accuracy: 0.8750\n",
      "Epoch 4/5\n",
      "7/7 [==============================] - 1s 184ms/step - loss: 0.4066 - accuracy: 0.8302 - val_loss: 0.3346 - val_accuracy: 0.8750\n",
      "Epoch 5/5\n",
      "7/7 [==============================] - 1s 192ms/step - loss: 0.3635 - accuracy: 0.8571 - val_loss: 0.3404 - val_accuracy: 0.8750\n",
      "Found 61 validated image filenames belonging to 2 classes.\n",
      "Found 15 validated image filenames belonging to 2 classes.\n",
      "Epoch 1/5\n"
     ]
    },
    {
     "name": "stderr",
     "output_type": "stream",
     "text": [
      "C:\\Users\\ASUS\\AppData\\Local\\Temp\\ipykernel_16956\\3368467860.py:59: UserWarning: `Model.fit_generator` is deprecated and will be removed in a future version. Please use `Model.fit`, which supports generators.\n",
      "  model.fit_generator(train_generator,\n"
     ]
    },
    {
     "name": "stdout",
     "output_type": "stream",
     "text": [
      "7/7 [==============================] - 1s 209ms/step - loss: 0.3368 - accuracy: 0.8750 - val_loss: 0.5668 - val_accuracy: 0.7500\n",
      "Epoch 2/5\n",
      "7/7 [==============================] - 1s 187ms/step - loss: 0.3991 - accuracy: 0.8491 - val_loss: 0.0908 - val_accuracy: 1.0000\n",
      "Epoch 3/5\n",
      "7/7 [==============================] - 1s 185ms/step - loss: 0.3594 - accuracy: 0.8679 - val_loss: 0.5626 - val_accuracy: 0.7500\n",
      "Epoch 4/5\n",
      "7/7 [==============================] - 1s 185ms/step - loss: 0.3357 - accuracy: 0.8679 - val_loss: 0.1015 - val_accuracy: 1.0000\n",
      "Epoch 5/5\n",
      "7/7 [==============================] - 1s 191ms/step - loss: 0.3045 - accuracy: 0.8929 - val_loss: 0.3342 - val_accuracy: 0.8750\n",
      "Found 61 validated image filenames belonging to 2 classes.\n",
      "Found 15 validated image filenames belonging to 2 classes.\n",
      "Epoch 1/5\n"
     ]
    },
    {
     "name": "stderr",
     "output_type": "stream",
     "text": [
      "C:\\Users\\ASUS\\AppData\\Local\\Temp\\ipykernel_16956\\3368467860.py:59: UserWarning: `Model.fit_generator` is deprecated and will be removed in a future version. Please use `Model.fit`, which supports generators.\n",
      "  model.fit_generator(train_generator,\n"
     ]
    },
    {
     "name": "stdout",
     "output_type": "stream",
     "text": [
      "7/7 [==============================] - 1s 204ms/step - loss: 0.2562 - accuracy: 0.9245 - val_loss: 0.3629 - val_accuracy: 0.8750\n",
      "Epoch 2/5\n",
      "7/7 [==============================] - 1s 188ms/step - loss: 0.2254 - accuracy: 0.9245 - val_loss: 0.0650 - val_accuracy: 1.0000\n",
      "Epoch 3/5\n",
      "7/7 [==============================] - 1s 188ms/step - loss: 0.2504 - accuracy: 0.9245 - val_loss: 0.5449 - val_accuracy: 0.7500\n",
      "Epoch 4/5\n",
      "7/7 [==============================] - 1s 188ms/step - loss: 0.2334 - accuracy: 0.9245 - val_loss: 0.1254 - val_accuracy: 1.0000\n",
      "Epoch 5/5\n",
      "7/7 [==============================] - 1s 191ms/step - loss: 0.1985 - accuracy: 0.9464 - val_loss: 0.1288 - val_accuracy: 1.0000\n",
      "Found 61 validated image filenames belonging to 2 classes.\n",
      "Found 15 validated image filenames belonging to 2 classes.\n",
      "Epoch 1/5\n"
     ]
    },
    {
     "name": "stderr",
     "output_type": "stream",
     "text": [
      "C:\\Users\\ASUS\\AppData\\Local\\Temp\\ipykernel_16956\\3368467860.py:59: UserWarning: `Model.fit_generator` is deprecated and will be removed in a future version. Please use `Model.fit`, which supports generators.\n",
      "  model.fit_generator(train_generator,\n"
     ]
    },
    {
     "name": "stdout",
     "output_type": "stream",
     "text": [
      "7/7 [==============================] - 1s 205ms/step - loss: 0.4671 - accuracy: 0.9245 - val_loss: 0.3683 - val_accuracy: 0.8750\n",
      "Epoch 2/5\n",
      "7/7 [==============================] - 1s 191ms/step - loss: 0.2846 - accuracy: 0.9286 - val_loss: 0.4916 - val_accuracy: 0.8750\n",
      "Epoch 3/5\n",
      "7/7 [==============================] - 1s 194ms/step - loss: 0.4088 - accuracy: 0.9245 - val_loss: 0.2400 - val_accuracy: 1.0000\n",
      "Epoch 4/5\n",
      "7/7 [==============================] - 1s 183ms/step - loss: 0.3492 - accuracy: 0.9245 - val_loss: 0.2209 - val_accuracy: 1.0000\n",
      "Epoch 5/5\n",
      "7/7 [==============================] - 1s 187ms/step - loss: 0.2793 - accuracy: 0.9434 - val_loss: 0.1684 - val_accuracy: 1.0000\n",
      "Found 61 validated image filenames belonging to 2 classes.\n",
      "Found 15 validated image filenames belonging to 2 classes.\n",
      "Epoch 1/5\n"
     ]
    },
    {
     "name": "stderr",
     "output_type": "stream",
     "text": [
      "C:\\Users\\ASUS\\AppData\\Local\\Temp\\ipykernel_16956\\3368467860.py:59: UserWarning: `Model.fit_generator` is deprecated and will be removed in a future version. Please use `Model.fit`, which supports generators.\n",
      "  model.fit_generator(train_generator,\n"
     ]
    },
    {
     "name": "stdout",
     "output_type": "stream",
     "text": [
      "7/7 [==============================] - 1s 201ms/step - loss: 0.2320 - accuracy: 0.9623 - val_loss: 0.1661 - val_accuracy: 1.0000\n",
      "Epoch 2/5\n",
      "7/7 [==============================] - 1s 188ms/step - loss: 0.2636 - accuracy: 0.9623 - val_loss: 0.0860 - val_accuracy: 1.0000\n",
      "Epoch 3/5\n",
      "7/7 [==============================] - 1s 185ms/step - loss: 0.3145 - accuracy: 0.9434 - val_loss: 0.6126 - val_accuracy: 0.8750\n",
      "Epoch 4/5\n",
      "7/7 [==============================] - 1s 180ms/step - loss: 0.2604 - accuracy: 0.9434 - val_loss: 0.1710 - val_accuracy: 1.0000\n",
      "Epoch 5/5\n",
      "7/7 [==============================] - 1s 193ms/step - loss: 0.2862 - accuracy: 0.9464 - val_loss: 0.4217 - val_accuracy: 0.8750\n",
      "Found 61 validated image filenames belonging to 2 classes.\n",
      "Found 15 validated image filenames belonging to 2 classes.\n",
      "Epoch 1/5\n"
     ]
    },
    {
     "name": "stderr",
     "output_type": "stream",
     "text": [
      "C:\\Users\\ASUS\\AppData\\Local\\Temp\\ipykernel_16956\\3368467860.py:59: UserWarning: `Model.fit_generator` is deprecated and will be removed in a future version. Please use `Model.fit`, which supports generators.\n",
      "  model.fit_generator(train_generator,\n"
     ]
    },
    {
     "name": "stdout",
     "output_type": "stream",
     "text": [
      "7/7 [==============================] - 1s 206ms/step - loss: 0.3685 - accuracy: 0.8868 - val_loss: 0.4231 - val_accuracy: 0.8750\n",
      "Epoch 2/5\n",
      "7/7 [==============================] - 1s 189ms/step - loss: 0.4406 - accuracy: 0.8679 - val_loss: 0.5170 - val_accuracy: 0.8750\n",
      "Epoch 3/5\n",
      "7/7 [==============================] - 1s 186ms/step - loss: 0.4626 - accuracy: 0.8491 - val_loss: 0.5129 - val_accuracy: 0.8750\n",
      "Epoch 4/5\n",
      "7/7 [==============================] - 1s 194ms/step - loss: 0.4047 - accuracy: 0.8750 - val_loss: 0.3840 - val_accuracy: 0.8750\n",
      "Epoch 5/5\n",
      "7/7 [==============================] - 1s 185ms/step - loss: 0.3890 - accuracy: 0.8679 - val_loss: 0.4188 - val_accuracy: 0.8750\n",
      "Found 61 validated image filenames belonging to 2 classes.\n",
      "Found 15 validated image filenames belonging to 2 classes.\n",
      "Epoch 1/5\n"
     ]
    },
    {
     "name": "stderr",
     "output_type": "stream",
     "text": [
      "C:\\Users\\ASUS\\AppData\\Local\\Temp\\ipykernel_16956\\3368467860.py:59: UserWarning: `Model.fit_generator` is deprecated and will be removed in a future version. Please use `Model.fit`, which supports generators.\n",
      "  model.fit_generator(train_generator,\n"
     ]
    },
    {
     "name": "stdout",
     "output_type": "stream",
     "text": [
      "7/7 [==============================] - 1s 202ms/step - loss: 0.4682 - accuracy: 0.8302 - val_loss: 0.3451 - val_accuracy: 0.8750\n",
      "Epoch 2/5\n",
      "7/7 [==============================] - 1s 188ms/step - loss: 0.4282 - accuracy: 0.8302 - val_loss: 0.1580 - val_accuracy: 1.0000\n",
      "Epoch 3/5\n",
      "7/7 [==============================] - 1s 184ms/step - loss: 0.3934 - accuracy: 0.8679 - val_loss: 0.6575 - val_accuracy: 0.7500\n",
      "Epoch 4/5\n",
      "7/7 [==============================] - 1s 191ms/step - loss: 0.4308 - accuracy: 0.8491 - val_loss: 0.3494 - val_accuracy: 0.8750\n",
      "Epoch 5/5\n",
      "7/7 [==============================] - 1s 185ms/step - loss: 0.3856 - accuracy: 0.8679 - val_loss: 0.4617 - val_accuracy: 0.8750\n",
      "Found 61 validated image filenames belonging to 2 classes.\n",
      "Found 15 validated image filenames belonging to 2 classes.\n",
      "Epoch 1/5\n"
     ]
    },
    {
     "name": "stderr",
     "output_type": "stream",
     "text": [
      "C:\\Users\\ASUS\\AppData\\Local\\Temp\\ipykernel_16956\\3368467860.py:59: UserWarning: `Model.fit_generator` is deprecated and will be removed in a future version. Please use `Model.fit`, which supports generators.\n",
      "  model.fit_generator(train_generator,\n"
     ]
    },
    {
     "name": "stdout",
     "output_type": "stream",
     "text": [
      "7/7 [==============================] - 1s 204ms/step - loss: 0.4983 - accuracy: 0.8113 - val_loss: 0.5377 - val_accuracy: 0.7500\n",
      "Epoch 2/5\n",
      "7/7 [==============================] - 1s 186ms/step - loss: 0.5203 - accuracy: 0.7925 - val_loss: 0.3774 - val_accuracy: 0.8750\n",
      "Epoch 3/5\n",
      "7/7 [==============================] - 1s 185ms/step - loss: 0.5030 - accuracy: 0.7925 - val_loss: 0.4407 - val_accuracy: 0.8750\n",
      "Epoch 4/5\n",
      "7/7 [==============================] - 1s 182ms/step - loss: 0.4804 - accuracy: 0.8113 - val_loss: 0.5644 - val_accuracy: 0.7500\n",
      "Epoch 5/5\n",
      "7/7 [==============================] - 1s 191ms/step - loss: 0.4631 - accuracy: 0.8113 - val_loss: 0.4372 - val_accuracy: 0.8750\n",
      "Found 61 validated image filenames belonging to 2 classes.\n",
      "Found 15 validated image filenames belonging to 2 classes.\n",
      "Epoch 1/5\n"
     ]
    },
    {
     "name": "stderr",
     "output_type": "stream",
     "text": [
      "C:\\Users\\ASUS\\AppData\\Local\\Temp\\ipykernel_16956\\3368467860.py:59: UserWarning: `Model.fit_generator` is deprecated and will be removed in a future version. Please use `Model.fit`, which supports generators.\n",
      "  model.fit_generator(train_generator,\n"
     ]
    },
    {
     "name": "stdout",
     "output_type": "stream",
     "text": [
      "7/7 [==============================] - 1s 214ms/step - loss: 0.3937 - accuracy: 0.8679 - val_loss: 0.5643 - val_accuracy: 0.7500\n",
      "Epoch 2/5\n",
      "7/7 [==============================] - 1s 204ms/step - loss: 0.3981 - accuracy: 0.8571 - val_loss: 0.1575 - val_accuracy: 1.0000\n",
      "Epoch 3/5\n",
      "7/7 [==============================] - 1s 190ms/step - loss: 0.3362 - accuracy: 0.8868 - val_loss: 0.8036 - val_accuracy: 0.6250\n",
      "Epoch 4/5\n",
      "7/7 [==============================] - 1s 194ms/step - loss: 0.3953 - accuracy: 0.8491 - val_loss: 0.2041 - val_accuracy: 1.0000\n",
      "Epoch 5/5\n",
      "7/7 [==============================] - 1s 187ms/step - loss: 0.3776 - accuracy: 0.8679 - val_loss: 0.4478 - val_accuracy: 0.8750\n",
      "Found 61 validated image filenames belonging to 2 classes.\n",
      "Found 15 validated image filenames belonging to 2 classes.\n"
     ]
    },
    {
     "name": "stderr",
     "output_type": "stream",
     "text": [
      "C:\\Users\\ASUS\\AppData\\Local\\Temp\\ipykernel_16956\\3368467860.py:59: UserWarning: `Model.fit_generator` is deprecated and will be removed in a future version. Please use `Model.fit`, which supports generators.\n",
      "  model.fit_generator(train_generator,\n"
     ]
    },
    {
     "name": "stdout",
     "output_type": "stream",
     "text": [
      "Epoch 1/5\n",
      "7/7 [==============================] - 1s 209ms/step - loss: 0.4417 - accuracy: 0.8302 - val_loss: 0.5398 - val_accuracy: 0.7500\n",
      "Epoch 2/5\n",
      "7/7 [==============================] - 1s 196ms/step - loss: 0.4281 - accuracy: 0.8302 - val_loss: 0.1193 - val_accuracy: 1.0000\n",
      "Epoch 3/5\n",
      "7/7 [==============================] - 1s 203ms/step - loss: 0.4526 - accuracy: 0.8113 - val_loss: 0.7695 - val_accuracy: 0.6250\n",
      "Epoch 4/5\n",
      "7/7 [==============================] - 1s 199ms/step - loss: 0.4458 - accuracy: 0.8113 - val_loss: 0.4000 - val_accuracy: 0.8750\n",
      "Epoch 5/5\n",
      "7/7 [==============================] - 1s 201ms/step - loss: 0.4495 - accuracy: 0.8113 - val_loss: 0.4450 - val_accuracy: 0.8750\n",
      "Found 61 validated image filenames belonging to 2 classes.\n",
      "Found 15 validated image filenames belonging to 2 classes.\n",
      "Epoch 1/5\n"
     ]
    },
    {
     "name": "stderr",
     "output_type": "stream",
     "text": [
      "C:\\Users\\ASUS\\AppData\\Local\\Temp\\ipykernel_16956\\3368467860.py:59: UserWarning: `Model.fit_generator` is deprecated and will be removed in a future version. Please use `Model.fit`, which supports generators.\n",
      "  model.fit_generator(train_generator,\n"
     ]
    },
    {
     "name": "stdout",
     "output_type": "stream",
     "text": [
      "7/7 [==============================] - 2s 219ms/step - loss: 0.4347 - accuracy: 0.8214 - val_loss: 0.6888 - val_accuracy: 0.6250\n",
      "Epoch 2/5\n",
      "7/7 [==============================] - 1s 192ms/step - loss: 0.4353 - accuracy: 0.8113 - val_loss: 0.3527 - val_accuracy: 0.8750\n",
      "Epoch 3/5\n",
      "7/7 [==============================] - 1s 191ms/step - loss: 0.4568 - accuracy: 0.8302 - val_loss: 0.7482 - val_accuracy: 0.6250\n",
      "Epoch 4/5\n",
      "7/7 [==============================] - 1s 199ms/step - loss: 0.4389 - accuracy: 0.8113 - val_loss: 0.3593 - val_accuracy: 0.8750\n",
      "Epoch 5/5\n",
      "7/7 [==============================] - 1s 195ms/step - loss: 0.4021 - accuracy: 0.8393 - val_loss: 0.3493 - val_accuracy: 0.8750\n",
      "Found 61 validated image filenames belonging to 2 classes.\n",
      "Found 15 validated image filenames belonging to 2 classes.\n",
      "Epoch 1/5\n"
     ]
    },
    {
     "name": "stderr",
     "output_type": "stream",
     "text": [
      "C:\\Users\\ASUS\\AppData\\Local\\Temp\\ipykernel_16956\\3368467860.py:59: UserWarning: `Model.fit_generator` is deprecated and will be removed in a future version. Please use `Model.fit`, which supports generators.\n",
      "  model.fit_generator(train_generator,\n"
     ]
    },
    {
     "name": "stdout",
     "output_type": "stream",
     "text": [
      "7/7 [==============================] - 1s 222ms/step - loss: 0.2984 - accuracy: 0.9057 - val_loss: 0.3421 - val_accuracy: 0.8750\n",
      "Epoch 2/5\n",
      "7/7 [==============================] - 1s 198ms/step - loss: 0.3493 - accuracy: 0.8868 - val_loss: 0.3843 - val_accuracy: 0.8750\n",
      "Epoch 3/5\n",
      "7/7 [==============================] - 1s 192ms/step - loss: 0.3689 - accuracy: 0.8679 - val_loss: 0.5559 - val_accuracy: 0.7500\n",
      "Epoch 4/5\n",
      "7/7 [==============================] - 1s 195ms/step - loss: 0.3205 - accuracy: 0.8868 - val_loss: 0.3521 - val_accuracy: 0.8750\n",
      "Epoch 5/5\n",
      "7/7 [==============================] - 1s 191ms/step - loss: 0.3452 - accuracy: 0.8868 - val_loss: 0.1888 - val_accuracy: 1.0000\n",
      "Found 61 validated image filenames belonging to 1 classes.\n",
      "Found 15 validated image filenames belonging to 1 classes.\n",
      "Epoch 1/5\n"
     ]
    },
    {
     "name": "stderr",
     "output_type": "stream",
     "text": [
      "C:\\Users\\ASUS\\AppData\\Local\\Temp\\ipykernel_16956\\3368467860.py:59: UserWarning: `Model.fit_generator` is deprecated and will be removed in a future version. Please use `Model.fit`, which supports generators.\n",
      "  model.fit_generator(train_generator,\n"
     ]
    },
    {
     "name": "stdout",
     "output_type": "stream",
     "text": [
      "7/7 [==============================] - 1s 211ms/step - loss: 0.8827 - accuracy: 1.0000 - val_loss: 0.7054 - val_accuracy: 1.0000\n",
      "Epoch 2/5\n",
      "7/7 [==============================] - 1s 194ms/step - loss: 0.6603 - accuracy: 1.0000 - val_loss: 0.5118 - val_accuracy: 1.0000\n",
      "Epoch 3/5\n",
      "7/7 [==============================] - 1s 198ms/step - loss: 0.5031 - accuracy: 1.0000 - val_loss: 0.4854 - val_accuracy: 1.0000\n",
      "Epoch 4/5\n",
      "7/7 [==============================] - 1s 191ms/step - loss: 0.4835 - accuracy: 1.0000 - val_loss: 0.4811 - val_accuracy: 1.0000\n",
      "Epoch 5/5\n",
      "7/7 [==============================] - 1s 186ms/step - loss: 0.4794 - accuracy: 1.0000 - val_loss: 0.4768 - val_accuracy: 1.0000\n",
      "Found 61 validated image filenames belonging to 2 classes.\n",
      "Found 15 validated image filenames belonging to 2 classes.\n",
      "Epoch 1/5\n"
     ]
    },
    {
     "name": "stderr",
     "output_type": "stream",
     "text": [
      "C:\\Users\\ASUS\\AppData\\Local\\Temp\\ipykernel_16956\\3368467860.py:59: UserWarning: `Model.fit_generator` is deprecated and will be removed in a future version. Please use `Model.fit`, which supports generators.\n",
      "  model.fit_generator(train_generator,\n"
     ]
    },
    {
     "name": "stdout",
     "output_type": "stream",
     "text": [
      "7/7 [==============================] - 1s 211ms/step - loss: 0.4597 - accuracy: 0.9811 - val_loss: 0.4460 - val_accuracy: 1.0000\n",
      "Epoch 2/5\n",
      "7/7 [==============================] - 1s 192ms/step - loss: 0.4587 - accuracy: 0.9811 - val_loss: 0.4441 - val_accuracy: 1.0000\n",
      "Epoch 3/5\n",
      "7/7 [==============================] - 1s 187ms/step - loss: 0.4565 - accuracy: 0.9811 - val_loss: 0.4412 - val_accuracy: 1.0000\n",
      "Epoch 4/5\n",
      "7/7 [==============================] - 1s 198ms/step - loss: 0.4398 - accuracy: 1.0000 - val_loss: 0.4379 - val_accuracy: 1.0000\n",
      "Epoch 5/5\n",
      "7/7 [==============================] - 1s 188ms/step - loss: 0.4366 - accuracy: 1.0000 - val_loss: 0.5281 - val_accuracy: 0.8750\n",
      "Found 61 validated image filenames belonging to 1 classes.\n",
      "Found 15 validated image filenames belonging to 1 classes.\n",
      "Epoch 1/5\n"
     ]
    },
    {
     "name": "stderr",
     "output_type": "stream",
     "text": [
      "C:\\Users\\ASUS\\AppData\\Local\\Temp\\ipykernel_16956\\3368467860.py:59: UserWarning: `Model.fit_generator` is deprecated and will be removed in a future version. Please use `Model.fit`, which supports generators.\n",
      "  model.fit_generator(train_generator,\n"
     ]
    },
    {
     "name": "stdout",
     "output_type": "stream",
     "text": [
      "7/7 [==============================] - 1s 211ms/step - loss: 0.4777 - accuracy: 1.0000 - val_loss: 0.4773 - val_accuracy: 1.0000\n",
      "Epoch 2/5\n",
      "7/7 [==============================] - 1s 191ms/step - loss: 0.4764 - accuracy: 1.0000 - val_loss: 0.4750 - val_accuracy: 1.0000\n",
      "Epoch 3/5\n",
      "7/7 [==============================] - 1s 193ms/step - loss: 0.4738 - accuracy: 1.0000 - val_loss: 0.4718 - val_accuracy: 1.0000\n",
      "Epoch 4/5\n",
      "7/7 [==============================] - 1s 200ms/step - loss: 0.4702 - accuracy: 1.0000 - val_loss: 0.4683 - val_accuracy: 1.0000\n",
      "Epoch 5/5\n",
      "7/7 [==============================] - 1s 193ms/step - loss: 0.4667 - accuracy: 1.0000 - val_loss: 0.4645 - val_accuracy: 1.0000\n",
      "Found 61 validated image filenames belonging to 2 classes.\n",
      "Found 15 validated image filenames belonging to 2 classes.\n",
      "Epoch 1/5\n"
     ]
    },
    {
     "name": "stderr",
     "output_type": "stream",
     "text": [
      "C:\\Users\\ASUS\\AppData\\Local\\Temp\\ipykernel_16956\\3368467860.py:59: UserWarning: `Model.fit_generator` is deprecated and will be removed in a future version. Please use `Model.fit`, which supports generators.\n",
      "  model.fit_generator(train_generator,\n"
     ]
    },
    {
     "name": "stdout",
     "output_type": "stream",
     "text": [
      "7/7 [==============================] - 2s 221ms/step - loss: 0.4502 - accuracy: 0.9821 - val_loss: 0.4364 - val_accuracy: 1.0000\n",
      "Epoch 2/5\n",
      "7/7 [==============================] - 1s 191ms/step - loss: 0.4502 - accuracy: 0.9811 - val_loss: 0.4346 - val_accuracy: 1.0000\n",
      "Epoch 3/5\n",
      "7/7 [==============================] - 1s 191ms/step - loss: 0.4336 - accuracy: 1.0000 - val_loss: 0.4321 - val_accuracy: 1.0000\n",
      "Epoch 4/5\n",
      "7/7 [==============================] - 1s 188ms/step - loss: 0.4308 - accuracy: 1.0000 - val_loss: 0.4291 - val_accuracy: 1.0000\n",
      "Epoch 5/5\n",
      "7/7 [==============================] - 1s 187ms/step - loss: 0.4428 - accuracy: 0.9811 - val_loss: 0.4259 - val_accuracy: 1.0000\n",
      "Found 61 validated image filenames belonging to 1 classes.\n",
      "Found 15 validated image filenames belonging to 1 classes.\n",
      "Epoch 1/5\n"
     ]
    },
    {
     "name": "stderr",
     "output_type": "stream",
     "text": [
      "C:\\Users\\ASUS\\AppData\\Local\\Temp\\ipykernel_16956\\3368467860.py:59: UserWarning: `Model.fit_generator` is deprecated and will be removed in a future version. Please use `Model.fit`, which supports generators.\n",
      "  model.fit_generator(train_generator,\n"
     ]
    },
    {
     "name": "stdout",
     "output_type": "stream",
     "text": [
      "7/7 [==============================] - 1s 208ms/step - loss: 0.4665 - accuracy: 1.0000 - val_loss: 0.4662 - val_accuracy: 1.0000\n",
      "Epoch 2/5\n",
      "7/7 [==============================] - 1s 199ms/step - loss: 0.4654 - accuracy: 1.0000 - val_loss: 0.4641 - val_accuracy: 1.0000\n",
      "Epoch 3/5\n",
      "7/7 [==============================] - 1s 190ms/step - loss: 0.4630 - accuracy: 1.0000 - val_loss: 0.4613 - val_accuracy: 1.0000\n",
      "Epoch 4/5\n",
      "7/7 [==============================] - 1s 193ms/step - loss: 0.4599 - accuracy: 1.0000 - val_loss: 0.4580 - val_accuracy: 1.0000\n",
      "Epoch 5/5\n",
      "7/7 [==============================] - 1s 187ms/step - loss: 0.4566 - accuracy: 1.0000 - val_loss: 0.4546 - val_accuracy: 1.0000\n",
      "Found 61 validated image filenames belonging to 1 classes.\n",
      "Found 15 validated image filenames belonging to 1 classes.\n",
      "Epoch 1/5\n"
     ]
    },
    {
     "name": "stderr",
     "output_type": "stream",
     "text": [
      "C:\\Users\\ASUS\\AppData\\Local\\Temp\\ipykernel_16956\\3368467860.py:59: UserWarning: `Model.fit_generator` is deprecated and will be removed in a future version. Please use `Model.fit`, which supports generators.\n",
      "  model.fit_generator(train_generator,\n"
     ]
    },
    {
     "name": "stdout",
     "output_type": "stream",
     "text": [
      "7/7 [==============================] - 1s 206ms/step - loss: 0.4531 - accuracy: 1.0000 - val_loss: 0.4512 - val_accuracy: 1.0000\n",
      "Epoch 2/5\n",
      "7/7 [==============================] - 1s 189ms/step - loss: 0.4497 - accuracy: 1.0000 - val_loss: 0.4477 - val_accuracy: 1.0000\n",
      "Epoch 3/5\n",
      "7/7 [==============================] - 1s 190ms/step - loss: 0.4463 - accuracy: 1.0000 - val_loss: 0.4443 - val_accuracy: 1.0000\n",
      "Epoch 4/5\n",
      "7/7 [==============================] - 1s 187ms/step - loss: 0.4429 - accuracy: 1.0000 - val_loss: 0.4409 - val_accuracy: 1.0000\n",
      "Epoch 5/5\n",
      "7/7 [==============================] - 1s 198ms/step - loss: 0.4395 - accuracy: 1.0000 - val_loss: 0.4376 - val_accuracy: 1.0000\n",
      "Found 61 validated image filenames belonging to 1 classes.\n",
      "Found 15 validated image filenames belonging to 1 classes.\n",
      "Epoch 1/5\n"
     ]
    },
    {
     "name": "stderr",
     "output_type": "stream",
     "text": [
      "C:\\Users\\ASUS\\AppData\\Local\\Temp\\ipykernel_16956\\3368467860.py:59: UserWarning: `Model.fit_generator` is deprecated and will be removed in a future version. Please use `Model.fit`, which supports generators.\n",
      "  model.fit_generator(train_generator,\n"
     ]
    },
    {
     "name": "stdout",
     "output_type": "stream",
     "text": [
      "7/7 [==============================] - 2s 223ms/step - loss: 0.4362 - accuracy: 1.0000 - val_loss: 0.4343 - val_accuracy: 1.0000\n",
      "Epoch 2/5\n",
      "7/7 [==============================] - 1s 203ms/step - loss: 0.4329 - accuracy: 1.0000 - val_loss: 0.4311 - val_accuracy: 1.0000\n",
      "Epoch 3/5\n",
      "7/7 [==============================] - 1s 188ms/step - loss: 0.4298 - accuracy: 1.0000 - val_loss: 0.4279 - val_accuracy: 1.0000\n",
      "Epoch 4/5\n",
      "7/7 [==============================] - 1s 191ms/step - loss: 0.4265 - accuracy: 1.0000 - val_loss: 0.4248 - val_accuracy: 1.0000\n",
      "Epoch 5/5\n",
      "7/7 [==============================] - 1s 191ms/step - loss: 0.4235 - accuracy: 1.0000 - val_loss: 0.4217 - val_accuracy: 1.0000\n",
      "Found 61 validated image filenames belonging to 2 classes.\n",
      "Found 15 validated image filenames belonging to 2 classes.\n",
      "Epoch 1/5\n"
     ]
    },
    {
     "name": "stderr",
     "output_type": "stream",
     "text": [
      "C:\\Users\\ASUS\\AppData\\Local\\Temp\\ipykernel_16956\\3368467860.py:59: UserWarning: `Model.fit_generator` is deprecated and will be removed in a future version. Please use `Model.fit`, which supports generators.\n",
      "  model.fit_generator(train_generator,\n"
     ]
    },
    {
     "name": "stdout",
     "output_type": "stream",
     "text": [
      "7/7 [==============================] - 1s 205ms/step - loss: 0.4618 - accuracy: 0.9811 - val_loss: 0.4465 - val_accuracy: 1.0000\n",
      "Epoch 2/5\n",
      "7/7 [==============================] - 1s 188ms/step - loss: 0.4459 - accuracy: 1.0000 - val_loss: 0.4449 - val_accuracy: 1.0000\n",
      "Epoch 3/5\n",
      "7/7 [==============================] - 1s 191ms/step - loss: 0.4438 - accuracy: 1.0000 - val_loss: 0.4425 - val_accuracy: 1.0000\n",
      "Epoch 4/5\n",
      "7/7 [==============================] - 1s 197ms/step - loss: 0.4560 - accuracy: 0.9821 - val_loss: 0.4397 - val_accuracy: 1.0000\n",
      "Epoch 5/5\n",
      "7/7 [==============================] - 1s 196ms/step - loss: 0.4533 - accuracy: 0.9821 - val_loss: 0.4368 - val_accuracy: 1.0000\n",
      "Found 61 validated image filenames belonging to 2 classes.\n",
      "Found 15 validated image filenames belonging to 2 classes.\n",
      "Epoch 1/5\n"
     ]
    },
    {
     "name": "stderr",
     "output_type": "stream",
     "text": [
      "C:\\Users\\ASUS\\AppData\\Local\\Temp\\ipykernel_16956\\3368467860.py:59: UserWarning: `Model.fit_generator` is deprecated and will be removed in a future version. Please use `Model.fit`, which supports generators.\n",
      "  model.fit_generator(train_generator,\n"
     ]
    },
    {
     "name": "stdout",
     "output_type": "stream",
     "text": [
      "7/7 [==============================] - 1s 205ms/step - loss: 0.4513 - accuracy: 0.9811 - val_loss: 0.4339 - val_accuracy: 1.0000\n",
      "Epoch 2/5\n",
      "7/7 [==============================] - 1s 187ms/step - loss: 0.4487 - accuracy: 0.9811 - val_loss: 0.4310 - val_accuracy: 1.0000\n",
      "Epoch 3/5\n",
      "7/7 [==============================] - 1s 183ms/step - loss: 0.4460 - accuracy: 0.9811 - val_loss: 0.4281 - val_accuracy: 1.0000\n",
      "Epoch 4/5\n",
      "7/7 [==============================] - 1s 191ms/step - loss: 0.4432 - accuracy: 0.9811 - val_loss: 0.4253 - val_accuracy: 1.0000\n",
      "Epoch 5/5\n",
      "7/7 [==============================] - 1s 186ms/step - loss: 0.4406 - accuracy: 0.9811 - val_loss: 0.5322 - val_accuracy: 0.8750\n",
      "Found 61 validated image filenames belonging to 1 classes.\n",
      "Found 15 validated image filenames belonging to 1 classes.\n",
      "Epoch 1/5\n"
     ]
    },
    {
     "name": "stderr",
     "output_type": "stream",
     "text": [
      "C:\\Users\\ASUS\\AppData\\Local\\Temp\\ipykernel_16956\\3368467860.py:59: UserWarning: `Model.fit_generator` is deprecated and will be removed in a future version. Please use `Model.fit`, which supports generators.\n",
      "  model.fit_generator(train_generator,\n"
     ]
    },
    {
     "name": "stdout",
     "output_type": "stream",
     "text": [
      "7/7 [==============================] - 1s 212ms/step - loss: 0.4337 - accuracy: 1.0000 - val_loss: 0.4336 - val_accuracy: 1.0000\n",
      "Epoch 2/5\n",
      "7/7 [==============================] - 1s 198ms/step - loss: 0.4331 - accuracy: 1.0000 - val_loss: 0.4321 - val_accuracy: 1.0000\n",
      "Epoch 3/5\n",
      "7/7 [==============================] - 1s 187ms/step - loss: 0.4312 - accuracy: 1.0000 - val_loss: 0.4299 - val_accuracy: 1.0000\n",
      "Epoch 4/5\n",
      "7/7 [==============================] - 1s 192ms/step - loss: 0.4287 - accuracy: 1.0000 - val_loss: 0.4272 - val_accuracy: 1.0000\n",
      "Epoch 5/5\n",
      "7/7 [==============================] - 1s 183ms/step - loss: 0.4261 - accuracy: 1.0000 - val_loss: 0.4244 - val_accuracy: 1.0000\n",
      "Found 61 validated image filenames belonging to 1 classes.\n",
      "Found 15 validated image filenames belonging to 1 classes.\n",
      "Epoch 1/5\n"
     ]
    },
    {
     "name": "stderr",
     "output_type": "stream",
     "text": [
      "C:\\Users\\ASUS\\AppData\\Local\\Temp\\ipykernel_16956\\3368467860.py:59: UserWarning: `Model.fit_generator` is deprecated and will be removed in a future version. Please use `Model.fit`, which supports generators.\n",
      "  model.fit_generator(train_generator,\n"
     ]
    },
    {
     "name": "stdout",
     "output_type": "stream",
     "text": [
      "7/7 [==============================] - 1s 202ms/step - loss: 0.4232 - accuracy: 1.0000 - val_loss: 0.4216 - val_accuracy: 1.0000\n",
      "Epoch 2/5\n",
      "7/7 [==============================] - 1s 191ms/step - loss: 0.4203 - accuracy: 1.0000 - val_loss: 0.4187 - val_accuracy: 1.0000\n",
      "Epoch 3/5\n",
      "7/7 [==============================] - 1s 183ms/step - loss: 0.4176 - accuracy: 1.0000 - val_loss: 0.4159 - val_accuracy: 1.0000\n",
      "Epoch 4/5\n",
      "7/7 [==============================] - 1s 193ms/step - loss: 0.4146 - accuracy: 1.0000 - val_loss: 0.4131 - val_accuracy: 1.0000\n",
      "Epoch 5/5\n",
      "7/7 [==============================] - 1s 183ms/step - loss: 0.4119 - accuracy: 1.0000 - val_loss: 0.4103 - val_accuracy: 1.0000\n",
      "Found 61 validated image filenames belonging to 2 classes.\n",
      "Found 15 validated image filenames belonging to 2 classes.\n",
      "Epoch 1/5\n"
     ]
    },
    {
     "name": "stderr",
     "output_type": "stream",
     "text": [
      "C:\\Users\\ASUS\\AppData\\Local\\Temp\\ipykernel_16956\\3368467860.py:59: UserWarning: `Model.fit_generator` is deprecated and will be removed in a future version. Please use `Model.fit`, which supports generators.\n",
      "  model.fit_generator(train_generator,\n"
     ]
    },
    {
     "name": "stdout",
     "output_type": "stream",
     "text": [
      "7/7 [==============================] - 1s 207ms/step - loss: 0.4516 - accuracy: 0.9811 - val_loss: 0.4350 - val_accuracy: 1.0000\n",
      "Epoch 2/5\n",
      "7/7 [==============================] - 1s 188ms/step - loss: 0.4345 - accuracy: 1.0000 - val_loss: 0.4336 - val_accuracy: 1.0000\n",
      "Epoch 3/5\n",
      "7/7 [==============================] - 1s 188ms/step - loss: 0.4496 - accuracy: 0.9811 - val_loss: 0.4315 - val_accuracy: 1.0000\n",
      "Epoch 4/5\n",
      "7/7 [==============================] - 1s 194ms/step - loss: 0.4474 - accuracy: 0.9811 - val_loss: 0.4290 - val_accuracy: 1.0000\n",
      "Epoch 5/5\n",
      "7/7 [==============================] - 1s 188ms/step - loss: 0.4279 - accuracy: 1.0000 - val_loss: 0.4264 - val_accuracy: 1.0000\n",
      "Found 61 validated image filenames belonging to 1 classes.\n",
      "Found 15 validated image filenames belonging to 1 classes.\n",
      "Epoch 1/5\n"
     ]
    },
    {
     "name": "stderr",
     "output_type": "stream",
     "text": [
      "C:\\Users\\ASUS\\AppData\\Local\\Temp\\ipykernel_16956\\3368467860.py:59: UserWarning: `Model.fit_generator` is deprecated and will be removed in a future version. Please use `Model.fit`, which supports generators.\n",
      "  model.fit_generator(train_generator,\n"
     ]
    },
    {
     "name": "stdout",
     "output_type": "stream",
     "text": [
      "7/7 [==============================] - 1s 203ms/step - loss: 0.4139 - accuracy: 1.0000 - val_loss: 0.4139 - val_accuracy: 1.0000\n",
      "Epoch 2/5\n",
      "7/7 [==============================] - 1s 192ms/step - loss: 0.4134 - accuracy: 1.0000 - val_loss: 0.4126 - val_accuracy: 1.0000\n",
      "Epoch 3/5\n",
      "7/7 [==============================] - 1s 194ms/step - loss: 0.4117 - accuracy: 1.0000 - val_loss: 0.4105 - val_accuracy: 1.0000\n",
      "Epoch 4/5\n",
      "7/7 [==============================] - 1s 185ms/step - loss: 0.4096 - accuracy: 1.0000 - val_loss: 0.4082 - val_accuracy: 1.0000\n",
      "Epoch 5/5\n",
      "7/7 [==============================] - 1s 189ms/step - loss: 0.4071 - accuracy: 1.0000 - val_loss: 0.4057 - val_accuracy: 1.0000\n",
      "Found 61 validated image filenames belonging to 1 classes.\n",
      "Found 15 validated image filenames belonging to 1 classes.\n",
      "Epoch 1/5\n"
     ]
    },
    {
     "name": "stderr",
     "output_type": "stream",
     "text": [
      "C:\\Users\\ASUS\\AppData\\Local\\Temp\\ipykernel_16956\\3368467860.py:59: UserWarning: `Model.fit_generator` is deprecated and will be removed in a future version. Please use `Model.fit`, which supports generators.\n",
      "  model.fit_generator(train_generator,\n"
     ]
    },
    {
     "name": "stdout",
     "output_type": "stream",
     "text": [
      "7/7 [==============================] - 1s 206ms/step - loss: 0.4046 - accuracy: 1.0000 - val_loss: 0.4031 - val_accuracy: 1.0000\n",
      "Epoch 2/5\n",
      "7/7 [==============================] - 1s 195ms/step - loss: 0.4020 - accuracy: 1.0000 - val_loss: 0.4005 - val_accuracy: 1.0000\n",
      "Epoch 3/5\n",
      "7/7 [==============================] - 1s 195ms/step - loss: 0.3994 - accuracy: 1.0000 - val_loss: 0.3980 - val_accuracy: 1.0000\n",
      "Epoch 4/5\n",
      "7/7 [==============================] - 1s 187ms/step - loss: 0.3969 - accuracy: 1.0000 - val_loss: 0.3954 - val_accuracy: 1.0000\n",
      "Epoch 5/5\n",
      "7/7 [==============================] - 1s 198ms/step - loss: 0.3943 - accuracy: 1.0000 - val_loss: 0.3929 - val_accuracy: 1.0000\n",
      "Found 61 validated image filenames belonging to 1 classes.\n",
      "Found 15 validated image filenames belonging to 1 classes.\n",
      "Epoch 1/5\n"
     ]
    },
    {
     "name": "stderr",
     "output_type": "stream",
     "text": [
      "C:\\Users\\ASUS\\AppData\\Local\\Temp\\ipykernel_16956\\3368467860.py:59: UserWarning: `Model.fit_generator` is deprecated and will be removed in a future version. Please use `Model.fit`, which supports generators.\n",
      "  model.fit_generator(train_generator,\n"
     ]
    },
    {
     "name": "stdout",
     "output_type": "stream",
     "text": [
      "7/7 [==============================] - 1s 207ms/step - loss: 0.3918 - accuracy: 1.0000 - val_loss: 0.3904 - val_accuracy: 1.0000\n",
      "Epoch 2/5\n",
      "7/7 [==============================] - 1s 193ms/step - loss: 0.3894 - accuracy: 1.0000 - val_loss: 0.3880 - val_accuracy: 1.0000\n",
      "Epoch 3/5\n",
      "7/7 [==============================] - 1s 187ms/step - loss: 0.3870 - accuracy: 1.0000 - val_loss: 0.3855 - val_accuracy: 1.0000\n",
      "Epoch 4/5\n",
      "7/7 [==============================] - 1s 195ms/step - loss: 0.3845 - accuracy: 1.0000 - val_loss: 0.3831 - val_accuracy: 1.0000\n",
      "Epoch 5/5\n",
      "7/7 [==============================] - 1s 188ms/step - loss: 0.3821 - accuracy: 1.0000 - val_loss: 0.3807 - val_accuracy: 1.0000\n",
      "Found 76 validated image filenames.\n"
     ]
    }
   ],
   "source": [
    "# Train:\n",
    "\n",
    "for csv_file in os.listdir(csv_folder_path):\n",
    "    if csv_file.endswith(\".csv\"):\n",
    "        df = prepare_data_to_train(csv_file, csv_folder_path)\n",
    "        train_data(df, img_path)\n"
   ]
  },
  {
   "cell_type": "code",
   "execution_count": 82,
   "id": "e8187a8c-ef8e-4953-8be5-87965a672ab8",
   "metadata": {},
   "outputs": [
    {
     "name": "stdout",
     "output_type": "stream",
     "text": [
      "Found 15 validated image filenames belonging to 2 classes.\n",
      "2/2 [==============================] - 0s 89ms/step - loss: 0.4479 - accuracy: 1.0000\n",
      "\n",
      "Test loss: 0.44794896245002747\n",
      "Test accuracy: 1.0\n"
     ]
    }
   ],
   "source": [
    "# Evaluate\n",
    "\n",
    "csv_test_path = \"D:/UIT/DACN/test_csv/2024-01-15-11-02-05.csv\"\n",
    "columns_to_keep = [\"City\", \"Rain (mm)\"]\n",
    "test_df = pd.read_csv(csv_test_path, usecols=columns_to_keep)\n",
    "test_df[\"Rain (mm)\"] = test_df[\"Rain (mm)\"].apply(map_rain_value)\n",
    "test_df['City'] = test_df['City'].apply(lambda x: x + '.png')\n",
    "test_df['Rain (mm)'] = test_df['Rain (mm)'].astype(str)\n",
    "\n",
    "train_datagen = ImageDataGenerator(\n",
    "        rescale=1 / 255.0,\n",
    "        rotation_range=20,\n",
    "        zoom_range=0.05,\n",
    "        width_shift_range=0.05,\n",
    "        height_shift_range=0.05,\n",
    "        shear_range=0.05,\n",
    "        horizontal_flip=True,\n",
    "        fill_mode=\"nearest\",\n",
    "        validation_split=0.20)\n",
    "\n",
    "valid_generator = train_datagen.flow_from_dataframe(\n",
    "        dataframe=test_df,\n",
    "        directory=img_path_test,\n",
    "        x_col=\"City\",\n",
    "        y_col=\"Rain (mm)\",\n",
    "        target_size=(224, 224),\n",
    "        batch_size=8,\n",
    "        class_mode=\"categorical\",\n",
    "        subset='validation',\n",
    "        shuffle=True,\n",
    "        seed=42)\n",
    "\n",
    "score = model.evaluate(valid_generator)\n",
    "print('\\nTest loss:', score[0])\n",
    "print('Test accuracy:', score[1])\n"
   ]
  },
  {
   "cell_type": "code",
   "execution_count": 80,
   "id": "2d7c4b00-55b9-4562-b7b0-be2d009537f3",
   "metadata": {},
   "outputs": [
    {
     "name": "stdout",
     "output_type": "stream",
     "text": [
      "Found 76 validated image filenames.\n",
      "76/76 [==============================] - 1s 13ms/step\n"
     ]
    }
   ],
   "source": [
    "# Predict:\n",
    "\n",
    "test_datagen = ImageDataGenerator(\n",
    "        rescale=1 / 255.0,\n",
    "        rotation_range=20,\n",
    "        zoom_range=0.05,\n",
    "        width_shift_range=0.05,\n",
    "        height_shift_range=0.05,\n",
    "        shear_range=0.05,\n",
    "        horizontal_flip=True,\n",
    "        fill_mode=\"nearest\",\n",
    "        validation_split=0.20)        \n",
    "\n",
    "test_generator = test_datagen.flow_from_dataframe(\n",
    "    dataframe=test_df,\n",
    "    directory=img_path_test,\n",
    "    x_col=\"City\",\n",
    "    target_size=(224, 224),\n",
    "    batch_size=1,\n",
    "    class_mode=None,\n",
    "    shuffle=False,)\n",
    "\n",
    "predict = model.predict(test_generator, steps=len(test_generator.filenames))"
   ]
  },
  {
   "cell_type": "code",
   "execution_count": 62,
   "id": "eaa63857-b9f1-4f2d-a924-e01fe43f9203",
   "metadata": {},
   "outputs": [
    {
     "name": "stdout",
     "output_type": "stream",
     "text": [
      "[0 0 0 0 0 0 0 0 0 0 0 0 0 0 0 0 0 0 0 0 0 0 0 0 0 0 0 0 0 0 0 0 0 0 0 0 0\n",
      " 0 0 0 0 0 0 0 0 0 0 0 0 0 0 0 0 0 0 0 0 0 0 0 0 0 0 0 0 0 0 0 0 0 0 0 0 0\n",
      " 0 0]\n"
     ]
    }
   ],
   "source": [
    "result_predict = predict.argmax(axis=-1)\n",
    "print(result_predict)"
   ]
  },
  {
   "cell_type": "code",
   "execution_count": 76,
   "id": "6f44ab51-b03a-4255-ad17-ff09d669a5ec",
   "metadata": {},
   "outputs": [
    {
     "name": "stdout",
     "output_type": "stream",
     "text": [
      "[0 0 0 0 0 0 0 0 0 0 0 0 0 0 0 0 0 0 0 0 0 0 0 0 0 0 0 0 0 0 0 0 0 0 0 0 0\n",
      " 0 0 0 0 0 0 0 0 0 0 0 1 0 0 0 0 0 0 0 0 0 0 0 0 0 0 0 0 0 0 0 0 0 0 0 0 0\n",
      " 0 0]\n"
     ]
    }
   ],
   "source": [
    "real_result = np.array(test_df['Rain (mm)'].astype(int))\n",
    "print(np.array_str(real_result, precision=0, suppress_small=True))"
   ]
  },
  {
   "cell_type": "code",
   "execution_count": 79,
   "id": "a1dded06-866c-439b-a4fb-31aecfe92f10",
   "metadata": {},
   "outputs": [
    {
     "name": "stdout",
     "output_type": "stream",
     "text": [
      "              precision    recall  f1-score   support\n",
      "\n",
      "           0       0.99      1.00      0.99        75\n",
      "           1       1.00      0.00      0.00         1\n",
      "\n",
      "    accuracy                           0.99        76\n",
      "   macro avg       0.99      0.50      0.50        76\n",
      "weighted avg       0.99      0.99      0.98        76\n",
      "\n"
     ]
    }
   ],
   "source": [
    "# Classification report\n",
    "\n",
    "labels = test_df['Rain (mm)'].astype(int).tolist()\n",
    "\n",
    "predicted_labels = np.argmax(predict, axis=1)\n",
    "\n",
    "print(classification_report(labels, predicted_labels, zero_division=1))"
   ]
  }
 ],
 "metadata": {
  "kernelspec": {
   "display_name": "Python 3 (ipykernel)",
   "language": "python",
   "name": "python3"
  },
  "language_info": {
   "codemirror_mode": {
    "name": "ipython",
    "version": 3
   },
   "file_extension": ".py",
   "mimetype": "text/x-python",
   "name": "python",
   "nbconvert_exporter": "python",
   "pygments_lexer": "ipython3",
   "version": "3.11.7"
  }
 },
 "nbformat": 4,
 "nbformat_minor": 5
}
